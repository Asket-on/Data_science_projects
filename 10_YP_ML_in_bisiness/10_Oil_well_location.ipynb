{
 "cells": [
  {
   "cell_type": "markdown",
   "metadata": {},
   "source": [
    "# Проект: Выбор локации для скважины"
   ]
  },
  {
   "cell_type": "markdown",
   "metadata": {},
   "source": [
    "## Легенда"
   ]
  },
  {
   "cell_type": "markdown",
   "metadata": {},
   "source": [
    "Допустим, вы работаете в добывающей компании «ГлавРосГосНефть». Нужно решить, где бурить новую скважину.\n",
    "\n",
    "Вам предоставлены пробы нефти в трёх регионах: в каждом 10 000 месторождений, где измерили качество нефти и объём её запасов. Постройте модель машинного обучения, которая поможет определить регион, где добыча принесёт наибольшую прибыль. Проанализируйте возможную прибыль и риски техникой *Bootstrap.*\n",
    "\n",
    "Шаги для выбора локации:\n",
    "\n",
    "- В избранном регионе ищут месторождения, для каждого определяют значения признаков;\n",
    "- Строят модель и оценивают объём запасов;\n",
    "- Выбирают месторождения с самым высокими оценками значений. Количество месторождений зависит от бюджета компании и стоимости разработки одной скважины;\n",
    "- Прибыль равна суммарной прибыли отобранных месторождений."
   ]
  },
  {
   "cell_type": "markdown",
   "metadata": {},
   "source": [
    "## Загрузка и подготовка данных"
   ]
  },
  {
   "cell_type": "code",
   "execution_count": null,
   "metadata": {},
   "outputs": [],
   "source": [
    "%%capture\n",
    "!pip install fast_ml"
   ]
  },
  {
   "cell_type": "code",
   "execution_count": 27,
   "metadata": {},
   "outputs": [
    {
     "name": "stdout",
     "output_type": "stream",
     "text": [
      "Requirement already satisfied: fast_ml in /opt/conda/lib/python3.9/site-packages (3.68)\r\n"
     ]
    }
   ],
   "source": [
    "import warnings\n",
    "warnings.filterwarnings('ignore')\n",
    "\n",
    "import numpy as np\n",
    "import pandas as pd\n",
    "import re\n",
    "\n",
    "from IPython.display import display\n",
    "%matplotlib inline\n",
    "import matplotlib.pyplot as plt\n",
    "\n",
    "from fast_ml import eda\n",
    "\n",
    "from sklearn.preprocessing import StandardScaler\n",
    "\n",
    "from sklearn.metrics import (\n",
    "    f1_score, \n",
    "    accuracy_score, \n",
    "    recall_score, \n",
    "    precision_score\n",
    ")\n",
    "from sklearn.metrics import mean_squared_error\n",
    "\n",
    "from sklearn.linear_model import  LinearRegression\n",
    "from sklearn.model_selection import train_test_split\n",
    "from sklearn.utils import shuffle\n",
    "from sklearn.dummy import DummyClassifier\n",
    "\n",
    "RANDOM_STATE = 62"
   ]
  },
  {
   "cell_type": "code",
   "execution_count": 28,
   "metadata": {},
   "outputs": [],
   "source": [
    "data = {}"
   ]
  },
  {
   "cell_type": "code",
   "execution_count": 29,
   "metadata": {
    "scrolled": true
   },
   "outputs": [],
   "source": [
    "def data_preparation(number_file):\n",
    "    name_region = number_file + 1\n",
    "    try:\n",
    "        data[name_region] = pd.read_csv(\n",
    "    f'C:\\\\Users\\\\m5612\\\\Downloads\\\\geo_data_{number_file}.csv')\n",
    "    except:\n",
    "        pass\n",
    "\n",
    "    print('Датафрейм:')\n",
    "    display(data[name_region].head())\n",
    "    \n",
    "    print('\\nОписание:')\n",
    "    display(data[name_region].describe())\n",
    "    \n",
    "    print('\\nИнфо:')\n",
    "    display(eda.df_info(data[name_region]))\n",
    "    \n",
    "    print('\\nКорреляция:')\n",
    "    display(data[name_region].corr())\n",
    "    \n",
    "    print('\\nУдалим столбец id:')\n",
    "    data[name_region].drop(columns='id', inplace=True)\n",
    "    display(data[name_region].head(1))\n",
    "\n",
    "    print('\\nГистограмма:')\n",
    "    data[name_region].hist(figsize=(15, 15), bins=100);"
   ]
  },
  {
   "cell_type": "markdown",
   "metadata": {},
   "source": [
    "#### Регион 0"
   ]
  },
  {
   "cell_type": "code",
   "execution_count": 30,
   "metadata": {
    "scrolled": true
   },
   "outputs": [
    {
     "name": "stdout",
     "output_type": "stream",
     "text": [
      "Датафрейм:\n"
     ]
    },
    {
     "data": {
      "text/html": [
       "<div>\n",
       "<style scoped>\n",
       "    .dataframe tbody tr th:only-of-type {\n",
       "        vertical-align: middle;\n",
       "    }\n",
       "\n",
       "    .dataframe tbody tr th {\n",
       "        vertical-align: top;\n",
       "    }\n",
       "\n",
       "    .dataframe thead th {\n",
       "        text-align: right;\n",
       "    }\n",
       "</style>\n",
       "<table border=\"1\" class=\"dataframe\">\n",
       "  <thead>\n",
       "    <tr style=\"text-align: right;\">\n",
       "      <th></th>\n",
       "      <th>id</th>\n",
       "      <th>f0</th>\n",
       "      <th>f1</th>\n",
       "      <th>f2</th>\n",
       "      <th>product</th>\n",
       "    </tr>\n",
       "  </thead>\n",
       "  <tbody>\n",
       "    <tr>\n",
       "      <th>0</th>\n",
       "      <td>txEyH</td>\n",
       "      <td>0.705745</td>\n",
       "      <td>-0.497823</td>\n",
       "      <td>1.221170</td>\n",
       "      <td>105.280062</td>\n",
       "    </tr>\n",
       "    <tr>\n",
       "      <th>1</th>\n",
       "      <td>2acmU</td>\n",
       "      <td>1.334711</td>\n",
       "      <td>-0.340164</td>\n",
       "      <td>4.365080</td>\n",
       "      <td>73.037750</td>\n",
       "    </tr>\n",
       "    <tr>\n",
       "      <th>2</th>\n",
       "      <td>409Wp</td>\n",
       "      <td>1.022732</td>\n",
       "      <td>0.151990</td>\n",
       "      <td>1.419926</td>\n",
       "      <td>85.265647</td>\n",
       "    </tr>\n",
       "    <tr>\n",
       "      <th>3</th>\n",
       "      <td>iJLyR</td>\n",
       "      <td>-0.032172</td>\n",
       "      <td>0.139033</td>\n",
       "      <td>2.978566</td>\n",
       "      <td>168.620776</td>\n",
       "    </tr>\n",
       "    <tr>\n",
       "      <th>4</th>\n",
       "      <td>Xdl7t</td>\n",
       "      <td>1.988431</td>\n",
       "      <td>0.155413</td>\n",
       "      <td>4.751769</td>\n",
       "      <td>154.036647</td>\n",
       "    </tr>\n",
       "  </tbody>\n",
       "</table>\n",
       "</div>"
      ],
      "text/plain": [
       "      id        f0        f1        f2     product\n",
       "0  txEyH  0.705745 -0.497823  1.221170  105.280062\n",
       "1  2acmU  1.334711 -0.340164  4.365080   73.037750\n",
       "2  409Wp  1.022732  0.151990  1.419926   85.265647\n",
       "3  iJLyR -0.032172  0.139033  2.978566  168.620776\n",
       "4  Xdl7t  1.988431  0.155413  4.751769  154.036647"
      ]
     },
     "metadata": {},
     "output_type": "display_data"
    },
    {
     "name": "stdout",
     "output_type": "stream",
     "text": [
      "\n",
      "Описание:\n"
     ]
    },
    {
     "data": {
      "text/html": [
       "<div>\n",
       "<style scoped>\n",
       "    .dataframe tbody tr th:only-of-type {\n",
       "        vertical-align: middle;\n",
       "    }\n",
       "\n",
       "    .dataframe tbody tr th {\n",
       "        vertical-align: top;\n",
       "    }\n",
       "\n",
       "    .dataframe thead th {\n",
       "        text-align: right;\n",
       "    }\n",
       "</style>\n",
       "<table border=\"1\" class=\"dataframe\">\n",
       "  <thead>\n",
       "    <tr style=\"text-align: right;\">\n",
       "      <th></th>\n",
       "      <th>f0</th>\n",
       "      <th>f1</th>\n",
       "      <th>f2</th>\n",
       "      <th>product</th>\n",
       "    </tr>\n",
       "  </thead>\n",
       "  <tbody>\n",
       "    <tr>\n",
       "      <th>count</th>\n",
       "      <td>100000.000000</td>\n",
       "      <td>100000.000000</td>\n",
       "      <td>100000.000000</td>\n",
       "      <td>100000.000000</td>\n",
       "    </tr>\n",
       "    <tr>\n",
       "      <th>mean</th>\n",
       "      <td>0.500419</td>\n",
       "      <td>0.250143</td>\n",
       "      <td>2.502647</td>\n",
       "      <td>92.500000</td>\n",
       "    </tr>\n",
       "    <tr>\n",
       "      <th>std</th>\n",
       "      <td>0.871832</td>\n",
       "      <td>0.504433</td>\n",
       "      <td>3.248248</td>\n",
       "      <td>44.288691</td>\n",
       "    </tr>\n",
       "    <tr>\n",
       "      <th>min</th>\n",
       "      <td>-1.408605</td>\n",
       "      <td>-0.848218</td>\n",
       "      <td>-12.088328</td>\n",
       "      <td>0.000000</td>\n",
       "    </tr>\n",
       "    <tr>\n",
       "      <th>25%</th>\n",
       "      <td>-0.072580</td>\n",
       "      <td>-0.200881</td>\n",
       "      <td>0.287748</td>\n",
       "      <td>56.497507</td>\n",
       "    </tr>\n",
       "    <tr>\n",
       "      <th>50%</th>\n",
       "      <td>0.502360</td>\n",
       "      <td>0.250252</td>\n",
       "      <td>2.515969</td>\n",
       "      <td>91.849972</td>\n",
       "    </tr>\n",
       "    <tr>\n",
       "      <th>75%</th>\n",
       "      <td>1.073581</td>\n",
       "      <td>0.700646</td>\n",
       "      <td>4.715088</td>\n",
       "      <td>128.564089</td>\n",
       "    </tr>\n",
       "    <tr>\n",
       "      <th>max</th>\n",
       "      <td>2.362331</td>\n",
       "      <td>1.343769</td>\n",
       "      <td>16.003790</td>\n",
       "      <td>185.364347</td>\n",
       "    </tr>\n",
       "  </tbody>\n",
       "</table>\n",
       "</div>"
      ],
      "text/plain": [
       "                  f0             f1             f2        product\n",
       "count  100000.000000  100000.000000  100000.000000  100000.000000\n",
       "mean        0.500419       0.250143       2.502647      92.500000\n",
       "std         0.871832       0.504433       3.248248      44.288691\n",
       "min        -1.408605      -0.848218     -12.088328       0.000000\n",
       "25%        -0.072580      -0.200881       0.287748      56.497507\n",
       "50%         0.502360       0.250252       2.515969      91.849972\n",
       "75%         1.073581       0.700646       4.715088     128.564089\n",
       "max         2.362331       1.343769      16.003790     185.364347"
      ]
     },
     "metadata": {},
     "output_type": "display_data"
    },
    {
     "name": "stdout",
     "output_type": "stream",
     "text": [
      "\n",
      "Инфо:\n"
     ]
    },
    {
     "data": {
      "text/html": [
       "<div>\n",
       "<style scoped>\n",
       "    .dataframe tbody tr th:only-of-type {\n",
       "        vertical-align: middle;\n",
       "    }\n",
       "\n",
       "    .dataframe tbody tr th {\n",
       "        vertical-align: top;\n",
       "    }\n",
       "\n",
       "    .dataframe thead th {\n",
       "        text-align: right;\n",
       "    }\n",
       "</style>\n",
       "<table border=\"1\" class=\"dataframe\">\n",
       "  <thead>\n",
       "    <tr style=\"text-align: right;\">\n",
       "      <th></th>\n",
       "      <th>data_type</th>\n",
       "      <th>data_type_grp</th>\n",
       "      <th>num_unique_values</th>\n",
       "      <th>sample_unique_values</th>\n",
       "      <th>num_missing</th>\n",
       "      <th>perc_missing</th>\n",
       "    </tr>\n",
       "  </thead>\n",
       "  <tbody>\n",
       "    <tr>\n",
       "      <th>id</th>\n",
       "      <td>object</td>\n",
       "      <td>Categorical</td>\n",
       "      <td>99990</td>\n",
       "      <td>[txEyH, 2acmU, 409Wp, iJLyR, Xdl7t, wX4Hy, tL6...</td>\n",
       "      <td>0</td>\n",
       "      <td>0.0</td>\n",
       "    </tr>\n",
       "    <tr>\n",
       "      <th>f0</th>\n",
       "      <td>float64</td>\n",
       "      <td>Numerical</td>\n",
       "      <td>100000</td>\n",
       "      <td>[0.7057449842080644, 1.3347112926051892, 1.022...</td>\n",
       "      <td>0</td>\n",
       "      <td>0.0</td>\n",
       "    </tr>\n",
       "    <tr>\n",
       "      <th>f1</th>\n",
       "      <td>float64</td>\n",
       "      <td>Numerical</td>\n",
       "      <td>100000</td>\n",
       "      <td>[-0.4978225001976334, -0.3401642528583136, 0.1...</td>\n",
       "      <td>0</td>\n",
       "      <td>0.0</td>\n",
       "    </tr>\n",
       "    <tr>\n",
       "      <th>f2</th>\n",
       "      <td>float64</td>\n",
       "      <td>Numerical</td>\n",
       "      <td>100000</td>\n",
       "      <td>[1.22116994843607, 4.3650803324282, 1.41992623...</td>\n",
       "      <td>0</td>\n",
       "      <td>0.0</td>\n",
       "    </tr>\n",
       "    <tr>\n",
       "      <th>product</th>\n",
       "      <td>float64</td>\n",
       "      <td>Numerical</td>\n",
       "      <td>100000</td>\n",
       "      <td>[105.28006184349584, 73.03775026515737, 85.265...</td>\n",
       "      <td>0</td>\n",
       "      <td>0.0</td>\n",
       "    </tr>\n",
       "  </tbody>\n",
       "</table>\n",
       "</div>"
      ],
      "text/plain": [
       "        data_type data_type_grp num_unique_values  \\\n",
       "id         object   Categorical             99990   \n",
       "f0        float64     Numerical            100000   \n",
       "f1        float64     Numerical            100000   \n",
       "f2        float64     Numerical            100000   \n",
       "product   float64     Numerical            100000   \n",
       "\n",
       "                                      sample_unique_values num_missing  \\\n",
       "id       [txEyH, 2acmU, 409Wp, iJLyR, Xdl7t, wX4Hy, tL6...           0   \n",
       "f0       [0.7057449842080644, 1.3347112926051892, 1.022...           0   \n",
       "f1       [-0.4978225001976334, -0.3401642528583136, 0.1...           0   \n",
       "f2       [1.22116994843607, 4.3650803324282, 1.41992623...           0   \n",
       "product  [105.28006184349584, 73.03775026515737, 85.265...           0   \n",
       "\n",
       "        perc_missing  \n",
       "id               0.0  \n",
       "f0               0.0  \n",
       "f1               0.0  \n",
       "f2               0.0  \n",
       "product          0.0  "
      ]
     },
     "metadata": {},
     "output_type": "display_data"
    },
    {
     "name": "stdout",
     "output_type": "stream",
     "text": [
      "\n",
      "Корреляция:\n"
     ]
    },
    {
     "data": {
      "text/html": [
       "<div>\n",
       "<style scoped>\n",
       "    .dataframe tbody tr th:only-of-type {\n",
       "        vertical-align: middle;\n",
       "    }\n",
       "\n",
       "    .dataframe tbody tr th {\n",
       "        vertical-align: top;\n",
       "    }\n",
       "\n",
       "    .dataframe thead th {\n",
       "        text-align: right;\n",
       "    }\n",
       "</style>\n",
       "<table border=\"1\" class=\"dataframe\">\n",
       "  <thead>\n",
       "    <tr style=\"text-align: right;\">\n",
       "      <th></th>\n",
       "      <th>f0</th>\n",
       "      <th>f1</th>\n",
       "      <th>f2</th>\n",
       "      <th>product</th>\n",
       "    </tr>\n",
       "  </thead>\n",
       "  <tbody>\n",
       "    <tr>\n",
       "      <th>f0</th>\n",
       "      <td>1.000000</td>\n",
       "      <td>-0.440723</td>\n",
       "      <td>-0.003153</td>\n",
       "      <td>0.143536</td>\n",
       "    </tr>\n",
       "    <tr>\n",
       "      <th>f1</th>\n",
       "      <td>-0.440723</td>\n",
       "      <td>1.000000</td>\n",
       "      <td>0.001724</td>\n",
       "      <td>-0.192356</td>\n",
       "    </tr>\n",
       "    <tr>\n",
       "      <th>f2</th>\n",
       "      <td>-0.003153</td>\n",
       "      <td>0.001724</td>\n",
       "      <td>1.000000</td>\n",
       "      <td>0.483663</td>\n",
       "    </tr>\n",
       "    <tr>\n",
       "      <th>product</th>\n",
       "      <td>0.143536</td>\n",
       "      <td>-0.192356</td>\n",
       "      <td>0.483663</td>\n",
       "      <td>1.000000</td>\n",
       "    </tr>\n",
       "  </tbody>\n",
       "</table>\n",
       "</div>"
      ],
      "text/plain": [
       "               f0        f1        f2   product\n",
       "f0       1.000000 -0.440723 -0.003153  0.143536\n",
       "f1      -0.440723  1.000000  0.001724 -0.192356\n",
       "f2      -0.003153  0.001724  1.000000  0.483663\n",
       "product  0.143536 -0.192356  0.483663  1.000000"
      ]
     },
     "metadata": {},
     "output_type": "display_data"
    },
    {
     "name": "stdout",
     "output_type": "stream",
     "text": [
      "\n",
      "Удалим столбец id:\n"
     ]
    },
    {
     "data": {
      "text/html": [
       "<div>\n",
       "<style scoped>\n",
       "    .dataframe tbody tr th:only-of-type {\n",
       "        vertical-align: middle;\n",
       "    }\n",
       "\n",
       "    .dataframe tbody tr th {\n",
       "        vertical-align: top;\n",
       "    }\n",
       "\n",
       "    .dataframe thead th {\n",
       "        text-align: right;\n",
       "    }\n",
       "</style>\n",
       "<table border=\"1\" class=\"dataframe\">\n",
       "  <thead>\n",
       "    <tr style=\"text-align: right;\">\n",
       "      <th></th>\n",
       "      <th>f0</th>\n",
       "      <th>f1</th>\n",
       "      <th>f2</th>\n",
       "      <th>product</th>\n",
       "    </tr>\n",
       "  </thead>\n",
       "  <tbody>\n",
       "    <tr>\n",
       "      <th>0</th>\n",
       "      <td>0.705745</td>\n",
       "      <td>-0.497823</td>\n",
       "      <td>1.22117</td>\n",
       "      <td>105.280062</td>\n",
       "    </tr>\n",
       "  </tbody>\n",
       "</table>\n",
       "</div>"
      ],
      "text/plain": [
       "         f0        f1       f2     product\n",
       "0  0.705745 -0.497823  1.22117  105.280062"
      ]
     },
     "metadata": {},
     "output_type": "display_data"
    },
    {
     "name": "stdout",
     "output_type": "stream",
     "text": [
      "\n",
      "Гистограмма:\n"
     ]
    },
    {
     "data": {
      "image/png": "[encoded data removed]",
      "text/plain": [
       "<Figure size 1080x1080 with 4 Axes>"
      ]
     },
     "metadata": {
      "needs_background": "light"
     },
     "output_type": "display_data"
    }
   ],
   "source": [
    "data_preparation(0)"
   ]
  },
  {
   "cell_type": "markdown",
   "metadata": {},
   "source": [
    "#### Регион 1"
   ]
  },
  {
   "cell_type": "code",
   "execution_count": 31,
   "metadata": {
    "scrolled": false
   },
   "outputs": [
    {
     "name": "stdout",
     "output_type": "stream",
     "text": [
      "Датафрейм:\n"
     ]
    },
    {
     "data": {
      "text/html": [
       "<div>\n",
       "<style scoped>\n",
       "    .dataframe tbody tr th:only-of-type {\n",
       "        vertical-align: middle;\n",
       "    }\n",
       "\n",
       "    .dataframe tbody tr th {\n",
       "        vertical-align: top;\n",
       "    }\n",
       "\n",
       "    .dataframe thead th {\n",
       "        text-align: right;\n",
       "    }\n",
       "</style>\n",
       "<table border=\"1\" class=\"dataframe\">\n",
       "  <thead>\n",
       "    <tr style=\"text-align: right;\">\n",
       "      <th></th>\n",
       "      <th>id</th>\n",
       "      <th>f0</th>\n",
       "      <th>f1</th>\n",
       "      <th>f2</th>\n",
       "      <th>product</th>\n",
       "    </tr>\n",
       "  </thead>\n",
       "  <tbody>\n",
       "    <tr>\n",
       "      <th>0</th>\n",
       "      <td>kBEdx</td>\n",
       "      <td>-15.001348</td>\n",
       "      <td>-8.276000</td>\n",
       "      <td>-0.005876</td>\n",
       "      <td>3.179103</td>\n",
       "    </tr>\n",
       "    <tr>\n",
       "      <th>1</th>\n",
       "      <td>62mP7</td>\n",
       "      <td>14.272088</td>\n",
       "      <td>-3.475083</td>\n",
       "      <td>0.999183</td>\n",
       "      <td>26.953261</td>\n",
       "    </tr>\n",
       "    <tr>\n",
       "      <th>2</th>\n",
       "      <td>vyE1P</td>\n",
       "      <td>6.263187</td>\n",
       "      <td>-5.948386</td>\n",
       "      <td>5.001160</td>\n",
       "      <td>134.766305</td>\n",
       "    </tr>\n",
       "    <tr>\n",
       "      <th>3</th>\n",
       "      <td>KcrkZ</td>\n",
       "      <td>-13.081196</td>\n",
       "      <td>-11.506057</td>\n",
       "      <td>4.999415</td>\n",
       "      <td>137.945408</td>\n",
       "    </tr>\n",
       "    <tr>\n",
       "      <th>4</th>\n",
       "      <td>AHL4O</td>\n",
       "      <td>12.702195</td>\n",
       "      <td>-8.147433</td>\n",
       "      <td>5.004363</td>\n",
       "      <td>134.766305</td>\n",
       "    </tr>\n",
       "  </tbody>\n",
       "</table>\n",
       "</div>"
      ],
      "text/plain": [
       "      id         f0         f1        f2     product\n",
       "0  kBEdx -15.001348  -8.276000 -0.005876    3.179103\n",
       "1  62mP7  14.272088  -3.475083  0.999183   26.953261\n",
       "2  vyE1P   6.263187  -5.948386  5.001160  134.766305\n",
       "3  KcrkZ -13.081196 -11.506057  4.999415  137.945408\n",
       "4  AHL4O  12.702195  -8.147433  5.004363  134.766305"
      ]
     },
     "metadata": {},
     "output_type": "display_data"
    },
    {
     "name": "stdout",
     "output_type": "stream",
     "text": [
      "\n",
      "Описание:\n"
     ]
    },
    {
     "data": {
      "text/html": [
       "<div>\n",
       "<style scoped>\n",
       "    .dataframe tbody tr th:only-of-type {\n",
       "        vertical-align: middle;\n",
       "    }\n",
       "\n",
       "    .dataframe tbody tr th {\n",
       "        vertical-align: top;\n",
       "    }\n",
       "\n",
       "    .dataframe thead th {\n",
       "        text-align: right;\n",
       "    }\n",
       "</style>\n",
       "<table border=\"1\" class=\"dataframe\">\n",
       "  <thead>\n",
       "    <tr style=\"text-align: right;\">\n",
       "      <th></th>\n",
       "      <th>f0</th>\n",
       "      <th>f1</th>\n",
       "      <th>f2</th>\n",
       "      <th>product</th>\n",
       "    </tr>\n",
       "  </thead>\n",
       "  <tbody>\n",
       "    <tr>\n",
       "      <th>count</th>\n",
       "      <td>100000.000000</td>\n",
       "      <td>100000.000000</td>\n",
       "      <td>100000.000000</td>\n",
       "      <td>100000.000000</td>\n",
       "    </tr>\n",
       "    <tr>\n",
       "      <th>mean</th>\n",
       "      <td>1.141296</td>\n",
       "      <td>-4.796579</td>\n",
       "      <td>2.494541</td>\n",
       "      <td>68.825000</td>\n",
       "    </tr>\n",
       "    <tr>\n",
       "      <th>std</th>\n",
       "      <td>8.965932</td>\n",
       "      <td>5.119872</td>\n",
       "      <td>1.703572</td>\n",
       "      <td>45.944423</td>\n",
       "    </tr>\n",
       "    <tr>\n",
       "      <th>min</th>\n",
       "      <td>-31.609576</td>\n",
       "      <td>-26.358598</td>\n",
       "      <td>-0.018144</td>\n",
       "      <td>0.000000</td>\n",
       "    </tr>\n",
       "    <tr>\n",
       "      <th>25%</th>\n",
       "      <td>-6.298551</td>\n",
       "      <td>-8.267985</td>\n",
       "      <td>1.000021</td>\n",
       "      <td>26.953261</td>\n",
       "    </tr>\n",
       "    <tr>\n",
       "      <th>50%</th>\n",
       "      <td>1.153055</td>\n",
       "      <td>-4.813172</td>\n",
       "      <td>2.011479</td>\n",
       "      <td>57.085625</td>\n",
       "    </tr>\n",
       "    <tr>\n",
       "      <th>75%</th>\n",
       "      <td>8.621015</td>\n",
       "      <td>-1.332816</td>\n",
       "      <td>3.999904</td>\n",
       "      <td>107.813044</td>\n",
       "    </tr>\n",
       "    <tr>\n",
       "      <th>max</th>\n",
       "      <td>29.421755</td>\n",
       "      <td>18.734063</td>\n",
       "      <td>5.019721</td>\n",
       "      <td>137.945408</td>\n",
       "    </tr>\n",
       "  </tbody>\n",
       "</table>\n",
       "</div>"
      ],
      "text/plain": [
       "                  f0             f1             f2        product\n",
       "count  100000.000000  100000.000000  100000.000000  100000.000000\n",
       "mean        1.141296      -4.796579       2.494541      68.825000\n",
       "std         8.965932       5.119872       1.703572      45.944423\n",
       "min       -31.609576     -26.358598      -0.018144       0.000000\n",
       "25%        -6.298551      -8.267985       1.000021      26.953261\n",
       "50%         1.153055      -4.813172       2.011479      57.085625\n",
       "75%         8.621015      -1.332816       3.999904     107.813044\n",
       "max        29.421755      18.734063       5.019721     137.945408"
      ]
     },
     "metadata": {},
     "output_type": "display_data"
    },
    {
     "name": "stdout",
     "output_type": "stream",
     "text": [
      "\n",
      "Инфо:\n"
     ]
    },
    {
     "data": {
      "text/html": [
       "<div>\n",
       "<style scoped>\n",
       "    .dataframe tbody tr th:only-of-type {\n",
       "        vertical-align: middle;\n",
       "    }\n",
       "\n",
       "    .dataframe tbody tr th {\n",
       "        vertical-align: top;\n",
       "    }\n",
       "\n",
       "    .dataframe thead th {\n",
       "        text-align: right;\n",
       "    }\n",
       "</style>\n",
       "<table border=\"1\" class=\"dataframe\">\n",
       "  <thead>\n",
       "    <tr style=\"text-align: right;\">\n",
       "      <th></th>\n",
       "      <th>data_type</th>\n",
       "      <th>data_type_grp</th>\n",
       "      <th>num_unique_values</th>\n",
       "      <th>sample_unique_values</th>\n",
       "      <th>num_missing</th>\n",
       "      <th>perc_missing</th>\n",
       "    </tr>\n",
       "  </thead>\n",
       "  <tbody>\n",
       "    <tr>\n",
       "      <th>id</th>\n",
       "      <td>object</td>\n",
       "      <td>Categorical</td>\n",
       "      <td>99996</td>\n",
       "      <td>[kBEdx, 62mP7, vyE1P, KcrkZ, AHL4O, HHckp, h5U...</td>\n",
       "      <td>0</td>\n",
       "      <td>0.0</td>\n",
       "    </tr>\n",
       "    <tr>\n",
       "      <th>f0</th>\n",
       "      <td>float64</td>\n",
       "      <td>Numerical</td>\n",
       "      <td>100000</td>\n",
       "      <td>[-15.00134818249185, 14.272087811011149, 6.263...</td>\n",
       "      <td>0</td>\n",
       "      <td>0.0</td>\n",
       "    </tr>\n",
       "    <tr>\n",
       "      <th>f1</th>\n",
       "      <td>float64</td>\n",
       "      <td>Numerical</td>\n",
       "      <td>100000</td>\n",
       "      <td>[-8.275999947188001, -3.47508321506002, -5.948...</td>\n",
       "      <td>0</td>\n",
       "      <td>0.0</td>\n",
       "    </tr>\n",
       "    <tr>\n",
       "      <th>f2</th>\n",
       "      <td>float64</td>\n",
       "      <td>Numerical</td>\n",
       "      <td>100000</td>\n",
       "      <td>[-0.0058760136933206, 0.9991827365665829, 5.00...</td>\n",
       "      <td>0</td>\n",
       "      <td>0.0</td>\n",
       "    </tr>\n",
       "    <tr>\n",
       "      <th>product</th>\n",
       "      <td>float64</td>\n",
       "      <td>Numerical</td>\n",
       "      <td>12</td>\n",
       "      <td>[3.179102583207246, 26.95326103153969, 134.766...</td>\n",
       "      <td>0</td>\n",
       "      <td>0.0</td>\n",
       "    </tr>\n",
       "  </tbody>\n",
       "</table>\n",
       "</div>"
      ],
      "text/plain": [
       "        data_type data_type_grp num_unique_values  \\\n",
       "id         object   Categorical             99996   \n",
       "f0        float64     Numerical            100000   \n",
       "f1        float64     Numerical            100000   \n",
       "f2        float64     Numerical            100000   \n",
       "product   float64     Numerical                12   \n",
       "\n",
       "                                      sample_unique_values num_missing  \\\n",
       "id       [kBEdx, 62mP7, vyE1P, KcrkZ, AHL4O, HHckp, h5U...           0   \n",
       "f0       [-15.00134818249185, 14.272087811011149, 6.263...           0   \n",
       "f1       [-8.275999947188001, -3.47508321506002, -5.948...           0   \n",
       "f2       [-0.0058760136933206, 0.9991827365665829, 5.00...           0   \n",
       "product  [3.179102583207246, 26.95326103153969, 134.766...           0   \n",
       "\n",
       "        perc_missing  \n",
       "id               0.0  \n",
       "f0               0.0  \n",
       "f1               0.0  \n",
       "f2               0.0  \n",
       "product          0.0  "
      ]
     },
     "metadata": {},
     "output_type": "display_data"
    },
    {
     "name": "stdout",
     "output_type": "stream",
     "text": [
      "\n",
      "Корреляция:\n"
     ]
    },
    {
     "data": {
      "text/html": [
       "<div>\n",
       "<style scoped>\n",
       "    .dataframe tbody tr th:only-of-type {\n",
       "        vertical-align: middle;\n",
       "    }\n",
       "\n",
       "    .dataframe tbody tr th {\n",
       "        vertical-align: top;\n",
       "    }\n",
       "\n",
       "    .dataframe thead th {\n",
       "        text-align: right;\n",
       "    }\n",
       "</style>\n",
       "<table border=\"1\" class=\"dataframe\">\n",
       "  <thead>\n",
       "    <tr style=\"text-align: right;\">\n",
       "      <th></th>\n",
       "      <th>f0</th>\n",
       "      <th>f1</th>\n",
       "      <th>f2</th>\n",
       "      <th>product</th>\n",
       "    </tr>\n",
       "  </thead>\n",
       "  <tbody>\n",
       "    <tr>\n",
       "      <th>f0</th>\n",
       "      <td>1.000000</td>\n",
       "      <td>0.182287</td>\n",
       "      <td>-0.001777</td>\n",
       "      <td>-0.030491</td>\n",
       "    </tr>\n",
       "    <tr>\n",
       "      <th>f1</th>\n",
       "      <td>0.182287</td>\n",
       "      <td>1.000000</td>\n",
       "      <td>-0.002595</td>\n",
       "      <td>-0.010155</td>\n",
       "    </tr>\n",
       "    <tr>\n",
       "      <th>f2</th>\n",
       "      <td>-0.001777</td>\n",
       "      <td>-0.002595</td>\n",
       "      <td>1.000000</td>\n",
       "      <td>0.999397</td>\n",
       "    </tr>\n",
       "    <tr>\n",
       "      <th>product</th>\n",
       "      <td>-0.030491</td>\n",
       "      <td>-0.010155</td>\n",
       "      <td>0.999397</td>\n",
       "      <td>1.000000</td>\n",
       "    </tr>\n",
       "  </tbody>\n",
       "</table>\n",
       "</div>"
      ],
      "text/plain": [
       "               f0        f1        f2   product\n",
       "f0       1.000000  0.182287 -0.001777 -0.030491\n",
       "f1       0.182287  1.000000 -0.002595 -0.010155\n",
       "f2      -0.001777 -0.002595  1.000000  0.999397\n",
       "product -0.030491 -0.010155  0.999397  1.000000"
      ]
     },
     "metadata": {},
     "output_type": "display_data"
    },
    {
     "name": "stdout",
     "output_type": "stream",
     "text": [
      "\n",
      "Удалим столбец id:\n"
     ]
    },
    {
     "data": {
      "text/html": [
       "<div>\n",
       "<style scoped>\n",
       "    .dataframe tbody tr th:only-of-type {\n",
       "        vertical-align: middle;\n",
       "    }\n",
       "\n",
       "    .dataframe tbody tr th {\n",
       "        vertical-align: top;\n",
       "    }\n",
       "\n",
       "    .dataframe thead th {\n",
       "        text-align: right;\n",
       "    }\n",
       "</style>\n",
       "<table border=\"1\" class=\"dataframe\">\n",
       "  <thead>\n",
       "    <tr style=\"text-align: right;\">\n",
       "      <th></th>\n",
       "      <th>f0</th>\n",
       "      <th>f1</th>\n",
       "      <th>f2</th>\n",
       "      <th>product</th>\n",
       "    </tr>\n",
       "  </thead>\n",
       "  <tbody>\n",
       "    <tr>\n",
       "      <th>0</th>\n",
       "      <td>-15.001348</td>\n",
       "      <td>-8.276</td>\n",
       "      <td>-0.005876</td>\n",
       "      <td>3.179103</td>\n",
       "    </tr>\n",
       "  </tbody>\n",
       "</table>\n",
       "</div>"
      ],
      "text/plain": [
       "          f0     f1        f2   product\n",
       "0 -15.001348 -8.276 -0.005876  3.179103"
      ]
     },
     "metadata": {},
     "output_type": "display_data"
    },
    {
     "name": "stdout",
     "output_type": "stream",
     "text": [
      "\n",
      "Гистограмма:\n"
     ]
    },
    {
     "data": {
      "image/png": "[encoded data removed]",
      "text/plain": [
       "<Figure size 1080x1080 with 4 Axes>"
      ]
     },
     "metadata": {
      "needs_background": "light"
     },
     "output_type": "display_data"
    }
   ],
   "source": [
    "data_preparation(1)"
   ]
  },
  {
   "cell_type": "markdown",
   "metadata": {},
   "source": [
    "#### Регион 2"
   ]
  },
  {
   "cell_type": "code",
   "execution_count": 32,
   "metadata": {
    "scrolled": false
   },
   "outputs": [
    {
     "name": "stdout",
     "output_type": "stream",
     "text": [
      "Датафрейм:\n"
     ]
    },
    {
     "data": {
      "text/html": [
       "<div>\n",
       "<style scoped>\n",
       "    .dataframe tbody tr th:only-of-type {\n",
       "        vertical-align: middle;\n",
       "    }\n",
       "\n",
       "    .dataframe tbody tr th {\n",
       "        vertical-align: top;\n",
       "    }\n",
       "\n",
       "    .dataframe thead th {\n",
       "        text-align: right;\n",
       "    }\n",
       "</style>\n",
       "<table border=\"1\" class=\"dataframe\">\n",
       "  <thead>\n",
       "    <tr style=\"text-align: right;\">\n",
       "      <th></th>\n",
       "      <th>id</th>\n",
       "      <th>f0</th>\n",
       "      <th>f1</th>\n",
       "      <th>f2</th>\n",
       "      <th>product</th>\n",
       "    </tr>\n",
       "  </thead>\n",
       "  <tbody>\n",
       "    <tr>\n",
       "      <th>0</th>\n",
       "      <td>fwXo0</td>\n",
       "      <td>-1.146987</td>\n",
       "      <td>0.963328</td>\n",
       "      <td>-0.828965</td>\n",
       "      <td>27.758673</td>\n",
       "    </tr>\n",
       "    <tr>\n",
       "      <th>1</th>\n",
       "      <td>WJtFt</td>\n",
       "      <td>0.262778</td>\n",
       "      <td>0.269839</td>\n",
       "      <td>-2.530187</td>\n",
       "      <td>56.069697</td>\n",
       "    </tr>\n",
       "    <tr>\n",
       "      <th>2</th>\n",
       "      <td>ovLUW</td>\n",
       "      <td>0.194587</td>\n",
       "      <td>0.289035</td>\n",
       "      <td>-5.586433</td>\n",
       "      <td>62.871910</td>\n",
       "    </tr>\n",
       "    <tr>\n",
       "      <th>3</th>\n",
       "      <td>q6cA6</td>\n",
       "      <td>2.236060</td>\n",
       "      <td>-0.553760</td>\n",
       "      <td>0.930038</td>\n",
       "      <td>114.572842</td>\n",
       "    </tr>\n",
       "    <tr>\n",
       "      <th>4</th>\n",
       "      <td>WPMUX</td>\n",
       "      <td>-0.515993</td>\n",
       "      <td>1.716266</td>\n",
       "      <td>5.899011</td>\n",
       "      <td>149.600746</td>\n",
       "    </tr>\n",
       "  </tbody>\n",
       "</table>\n",
       "</div>"
      ],
      "text/plain": [
       "      id        f0        f1        f2     product\n",
       "0  fwXo0 -1.146987  0.963328 -0.828965   27.758673\n",
       "1  WJtFt  0.262778  0.269839 -2.530187   56.069697\n",
       "2  ovLUW  0.194587  0.289035 -5.586433   62.871910\n",
       "3  q6cA6  2.236060 -0.553760  0.930038  114.572842\n",
       "4  WPMUX -0.515993  1.716266  5.899011  149.600746"
      ]
     },
     "metadata": {},
     "output_type": "display_data"
    },
    {
     "name": "stdout",
     "output_type": "stream",
     "text": [
      "\n",
      "Описание:\n"
     ]
    },
    {
     "data": {
      "text/html": [
       "<div>\n",
       "<style scoped>\n",
       "    .dataframe tbody tr th:only-of-type {\n",
       "        vertical-align: middle;\n",
       "    }\n",
       "\n",
       "    .dataframe tbody tr th {\n",
       "        vertical-align: top;\n",
       "    }\n",
       "\n",
       "    .dataframe thead th {\n",
       "        text-align: right;\n",
       "    }\n",
       "</style>\n",
       "<table border=\"1\" class=\"dataframe\">\n",
       "  <thead>\n",
       "    <tr style=\"text-align: right;\">\n",
       "      <th></th>\n",
       "      <th>f0</th>\n",
       "      <th>f1</th>\n",
       "      <th>f2</th>\n",
       "      <th>product</th>\n",
       "    </tr>\n",
       "  </thead>\n",
       "  <tbody>\n",
       "    <tr>\n",
       "      <th>count</th>\n",
       "      <td>100000.000000</td>\n",
       "      <td>100000.000000</td>\n",
       "      <td>100000.000000</td>\n",
       "      <td>100000.000000</td>\n",
       "    </tr>\n",
       "    <tr>\n",
       "      <th>mean</th>\n",
       "      <td>0.002023</td>\n",
       "      <td>-0.002081</td>\n",
       "      <td>2.495128</td>\n",
       "      <td>95.000000</td>\n",
       "    </tr>\n",
       "    <tr>\n",
       "      <th>std</th>\n",
       "      <td>1.732045</td>\n",
       "      <td>1.730417</td>\n",
       "      <td>3.473445</td>\n",
       "      <td>44.749921</td>\n",
       "    </tr>\n",
       "    <tr>\n",
       "      <th>min</th>\n",
       "      <td>-8.760004</td>\n",
       "      <td>-7.084020</td>\n",
       "      <td>-11.970335</td>\n",
       "      <td>0.000000</td>\n",
       "    </tr>\n",
       "    <tr>\n",
       "      <th>25%</th>\n",
       "      <td>-1.162288</td>\n",
       "      <td>-1.174820</td>\n",
       "      <td>0.130359</td>\n",
       "      <td>59.450441</td>\n",
       "    </tr>\n",
       "    <tr>\n",
       "      <th>50%</th>\n",
       "      <td>0.009424</td>\n",
       "      <td>-0.009482</td>\n",
       "      <td>2.484236</td>\n",
       "      <td>94.925613</td>\n",
       "    </tr>\n",
       "    <tr>\n",
       "      <th>75%</th>\n",
       "      <td>1.158535</td>\n",
       "      <td>1.163678</td>\n",
       "      <td>4.858794</td>\n",
       "      <td>130.595027</td>\n",
       "    </tr>\n",
       "    <tr>\n",
       "      <th>max</th>\n",
       "      <td>7.238262</td>\n",
       "      <td>7.844801</td>\n",
       "      <td>16.739402</td>\n",
       "      <td>190.029838</td>\n",
       "    </tr>\n",
       "  </tbody>\n",
       "</table>\n",
       "</div>"
      ],
      "text/plain": [
       "                  f0             f1             f2        product\n",
       "count  100000.000000  100000.000000  100000.000000  100000.000000\n",
       "mean        0.002023      -0.002081       2.495128      95.000000\n",
       "std         1.732045       1.730417       3.473445      44.749921\n",
       "min        -8.760004      -7.084020     -11.970335       0.000000\n",
       "25%        -1.162288      -1.174820       0.130359      59.450441\n",
       "50%         0.009424      -0.009482       2.484236      94.925613\n",
       "75%         1.158535       1.163678       4.858794     130.595027\n",
       "max         7.238262       7.844801      16.739402     190.029838"
      ]
     },
     "metadata": {},
     "output_type": "display_data"
    },
    {
     "name": "stdout",
     "output_type": "stream",
     "text": [
      "\n",
      "Инфо:\n"
     ]
    },
    {
     "data": {
      "text/html": [
       "<div>\n",
       "<style scoped>\n",
       "    .dataframe tbody tr th:only-of-type {\n",
       "        vertical-align: middle;\n",
       "    }\n",
       "\n",
       "    .dataframe tbody tr th {\n",
       "        vertical-align: top;\n",
       "    }\n",
       "\n",
       "    .dataframe thead th {\n",
       "        text-align: right;\n",
       "    }\n",
       "</style>\n",
       "<table border=\"1\" class=\"dataframe\">\n",
       "  <thead>\n",
       "    <tr style=\"text-align: right;\">\n",
       "      <th></th>\n",
       "      <th>data_type</th>\n",
       "      <th>data_type_grp</th>\n",
       "      <th>num_unique_values</th>\n",
       "      <th>sample_unique_values</th>\n",
       "      <th>num_missing</th>\n",
       "      <th>perc_missing</th>\n",
       "    </tr>\n",
       "  </thead>\n",
       "  <tbody>\n",
       "    <tr>\n",
       "      <th>id</th>\n",
       "      <td>object</td>\n",
       "      <td>Categorical</td>\n",
       "      <td>99996</td>\n",
       "      <td>[fwXo0, WJtFt, ovLUW, q6cA6, WPMUX, LzZXx, WBH...</td>\n",
       "      <td>0</td>\n",
       "      <td>0.0</td>\n",
       "    </tr>\n",
       "    <tr>\n",
       "      <th>f0</th>\n",
       "      <td>float64</td>\n",
       "      <td>Numerical</td>\n",
       "      <td>100000</td>\n",
       "      <td>[-1.1469870984179529, 0.2627779016539684, 0.19...</td>\n",
       "      <td>0</td>\n",
       "      <td>0.0</td>\n",
       "    </tr>\n",
       "    <tr>\n",
       "      <th>f1</th>\n",
       "      <td>float64</td>\n",
       "      <td>Numerical</td>\n",
       "      <td>100000</td>\n",
       "      <td>[0.9633279217162892, 0.2698389572803021, 0.289...</td>\n",
       "      <td>0</td>\n",
       "      <td>0.0</td>\n",
       "    </tr>\n",
       "    <tr>\n",
       "      <th>f2</th>\n",
       "      <td>float64</td>\n",
       "      <td>Numerical</td>\n",
       "      <td>100000</td>\n",
       "      <td>[-0.8289649221710994, -2.530186515492004, -5.5...</td>\n",
       "      <td>0</td>\n",
       "      <td>0.0</td>\n",
       "    </tr>\n",
       "    <tr>\n",
       "      <th>product</th>\n",
       "      <td>float64</td>\n",
       "      <td>Numerical</td>\n",
       "      <td>100000</td>\n",
       "      <td>[27.75867323073004, 56.06969663239464, 62.8719...</td>\n",
       "      <td>0</td>\n",
       "      <td>0.0</td>\n",
       "    </tr>\n",
       "  </tbody>\n",
       "</table>\n",
       "</div>"
      ],
      "text/plain": [
       "        data_type data_type_grp num_unique_values  \\\n",
       "id         object   Categorical             99996   \n",
       "f0        float64     Numerical            100000   \n",
       "f1        float64     Numerical            100000   \n",
       "f2        float64     Numerical            100000   \n",
       "product   float64     Numerical            100000   \n",
       "\n",
       "                                      sample_unique_values num_missing  \\\n",
       "id       [fwXo0, WJtFt, ovLUW, q6cA6, WPMUX, LzZXx, WBH...           0   \n",
       "f0       [-1.1469870984179529, 0.2627779016539684, 0.19...           0   \n",
       "f1       [0.9633279217162892, 0.2698389572803021, 0.289...           0   \n",
       "f2       [-0.8289649221710994, -2.530186515492004, -5.5...           0   \n",
       "product  [27.75867323073004, 56.06969663239464, 62.8719...           0   \n",
       "\n",
       "        perc_missing  \n",
       "id               0.0  \n",
       "f0               0.0  \n",
       "f1               0.0  \n",
       "f2               0.0  \n",
       "product          0.0  "
      ]
     },
     "metadata": {},
     "output_type": "display_data"
    },
    {
     "name": "stdout",
     "output_type": "stream",
     "text": [
      "\n",
      "Корреляция:\n"
     ]
    },
    {
     "data": {
      "text/html": [
       "<div>\n",
       "<style scoped>\n",
       "    .dataframe tbody tr th:only-of-type {\n",
       "        vertical-align: middle;\n",
       "    }\n",
       "\n",
       "    .dataframe tbody tr th {\n",
       "        vertical-align: top;\n",
       "    }\n",
       "\n",
       "    .dataframe thead th {\n",
       "        text-align: right;\n",
       "    }\n",
       "</style>\n",
       "<table border=\"1\" class=\"dataframe\">\n",
       "  <thead>\n",
       "    <tr style=\"text-align: right;\">\n",
       "      <th></th>\n",
       "      <th>f0</th>\n",
       "      <th>f1</th>\n",
       "      <th>f2</th>\n",
       "      <th>product</th>\n",
       "    </tr>\n",
       "  </thead>\n",
       "  <tbody>\n",
       "    <tr>\n",
       "      <th>f0</th>\n",
       "      <td>1.000000</td>\n",
       "      <td>0.000528</td>\n",
       "      <td>-0.000448</td>\n",
       "      <td>-0.001987</td>\n",
       "    </tr>\n",
       "    <tr>\n",
       "      <th>f1</th>\n",
       "      <td>0.000528</td>\n",
       "      <td>1.000000</td>\n",
       "      <td>0.000779</td>\n",
       "      <td>-0.001012</td>\n",
       "    </tr>\n",
       "    <tr>\n",
       "      <th>f2</th>\n",
       "      <td>-0.000448</td>\n",
       "      <td>0.000779</td>\n",
       "      <td>1.000000</td>\n",
       "      <td>0.445871</td>\n",
       "    </tr>\n",
       "    <tr>\n",
       "      <th>product</th>\n",
       "      <td>-0.001987</td>\n",
       "      <td>-0.001012</td>\n",
       "      <td>0.445871</td>\n",
       "      <td>1.000000</td>\n",
       "    </tr>\n",
       "  </tbody>\n",
       "</table>\n",
       "</div>"
      ],
      "text/plain": [
       "               f0        f1        f2   product\n",
       "f0       1.000000  0.000528 -0.000448 -0.001987\n",
       "f1       0.000528  1.000000  0.000779 -0.001012\n",
       "f2      -0.000448  0.000779  1.000000  0.445871\n",
       "product -0.001987 -0.001012  0.445871  1.000000"
      ]
     },
     "metadata": {},
     "output_type": "display_data"
    },
    {
     "name": "stdout",
     "output_type": "stream",
     "text": [
      "\n",
      "Удалим столбец id:\n"
     ]
    },
    {
     "data": {
      "text/html": [
       "<div>\n",
       "<style scoped>\n",
       "    .dataframe tbody tr th:only-of-type {\n",
       "        vertical-align: middle;\n",
       "    }\n",
       "\n",
       "    .dataframe tbody tr th {\n",
       "        vertical-align: top;\n",
       "    }\n",
       "\n",
       "    .dataframe thead th {\n",
       "        text-align: right;\n",
       "    }\n",
       "</style>\n",
       "<table border=\"1\" class=\"dataframe\">\n",
       "  <thead>\n",
       "    <tr style=\"text-align: right;\">\n",
       "      <th></th>\n",
       "      <th>f0</th>\n",
       "      <th>f1</th>\n",
       "      <th>f2</th>\n",
       "      <th>product</th>\n",
       "    </tr>\n",
       "  </thead>\n",
       "  <tbody>\n",
       "    <tr>\n",
       "      <th>0</th>\n",
       "      <td>-1.146987</td>\n",
       "      <td>0.963328</td>\n",
       "      <td>-0.828965</td>\n",
       "      <td>27.758673</td>\n",
       "    </tr>\n",
       "  </tbody>\n",
       "</table>\n",
       "</div>"
      ],
      "text/plain": [
       "         f0        f1        f2    product\n",
       "0 -1.146987  0.963328 -0.828965  27.758673"
      ]
     },
     "metadata": {},
     "output_type": "display_data"
    },
    {
     "name": "stdout",
     "output_type": "stream",
     "text": [
      "\n",
      "Гистограмма:\n"
     ]
    },
    {
     "data": {
      "image/png": "[encoded data removed]",
      "text/plain": [
       "<Figure size 1080x1080 with 4 Axes>"
      ]
     },
     "metadata": {
      "needs_background": "light"
     },
     "output_type": "display_data"
    }
   ],
   "source": [
    "data_preparation(2)"
   ]
  },
  {
   "cell_type": "markdown",
   "metadata": {},
   "source": [
    "Посмотрим на необычные столбцы в регионе 2:"
   ]
  },
  {
   "cell_type": "code",
   "execution_count": 33,
   "metadata": {
    "scrolled": false
   },
   "outputs": [
    {
     "data": {
      "text/plain": [
       "array([  0.        ,   3.17910258,  26.95326103,  30.13236361,\n",
       "        53.90652206,  57.08562465,  80.85978309,  84.03888568,\n",
       "       107.81304413, 110.99214671, 134.76630516, 137.94540774])"
      ]
     },
     "execution_count": 33,
     "metadata": {},
     "output_type": "execute_result"
    }
   ],
   "source": [
    "data[2]['product'].sort_values().unique()"
   ]
  },
  {
   "cell_type": "code",
   "execution_count": 34,
   "metadata": {
    "scrolled": true
   },
   "outputs": [
    {
     "data": {
      "text/html": [
       "<div>\n",
       "<style scoped>\n",
       "    .dataframe tbody tr th:only-of-type {\n",
       "        vertical-align: middle;\n",
       "    }\n",
       "\n",
       "    .dataframe tbody tr th {\n",
       "        vertical-align: top;\n",
       "    }\n",
       "\n",
       "    .dataframe thead th {\n",
       "        text-align: right;\n",
       "    }\n",
       "</style>\n",
       "<table border=\"1\" class=\"dataframe\">\n",
       "  <thead>\n",
       "    <tr style=\"text-align: right;\">\n",
       "      <th></th>\n",
       "      <th>f0</th>\n",
       "      <th>f1</th>\n",
       "      <th>f2</th>\n",
       "      <th>product</th>\n",
       "    </tr>\n",
       "  </thead>\n",
       "  <tbody>\n",
       "    <tr>\n",
       "      <th>39883</th>\n",
       "      <td>-12.413771</td>\n",
       "      <td>-4.156430</td>\n",
       "      <td>-0.018144</td>\n",
       "      <td>3.179103</td>\n",
       "    </tr>\n",
       "    <tr>\n",
       "      <th>8890</th>\n",
       "      <td>-7.158662</td>\n",
       "      <td>-9.143824</td>\n",
       "      <td>-0.017887</td>\n",
       "      <td>3.179103</td>\n",
       "    </tr>\n",
       "    <tr>\n",
       "      <th>71735</th>\n",
       "      <td>7.568092</td>\n",
       "      <td>-6.483928</td>\n",
       "      <td>-0.017686</td>\n",
       "      <td>0.000000</td>\n",
       "    </tr>\n",
       "    <tr>\n",
       "      <th>17969</th>\n",
       "      <td>-9.129885</td>\n",
       "      <td>-3.351751</td>\n",
       "      <td>-0.016988</td>\n",
       "      <td>3.179103</td>\n",
       "    </tr>\n",
       "    <tr>\n",
       "      <th>57099</th>\n",
       "      <td>6.115644</td>\n",
       "      <td>-2.399228</td>\n",
       "      <td>-0.016636</td>\n",
       "      <td>0.000000</td>\n",
       "    </tr>\n",
       "    <tr>\n",
       "      <th>...</th>\n",
       "      <td>...</td>\n",
       "      <td>...</td>\n",
       "      <td>...</td>\n",
       "      <td>...</td>\n",
       "    </tr>\n",
       "    <tr>\n",
       "      <th>55499</th>\n",
       "      <td>-7.968402</td>\n",
       "      <td>-8.487218</td>\n",
       "      <td>5.016737</td>\n",
       "      <td>137.945408</td>\n",
       "    </tr>\n",
       "    <tr>\n",
       "      <th>19697</th>\n",
       "      <td>12.128382</td>\n",
       "      <td>-5.670456</td>\n",
       "      <td>5.016804</td>\n",
       "      <td>134.766305</td>\n",
       "    </tr>\n",
       "    <tr>\n",
       "      <th>21507</th>\n",
       "      <td>15.905863</td>\n",
       "      <td>5.014246</td>\n",
       "      <td>5.017503</td>\n",
       "      <td>134.766305</td>\n",
       "    </tr>\n",
       "    <tr>\n",
       "      <th>6345</th>\n",
       "      <td>-6.156347</td>\n",
       "      <td>4.864559</td>\n",
       "      <td>5.019091</td>\n",
       "      <td>137.945408</td>\n",
       "    </tr>\n",
       "    <tr>\n",
       "      <th>76889</th>\n",
       "      <td>6.007890</td>\n",
       "      <td>-1.749615</td>\n",
       "      <td>5.019721</td>\n",
       "      <td>134.766305</td>\n",
       "    </tr>\n",
       "  </tbody>\n",
       "</table>\n",
       "<p>100000 rows × 4 columns</p>\n",
       "</div>"
      ],
      "text/plain": [
       "              f0        f1        f2     product\n",
       "39883 -12.413771 -4.156430 -0.018144    3.179103\n",
       "8890   -7.158662 -9.143824 -0.017887    3.179103\n",
       "71735   7.568092 -6.483928 -0.017686    0.000000\n",
       "17969  -9.129885 -3.351751 -0.016988    3.179103\n",
       "57099   6.115644 -2.399228 -0.016636    0.000000\n",
       "...          ...       ...       ...         ...\n",
       "55499  -7.968402 -8.487218  5.016737  137.945408\n",
       "19697  12.128382 -5.670456  5.016804  134.766305\n",
       "21507  15.905863  5.014246  5.017503  134.766305\n",
       "6345   -6.156347  4.864559  5.019091  137.945408\n",
       "76889   6.007890 -1.749615  5.019721  134.766305\n",
       "\n",
       "[100000 rows x 4 columns]"
      ]
     },
     "execution_count": 34,
     "metadata": {},
     "output_type": "execute_result"
    }
   ],
   "source": [
    "data[2].sort_values('f2')"
   ]
  },
  {
   "cell_type": "markdown",
   "metadata": {},
   "source": [
    "### Выводы:"
   ]
  },
  {
   "cell_type": "markdown",
   "metadata": {},
   "source": [
    "Целевым признаком в нашем датасете является колонка `product`.\n",
    "\n",
    "Пропуски отсутствуют.\n",
    "\n",
    "Во втором датасете обнаружено незначительное количество дубликатов в колонке `id`, между колонкой f2 и целевым признаком очень сильная корреляция, а также на гистограмме выявлены необычные набора данных в столбцах `f2` и `product`. Данные синтетические, сделать анализ аномалий мы не можем.\n",
    "\n",
    "Столбец `id` мы удалили, он не несет полезной для нашей цели информации."
   ]
  },
  {
   "cell_type": "markdown",
   "metadata": {},
   "source": [
    "## Обучение и проверка модели"
   ]
  },
  {
   "cell_type": "code",
   "execution_count": 35,
   "metadata": {},
   "outputs": [],
   "source": [
    "X_train, X_valid, y_train, y_valid, data_valid = {}, {}, {}, {}, {}"
   ]
  },
  {
   "cell_type": "code",
   "execution_count": 36,
   "metadata": {},
   "outputs": [],
   "source": [
    "def data_learn(region):\n",
    "    features = data[region].drop(['product'], axis=1)\n",
    "    target = data[region]['product']\n",
    "\n",
    "    X_train[region], X_valid[region], y_train[region], y_valid[region] = train_test_split(\n",
    "        features, target, test_size=.25, random_state=RANDOM_STATE)\n",
    "    \n",
    "    model = LinearRegression()\n",
    "    model.fit(X_train[region], y_train[region])\n",
    "    predictions = model.predict(X_valid[region])\n",
    "    \n",
    "    data_valid[region] = X_valid[region]\n",
    "    data_valid[region]['prediction'] = predictions\n",
    "    data_valid[region]['product'] = y_valid[region]\n",
    "    print(f'Регион № {region}:')\n",
    "    print(f'Cредний запас предсказанного \\\n",
    "сырья: {predictions.mean():.2f}')\n",
    "    \n",
    "    rmse = mean_squared_error(y_valid[region], predictions)**0.5\n",
    "    print(f'RMSE на валидационной выборке: {rmse:.2f}')   "
   ]
  },
  {
   "cell_type": "code",
   "execution_count": 37,
   "metadata": {
    "scrolled": false
   },
   "outputs": [
    {
     "name": "stdout",
     "output_type": "stream",
     "text": [
      "Регион № 1:\n",
      "Cредний запас предсказанного сырья: 92.44\n",
      "RMSE на валидационной выборке: 37.98\n"
     ]
    }
   ],
   "source": [
    "data_learn(1)"
   ]
  },
  {
   "cell_type": "code",
   "execution_count": 38,
   "metadata": {
    "scrolled": false
   },
   "outputs": [
    {
     "name": "stdout",
     "output_type": "stream",
     "text": [
      "Регион № 2:\n",
      "Cредний запас предсказанного сырья: 68.82\n",
      "RMSE на валидационной выборке: 0.89\n"
     ]
    }
   ],
   "source": [
    "data_learn(2)"
   ]
  },
  {
   "cell_type": "code",
   "execution_count": 39,
   "metadata": {
    "scrolled": true
   },
   "outputs": [
    {
     "name": "stdout",
     "output_type": "stream",
     "text": [
      "Регион № 3:\n",
      "Cредний запас предсказанного сырья: 95.07\n",
      "RMSE на валидационной выборке: 40.03\n"
     ]
    }
   ],
   "source": [
    "data_learn(3)"
   ]
  },
  {
   "cell_type": "markdown",
   "metadata": {},
   "source": [
    "### Анализ результатов\n",
    "\n",
    "В регионе №1 наименьший запас и совсем небольшой RMSE.  \n",
    "Лучший результат по запасам предсказанного сырья в регионе №2, но и самое большое значение RMSE. "
   ]
  },
  {
   "cell_type": "markdown",
   "metadata": {},
   "source": [
    "## Подготовка к расчёту прибыли"
   ]
  },
  {
   "cell_type": "markdown",
   "metadata": {},
   "source": [
    "Ключевые значения для расчётов:"
   ]
  },
  {
   "cell_type": "code",
   "execution_count": 40,
   "metadata": {},
   "outputs": [],
   "source": [
    "#Бюджет на разработку скважин в регионе (млн.руб.):\n",
    "BUDGET = 10000 \n",
    "\n",
    "#Доход с каждой единицы продукта (млн.руб./тыс.баррелей):\n",
    "REVENUE_PER_UNIT = .45\n",
    "\n",
    "#500 случайных скважин для отбора лучших:\n",
    "WELLS_500 = 500\n",
    "\n",
    "#200 лучших скважин для разработки:\n",
    "BEST_200 = 200\n",
    "\n",
    "#вероятность убытков:\n",
    "LOSS_PROBABILITY_MAX = .025"
   ]
  },
  {
   "cell_type": "code",
   "execution_count": 41,
   "metadata": {},
   "outputs": [
    {
     "name": "stdout",
     "output_type": "stream",
     "text": [
      "Объём сырья для безубыточной разработки новой скважины, тыс.баррелей: 111.11\n"
     ]
    }
   ],
   "source": [
    "#Объём сырья для безубыточной разработки новой скважины:\n",
    "min_volume_oil = BUDGET / BEST_200 / REVENUE_PER_UNIT\n",
    "print(f'Объём сырья для безубыточной разработки новой скважины, тыс.баррелей: {min_volume_oil:.2f}')"
   ]
  },
  {
   "cell_type": "markdown",
   "metadata": {},
   "source": [
    "% среднего запаса сырья в регионах к объёму сырья для безубыточной разработки новой скважины:"
   ]
  },
  {
   "cell_type": "code",
   "execution_count": 42,
   "metadata": {},
   "outputs": [
    {
     "name": "stdout",
     "output_type": "stream",
     "text": [
      "Регион №1: 83.3%\n",
      "Регион №2: 61.9%\n",
      "Регион №3: 85.5%\n"
     ]
    }
   ],
   "source": [
    "print(f'Регион №1: {data[1][\"product\"].mean()/min_volume_oil:.1%}')\n",
    "print(f'Регион №2: {data[2][\"product\"].mean()/min_volume_oil:.1%}')\n",
    "print(f'Регион №3: {data[3][\"product\"].mean()/min_volume_oil:.1%}')"
   ]
  },
  {
   "cell_type": "markdown",
   "metadata": {},
   "source": [
    "#### Выводы:\n",
    "\n",
    "Среднего запаса сырья в каждом регионе не хватает для безубыточной разработки."
   ]
  },
  {
   "cell_type": "markdown",
   "metadata": {},
   "source": [
    "## Функция для расчета прибыли"
   ]
  },
  {
   "cell_type": "code",
   "execution_count": 43,
   "metadata": {},
   "outputs": [],
   "source": [
    "def income(well_500):\n",
    "\n",
    "    top_200 = well_500.sort_values(by='prediction', ascending=False).head(BEST_200)\n",
    "    income_fact = top_200['product'].sum() * REVENUE_PER_UNIT\n",
    "    profit = income_fact - BUDGET\n",
    "    \n",
    "    return profit"
   ]
  },
  {
   "cell_type": "markdown",
   "metadata": {},
   "source": [
    "## Расчёт прибыли и рисков "
   ]
  },
  {
   "cell_type": "markdown",
   "metadata": {},
   "source": [
    "Применим технику Bootstrap, чтобы найти распределение прибыли."
   ]
  },
  {
   "cell_type": "code",
   "execution_count": 44,
   "metadata": {},
   "outputs": [],
   "source": [
    "def bootstrap(region):\n",
    "    state = np.random.RandomState(12345)    \n",
    "    bootstrap_values = []\n",
    "    for _ in range(1000):\n",
    "        well_500 = data_valid[region].sample(n=WELLS_500, replace=True, \n",
    "                                          random_state=state)\n",
    "        bootstrap_values.append(income(well_500))\n",
    "\n",
    "    bootstrap_values = pd.Series(bootstrap_values)\n",
    "    lower = bootstrap_values.quantile(0.025)\n",
    "    upper = bootstrap_values.quantile(0.975)\n",
    "    risk_of_loss = bootstrap_values[bootstrap_values<0].count() / bootstrap_values.count()\n",
    "\n",
    "    mean = bootstrap_values.mean()\n",
    "    \n",
    "    bootstrap_values.hist(bins=100, figsize=(12, 5))\n",
    "    \n",
    "    plt.xlabel('Прибыль')\n",
    "    plt.ylabel('Количество выборок')\n",
    "    plt.title('Распределение прибыли')\n",
    "    plt.show()   \n",
    "    \n",
    "    print(f'Средняя прибыль, млн.руб: {mean:.2f}')\n",
    "    print(f'95%-й доверительный интервал, млн.руб: {lower:.2f}, {upper:.2f}')\n",
    "    print(f'Риск убытков: {risk_of_loss:.2%}')\n",
    "    print(f'Риск убытков выше 2.5%, регион №{region} отвергаем.') \\\n",
    "    if risk_of_loss > LOSS_PROBABILITY_MAX else \"\""
   ]
  },
  {
   "cell_type": "code",
   "execution_count": 45,
   "metadata": {
    "scrolled": false
   },
   "outputs": [
    {
     "data": {
      "image/png": "[encoded data removed]",
      "text/plain": [
       "<Figure size 864x360 with 1 Axes>"
      ]
     },
     "metadata": {
      "needs_background": "light"
     },
     "output_type": "display_data"
    },
    {
     "name": "stdout",
     "output_type": "stream",
     "text": [
      "Средняя прибыль, млн.руб: 391.87\n",
      "95%-й доверительный интервал, млн.руб: -140.69, 898.12\n",
      "Риск убытков: 7.60%\n",
      "Риск убытков выше 2.5%, регион №1 отвергаем.\n"
     ]
    }
   ],
   "source": [
    "bootstrap(1)"
   ]
  },
  {
   "cell_type": "code",
   "execution_count": 46,
   "metadata": {
    "scrolled": false
   },
   "outputs": [
    {
     "data": {
      "image/png": "[encoded data removed]",
      "text/plain": [
       "<Figure size 864x360 with 1 Axes>"
      ]
     },
     "metadata": {
      "needs_background": "light"
     },
     "output_type": "display_data"
    },
    {
     "name": "stdout",
     "output_type": "stream",
     "text": [
      "Средняя прибыль, млн.руб: 457.53\n",
      "95%-й доверительный интервал, млн.руб: 110.89, 857.93\n",
      "Риск убытков: 0.50%\n"
     ]
    }
   ],
   "source": [
    "bootstrap(2)"
   ]
  },
  {
   "cell_type": "code",
   "execution_count": 47,
   "metadata": {
    "scrolled": false
   },
   "outputs": [
    {
     "data": {
      "image/png": "[encoded data removed]",
      "text/plain": [
       "<Figure size 864x360 with 1 Axes>"
      ]
     },
     "metadata": {
      "needs_background": "light"
     },
     "output_type": "display_data"
    },
    {
     "name": "stdout",
     "output_type": "stream",
     "text": [
      "Средняя прибыль, млн.руб: 341.37\n",
      "95%-й доверительный интервал, млн.руб: -162.28, 826.85\n",
      "Риск убытков: 9.70%\n",
      "Риск убытков выше 2.5%, регион №3 отвергаем.\n"
     ]
    }
   ],
   "source": [
    "bootstrap(3)"
   ]
  },
  {
   "cell_type": "markdown",
   "metadata": {},
   "source": [
    "## Выводы:\n",
    "\n",
    "В результате применения техники bootstrap мы выявили единственный подходящий по условиям (после оценки рисков нужно оставить лишь те регионы, в которых вероятность убытков меньше 2.5%) регион №2. Также второй регион лидирует по средней прибыли, и у него единственного нижний квантиль положителен."
   ]
  },
  {
   "cell_type": "code",
   "execution_count": null,
   "metadata": {},
   "outputs": [],
   "source": []
  }
 ],
 "metadata": {
  "ExecuteTimeLog": [
   {
    "duration": 817,
    "start_time": "2023-02-07T07:16:08.634Z"
   },
   {
    "duration": 0,
    "start_time": "2023-02-07T07:16:09.453Z"
   },
   {
    "duration": 0,
    "start_time": "2023-02-07T07:16:09.455Z"
   },
   {
    "duration": 0,
    "start_time": "2023-02-07T07:16:09.456Z"
   },
   {
    "duration": 0,
    "start_time": "2023-02-07T07:16:09.457Z"
   },
   {
    "duration": 0,
    "start_time": "2023-02-07T07:16:09.459Z"
   },
   {
    "duration": 0,
    "start_time": "2023-02-07T07:16:09.460Z"
   },
   {
    "duration": 0,
    "start_time": "2023-02-07T07:16:09.462Z"
   },
   {
    "duration": 0,
    "start_time": "2023-02-07T07:16:09.464Z"
   },
   {
    "duration": 0,
    "start_time": "2023-02-07T07:16:09.465Z"
   },
   {
    "duration": 0,
    "start_time": "2023-02-07T07:16:09.466Z"
   },
   {
    "duration": 0,
    "start_time": "2023-02-07T07:16:09.467Z"
   },
   {
    "duration": 0,
    "start_time": "2023-02-07T07:16:09.469Z"
   },
   {
    "duration": 0,
    "start_time": "2023-02-07T07:16:09.470Z"
   },
   {
    "duration": 0,
    "start_time": "2023-02-07T07:16:09.471Z"
   },
   {
    "duration": 0,
    "start_time": "2023-02-07T07:16:09.473Z"
   },
   {
    "duration": 0,
    "start_time": "2023-02-07T07:16:09.474Z"
   },
   {
    "duration": 0,
    "start_time": "2023-02-07T07:16:09.475Z"
   },
   {
    "duration": 0,
    "start_time": "2023-02-07T07:16:09.477Z"
   },
   {
    "duration": 0,
    "start_time": "2023-02-07T07:16:09.478Z"
   },
   {
    "duration": 0,
    "start_time": "2023-02-07T07:16:09.480Z"
   },
   {
    "duration": 1213,
    "start_time": "2023-02-07T07:19:39.491Z"
   },
   {
    "duration": 8137,
    "start_time": "2023-02-07T07:20:02.935Z"
   },
   {
    "duration": 1204,
    "start_time": "2023-02-07T07:20:17.045Z"
   },
   {
    "duration": 2,
    "start_time": "2023-02-07T07:20:18.251Z"
   },
   {
    "duration": 24,
    "start_time": "2023-02-07T07:20:18.255Z"
   },
   {
    "duration": 1587,
    "start_time": "2023-02-07T07:20:18.280Z"
   },
   {
    "duration": 1379,
    "start_time": "2023-02-07T07:20:19.869Z"
   },
   {
    "duration": 1641,
    "start_time": "2023-02-07T07:20:21.249Z"
   },
   {
    "duration": 11,
    "start_time": "2023-02-07T07:20:22.892Z"
   },
   {
    "duration": 49,
    "start_time": "2023-02-07T07:20:22.905Z"
   },
   {
    "duration": 14,
    "start_time": "2023-02-07T07:20:22.956Z"
   },
   {
    "duration": 18,
    "start_time": "2023-02-07T07:20:22.971Z"
   },
   {
    "duration": 59,
    "start_time": "2023-02-07T07:20:22.990Z"
   },
   {
    "duration": 217,
    "start_time": "2023-02-07T07:20:23.050Z"
   },
   {
    "duration": 194,
    "start_time": "2023-02-07T07:20:23.271Z"
   },
   {
    "duration": 76,
    "start_time": "2023-02-07T07:20:23.468Z"
   },
   {
    "duration": 108,
    "start_time": "2023-02-07T07:20:23.547Z"
   },
   {
    "duration": 7,
    "start_time": "2023-02-07T07:20:23.656Z"
   },
   {
    "duration": 7,
    "start_time": "2023-02-07T07:20:23.664Z"
   },
   {
    "duration": 6,
    "start_time": "2023-02-07T07:20:23.672Z"
   },
   {
    "duration": 0,
    "start_time": "2023-02-07T07:20:23.679Z"
   },
   {
    "duration": 0,
    "start_time": "2023-02-07T07:20:23.680Z"
   },
   {
    "duration": 0,
    "start_time": "2023-02-07T07:20:23.681Z"
   },
   {
    "duration": 0,
    "start_time": "2023-02-07T07:20:23.684Z"
   },
   {
    "duration": 5,
    "start_time": "2023-02-07T07:20:34.553Z"
   },
   {
    "duration": 894,
    "start_time": "2023-02-07T07:20:34.818Z"
   },
   {
    "duration": 898,
    "start_time": "2023-02-07T07:20:35.714Z"
   },
   {
    "duration": 996,
    "start_time": "2023-02-07T07:20:36.614Z"
   },
   {
    "duration": 7,
    "start_time": "2023-02-07T07:47:14.427Z"
   },
   {
    "duration": 806,
    "start_time": "2023-02-07T07:47:26.757Z"
   },
   {
    "duration": 0,
    "start_time": "2023-02-07T07:47:27.566Z"
   },
   {
    "duration": 0,
    "start_time": "2023-02-07T07:47:27.567Z"
   },
   {
    "duration": 0,
    "start_time": "2023-02-07T07:47:27.568Z"
   },
   {
    "duration": 1,
    "start_time": "2023-02-07T07:47:27.569Z"
   },
   {
    "duration": 0,
    "start_time": "2023-02-07T07:47:27.570Z"
   },
   {
    "duration": 0,
    "start_time": "2023-02-07T07:47:27.571Z"
   },
   {
    "duration": 0,
    "start_time": "2023-02-07T07:47:27.572Z"
   },
   {
    "duration": 0,
    "start_time": "2023-02-07T07:47:27.574Z"
   },
   {
    "duration": 0,
    "start_time": "2023-02-07T07:47:27.575Z"
   },
   {
    "duration": 0,
    "start_time": "2023-02-07T07:47:27.576Z"
   },
   {
    "duration": 0,
    "start_time": "2023-02-07T07:47:27.577Z"
   },
   {
    "duration": 0,
    "start_time": "2023-02-07T07:47:27.578Z"
   },
   {
    "duration": 0,
    "start_time": "2023-02-07T07:47:27.580Z"
   },
   {
    "duration": 3,
    "start_time": "2023-02-07T07:48:37.260Z"
   },
   {
    "duration": 11,
    "start_time": "2023-02-07T07:52:16.966Z"
   },
   {
    "duration": 3184,
    "start_time": "2023-02-07T07:52:35.696Z"
   },
   {
    "duration": 3,
    "start_time": "2023-02-07T07:52:46.396Z"
   },
   {
    "duration": 6,
    "start_time": "2023-02-07T07:52:47.395Z"
   },
   {
    "duration": 1621,
    "start_time": "2023-02-07T08:22:27.935Z"
   },
   {
    "duration": 1645,
    "start_time": "2023-02-07T08:23:04.576Z"
   },
   {
    "duration": 1451,
    "start_time": "2023-02-07T08:23:06.224Z"
   },
   {
    "duration": 12,
    "start_time": "2023-02-07T08:23:07.676Z"
   },
   {
    "duration": 22,
    "start_time": "2023-02-07T08:23:07.689Z"
   },
   {
    "duration": 2,
    "start_time": "2023-02-07T08:23:07.713Z"
   },
   {
    "duration": 24,
    "start_time": "2023-02-07T08:23:07.716Z"
   },
   {
    "duration": 28,
    "start_time": "2023-02-07T08:23:07.742Z"
   },
   {
    "duration": 176,
    "start_time": "2023-02-07T08:23:07.771Z"
   },
   {
    "duration": 197,
    "start_time": "2023-02-07T08:23:07.948Z"
   },
   {
    "duration": 90,
    "start_time": "2023-02-07T08:23:08.147Z"
   },
   {
    "duration": 4,
    "start_time": "2023-02-07T08:23:08.239Z"
   },
   {
    "duration": 96,
    "start_time": "2023-02-07T08:23:08.245Z"
   },
   {
    "duration": 6,
    "start_time": "2023-02-07T08:23:08.343Z"
   },
   {
    "duration": 15,
    "start_time": "2023-02-07T08:23:08.351Z"
   },
   {
    "duration": 953,
    "start_time": "2023-02-07T08:23:08.367Z"
   },
   {
    "duration": 933,
    "start_time": "2023-02-07T08:23:09.321Z"
   },
   {
    "duration": 1007,
    "start_time": "2023-02-07T08:23:10.256Z"
   },
   {
    "duration": 3,
    "start_time": "2023-02-07T08:25:18.954Z"
   },
   {
    "duration": 1790,
    "start_time": "2023-02-07T08:32:08.124Z"
   },
   {
    "duration": 3,
    "start_time": "2023-02-07T08:32:09.916Z"
   },
   {
    "duration": 12,
    "start_time": "2023-02-07T08:32:09.921Z"
   },
   {
    "duration": 1497,
    "start_time": "2023-02-07T08:32:09.935Z"
   },
   {
    "duration": 1673,
    "start_time": "2023-02-07T08:32:11.434Z"
   },
   {
    "duration": 1471,
    "start_time": "2023-02-07T08:32:13.108Z"
   },
   {
    "duration": 13,
    "start_time": "2023-02-07T08:32:14.580Z"
   },
   {
    "duration": 24,
    "start_time": "2023-02-07T08:32:14.594Z"
   },
   {
    "duration": 3,
    "start_time": "2023-02-07T08:32:14.638Z"
   },
   {
    "duration": 10,
    "start_time": "2023-02-07T08:32:14.642Z"
   },
   {
    "duration": 92,
    "start_time": "2023-02-07T08:32:14.654Z"
   },
   {
    "duration": 190,
    "start_time": "2023-02-07T08:32:14.748Z"
   },
   {
    "duration": 221,
    "start_time": "2023-02-07T08:32:14.939Z"
   },
   {
    "duration": 3,
    "start_time": "2023-02-07T08:32:15.163Z"
   },
   {
    "duration": 9,
    "start_time": "2023-02-07T08:32:15.238Z"
   },
   {
    "duration": 108,
    "start_time": "2023-02-07T08:32:15.248Z"
   },
   {
    "duration": 18,
    "start_time": "2023-02-07T08:32:15.358Z"
   },
   {
    "duration": 20,
    "start_time": "2023-02-07T08:32:15.378Z"
   },
   {
    "duration": 1095,
    "start_time": "2023-02-07T08:32:15.400Z"
   },
   {
    "duration": 959,
    "start_time": "2023-02-07T08:32:16.497Z"
   },
   {
    "duration": 999,
    "start_time": "2023-02-07T08:32:17.457Z"
   }
  ],
  "kernelspec": {
   "display_name": "Python 3 (ipykernel)",
   "language": "python",
   "name": "python3"
  },
  "language_info": {
   "codemirror_mode": {
    "name": "ipython",
    "version": 3
   },
   "file_extension": ".py",
   "mimetype": "text/x-python",
   "name": "python",
   "nbconvert_exporter": "python",
   "pygments_lexer": "ipython3",
   "version": "3.9.16"
  },
  "toc": {
   "base_numbering": 1,
   "nav_menu": {},
   "number_sections": true,
   "sideBar": true,
   "skip_h1_title": true,
   "title_cell": "Table of Contents",
   "title_sidebar": "Contents",
   "toc_cell": false,
   "toc_position": {},
   "toc_section_display": true,
   "toc_window_display": false
  }
 },
 "nbformat": 4,
 "nbformat_minor": 2
}
