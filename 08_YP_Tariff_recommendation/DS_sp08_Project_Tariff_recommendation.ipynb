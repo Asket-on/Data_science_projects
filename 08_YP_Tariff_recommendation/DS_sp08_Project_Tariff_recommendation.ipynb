{
 "cells": [
  {
   "cell_type": "markdown",
   "metadata": {},
   "source": [
    "# Рекомендация тарифов"
   ]
  },
  {
   "cell_type": "markdown",
   "metadata": {},
   "source": [
    "В нашем распоряжении данные о поведении клиентов, которые уже перешли на эти тарифы (из проекта курса «Статистический анализ данных»). Нужно построить модель для задачи классификации, которая выберет подходящий тариф. Предобработка данных не понадобится — мы её уже сделали.\n",
    "\n",
    "Построим модель с максимально большим значением *accuracy*. Чтобы сдать проект успешно, нужно довести долю правильных ответов по крайней мере до 0.75. Проверим *accuracy* на тестовой выборке самостоятельно."
   ]
  },
  {
   "cell_type": "markdown",
   "metadata": {},
   "source": [
    "## Откроем и изучим файл"
   ]
  },
  {
   "cell_type": "code",
   "execution_count": 70,
   "metadata": {},
   "outputs": [],
   "source": [
    "# отключим предупреждения Anaconda\n",
    "import warnings\n",
    "warnings.filterwarnings('ignore')\n",
    "\n",
    "%matplotlib inline\n",
    "import matplotlib.pyplot as plt\n",
    "\n",
    "import numpy as np\n",
    "import pandas as pd\n",
    "from sklearn.tree import DecisionTreeClassifier\n",
    "from sklearn.metrics import accuracy_score \n",
    "from sklearn.ensemble import RandomForestClassifier\n",
    "from sklearn.linear_model import LogisticRegression\n",
    "from sklearn.model_selection import train_test_split\n",
    "from sklearn.model_selection import cross_val_score, StratifiedKFold\n",
    "from sklearn.dummy import DummyClassifier"
   ]
  },
  {
   "cell_type": "code",
   "execution_count": 72,
   "metadata": {},
   "outputs": [
    {
     "data": {
      "text/html": [
       "<div>\n",
       "<style scoped>\n",
       "    .dataframe tbody tr th:only-of-type {\n",
       "        vertical-align: middle;\n",
       "    }\n",
       "\n",
       "    .dataframe tbody tr th {\n",
       "        vertical-align: top;\n",
       "    }\n",
       "\n",
       "    .dataframe thead th {\n",
       "        text-align: right;\n",
       "    }\n",
       "</style>\n",
       "<table border=\"1\" class=\"dataframe\">\n",
       "  <thead>\n",
       "    <tr style=\"text-align: right;\">\n",
       "      <th></th>\n",
       "      <th>calls</th>\n",
       "      <th>minutes</th>\n",
       "      <th>messages</th>\n",
       "      <th>mb_used</th>\n",
       "      <th>is_ultra</th>\n",
       "    </tr>\n",
       "  </thead>\n",
       "  <tbody>\n",
       "    <tr>\n",
       "      <th>0</th>\n",
       "      <td>40.0</td>\n",
       "      <td>311.90</td>\n",
       "      <td>83.0</td>\n",
       "      <td>19915.42</td>\n",
       "      <td>0</td>\n",
       "    </tr>\n",
       "    <tr>\n",
       "      <th>1</th>\n",
       "      <td>85.0</td>\n",
       "      <td>516.75</td>\n",
       "      <td>56.0</td>\n",
       "      <td>22696.96</td>\n",
       "      <td>0</td>\n",
       "    </tr>\n",
       "    <tr>\n",
       "      <th>2</th>\n",
       "      <td>77.0</td>\n",
       "      <td>467.66</td>\n",
       "      <td>86.0</td>\n",
       "      <td>21060.45</td>\n",
       "      <td>0</td>\n",
       "    </tr>\n",
       "    <tr>\n",
       "      <th>3</th>\n",
       "      <td>106.0</td>\n",
       "      <td>745.53</td>\n",
       "      <td>81.0</td>\n",
       "      <td>8437.39</td>\n",
       "      <td>1</td>\n",
       "    </tr>\n",
       "    <tr>\n",
       "      <th>4</th>\n",
       "      <td>66.0</td>\n",
       "      <td>418.74</td>\n",
       "      <td>1.0</td>\n",
       "      <td>14502.75</td>\n",
       "      <td>0</td>\n",
       "    </tr>\n",
       "    <tr>\n",
       "      <th>...</th>\n",
       "      <td>...</td>\n",
       "      <td>...</td>\n",
       "      <td>...</td>\n",
       "      <td>...</td>\n",
       "      <td>...</td>\n",
       "    </tr>\n",
       "    <tr>\n",
       "      <th>3209</th>\n",
       "      <td>122.0</td>\n",
       "      <td>910.98</td>\n",
       "      <td>20.0</td>\n",
       "      <td>35124.90</td>\n",
       "      <td>1</td>\n",
       "    </tr>\n",
       "    <tr>\n",
       "      <th>3210</th>\n",
       "      <td>25.0</td>\n",
       "      <td>190.36</td>\n",
       "      <td>0.0</td>\n",
       "      <td>3275.61</td>\n",
       "      <td>0</td>\n",
       "    </tr>\n",
       "    <tr>\n",
       "      <th>3211</th>\n",
       "      <td>97.0</td>\n",
       "      <td>634.44</td>\n",
       "      <td>70.0</td>\n",
       "      <td>13974.06</td>\n",
       "      <td>0</td>\n",
       "    </tr>\n",
       "    <tr>\n",
       "      <th>3212</th>\n",
       "      <td>64.0</td>\n",
       "      <td>462.32</td>\n",
       "      <td>90.0</td>\n",
       "      <td>31239.78</td>\n",
       "      <td>0</td>\n",
       "    </tr>\n",
       "    <tr>\n",
       "      <th>3213</th>\n",
       "      <td>80.0</td>\n",
       "      <td>566.09</td>\n",
       "      <td>6.0</td>\n",
       "      <td>29480.52</td>\n",
       "      <td>1</td>\n",
       "    </tr>\n",
       "  </tbody>\n",
       "</table>\n",
       "<p>3214 rows × 5 columns</p>\n",
       "</div>"
      ],
      "text/plain": [
       "      calls  minutes  messages   mb_used  is_ultra\n",
       "0      40.0   311.90      83.0  19915.42         0\n",
       "1      85.0   516.75      56.0  22696.96         0\n",
       "2      77.0   467.66      86.0  21060.45         0\n",
       "3     106.0   745.53      81.0   8437.39         1\n",
       "4      66.0   418.74       1.0  14502.75         0\n",
       "...     ...      ...       ...       ...       ...\n",
       "3209  122.0   910.98      20.0  35124.90         1\n",
       "3210   25.0   190.36       0.0   3275.61         0\n",
       "3211   97.0   634.44      70.0  13974.06         0\n",
       "3212   64.0   462.32      90.0  31239.78         0\n",
       "3213   80.0   566.09       6.0  29480.52         1\n",
       "\n",
       "[3214 rows x 5 columns]"
      ]
     },
     "execution_count": 72,
     "metadata": {},
     "output_type": "execute_result"
    }
   ],
   "source": [
    "df.head()"
   ]
  },
  {
   "cell_type": "code",
   "execution_count": 73,
   "metadata": {
    "scrolled": true
   },
   "outputs": [
    {
     "data": {
      "text/html": [
       "<div>\n",
       "<style scoped>\n",
       "    .dataframe tbody tr th:only-of-type {\n",
       "        vertical-align: middle;\n",
       "    }\n",
       "\n",
       "    .dataframe tbody tr th {\n",
       "        vertical-align: top;\n",
       "    }\n",
       "\n",
       "    .dataframe thead th {\n",
       "        text-align: right;\n",
       "    }\n",
       "</style>\n",
       "<table border=\"1\" class=\"dataframe\">\n",
       "  <thead>\n",
       "    <tr style=\"text-align: right;\">\n",
       "      <th></th>\n",
       "      <th>calls</th>\n",
       "      <th>minutes</th>\n",
       "      <th>messages</th>\n",
       "      <th>mb_used</th>\n",
       "      <th>is_ultra</th>\n",
       "    </tr>\n",
       "  </thead>\n",
       "  <tbody>\n",
       "    <tr>\n",
       "      <th>count</th>\n",
       "      <td>3214.000000</td>\n",
       "      <td>3214.000000</td>\n",
       "      <td>3214.000000</td>\n",
       "      <td>3214.000000</td>\n",
       "      <td>3214.000000</td>\n",
       "    </tr>\n",
       "    <tr>\n",
       "      <th>mean</th>\n",
       "      <td>63.038892</td>\n",
       "      <td>438.208787</td>\n",
       "      <td>38.281269</td>\n",
       "      <td>17207.673836</td>\n",
       "      <td>0.306472</td>\n",
       "    </tr>\n",
       "    <tr>\n",
       "      <th>std</th>\n",
       "      <td>33.236368</td>\n",
       "      <td>234.569872</td>\n",
       "      <td>36.148326</td>\n",
       "      <td>7570.968246</td>\n",
       "      <td>0.461100</td>\n",
       "    </tr>\n",
       "    <tr>\n",
       "      <th>min</th>\n",
       "      <td>0.000000</td>\n",
       "      <td>0.000000</td>\n",
       "      <td>0.000000</td>\n",
       "      <td>0.000000</td>\n",
       "      <td>0.000000</td>\n",
       "    </tr>\n",
       "    <tr>\n",
       "      <th>25%</th>\n",
       "      <td>40.000000</td>\n",
       "      <td>274.575000</td>\n",
       "      <td>9.000000</td>\n",
       "      <td>12491.902500</td>\n",
       "      <td>0.000000</td>\n",
       "    </tr>\n",
       "    <tr>\n",
       "      <th>50%</th>\n",
       "      <td>62.000000</td>\n",
       "      <td>430.600000</td>\n",
       "      <td>30.000000</td>\n",
       "      <td>16943.235000</td>\n",
       "      <td>0.000000</td>\n",
       "    </tr>\n",
       "    <tr>\n",
       "      <th>75%</th>\n",
       "      <td>82.000000</td>\n",
       "      <td>571.927500</td>\n",
       "      <td>57.000000</td>\n",
       "      <td>21424.700000</td>\n",
       "      <td>1.000000</td>\n",
       "    </tr>\n",
       "    <tr>\n",
       "      <th>max</th>\n",
       "      <td>244.000000</td>\n",
       "      <td>1632.060000</td>\n",
       "      <td>224.000000</td>\n",
       "      <td>49745.730000</td>\n",
       "      <td>1.000000</td>\n",
       "    </tr>\n",
       "  </tbody>\n",
       "</table>\n",
       "</div>"
      ],
      "text/plain": [
       "             calls      minutes     messages       mb_used     is_ultra\n",
       "count  3214.000000  3214.000000  3214.000000   3214.000000  3214.000000\n",
       "mean     63.038892   438.208787    38.281269  17207.673836     0.306472\n",
       "std      33.236368   234.569872    36.148326   7570.968246     0.461100\n",
       "min       0.000000     0.000000     0.000000      0.000000     0.000000\n",
       "25%      40.000000   274.575000     9.000000  12491.902500     0.000000\n",
       "50%      62.000000   430.600000    30.000000  16943.235000     0.000000\n",
       "75%      82.000000   571.927500    57.000000  21424.700000     1.000000\n",
       "max     244.000000  1632.060000   224.000000  49745.730000     1.000000"
      ]
     },
     "execution_count": 73,
     "metadata": {},
     "output_type": "execute_result"
    }
   ],
   "source": [
    "df.describe()"
   ]
  },
  {
   "cell_type": "markdown",
   "metadata": {},
   "source": [
    "Пропуски отсутствуют.\n",
    "\n",
    "Посмотрим на дисбаланс признаков:"
   ]
  },
  {
   "cell_type": "code",
   "execution_count": 74,
   "metadata": {
    "scrolled": true
   },
   "outputs": [
    {
     "data": {
      "text/html": [
       "<div>\n",
       "<style scoped>\n",
       "    .dataframe tbody tr th:only-of-type {\n",
       "        vertical-align: middle;\n",
       "    }\n",
       "\n",
       "    .dataframe tbody tr th {\n",
       "        vertical-align: top;\n",
       "    }\n",
       "\n",
       "    .dataframe thead th {\n",
       "        text-align: right;\n",
       "    }\n",
       "</style>\n",
       "<table border=\"1\" class=\"dataframe\">\n",
       "  <thead>\n",
       "    <tr style=\"text-align: right;\">\n",
       "      <th></th>\n",
       "      <th>calls</th>\n",
       "      <th>minutes</th>\n",
       "      <th>messages</th>\n",
       "      <th>mb_used</th>\n",
       "    </tr>\n",
       "    <tr>\n",
       "      <th>is_ultra</th>\n",
       "      <th></th>\n",
       "      <th></th>\n",
       "      <th></th>\n",
       "      <th></th>\n",
       "    </tr>\n",
       "  </thead>\n",
       "  <tbody>\n",
       "    <tr>\n",
       "      <th>0</th>\n",
       "      <td>58.463437</td>\n",
       "      <td>405.942952</td>\n",
       "      <td>33.384029</td>\n",
       "      <td>16208.466949</td>\n",
       "    </tr>\n",
       "    <tr>\n",
       "      <th>1</th>\n",
       "      <td>73.392893</td>\n",
       "      <td>511.224569</td>\n",
       "      <td>49.363452</td>\n",
       "      <td>19468.823228</td>\n",
       "    </tr>\n",
       "  </tbody>\n",
       "</table>\n",
       "</div>"
      ],
      "text/plain": [
       "              calls     minutes   messages       mb_used\n",
       "is_ultra                                                \n",
       "0         58.463437  405.942952  33.384029  16208.466949\n",
       "1         73.392893  511.224569  49.363452  19468.823228"
      ]
     },
     "execution_count": 74,
     "metadata": {},
     "output_type": "execute_result"
    }
   ],
   "source": [
    "df.groupby('is_ultra').mean()"
   ]
  },
  {
   "cell_type": "markdown",
   "metadata": {},
   "source": [
    "Мы наблюдаем двухкратную разницу в количестве пользователей между тарифами в пользу `Смарт` и небольшое превосходство в среднем количестве использованных единиц всех параметров тарифа `Ультра`. У нас нет сильных перекосов."
   ]
  },
  {
   "cell_type": "markdown",
   "metadata": {},
   "source": [
    "Посмотрим на корреляцию между признаками:"
   ]
  },
  {
   "cell_type": "code",
   "execution_count": 75,
   "metadata": {
    "scrolled": true
   },
   "outputs": [
    {
     "data": {
      "text/html": [
       "<div>\n",
       "<style scoped>\n",
       "    .dataframe tbody tr th:only-of-type {\n",
       "        vertical-align: middle;\n",
       "    }\n",
       "\n",
       "    .dataframe tbody tr th {\n",
       "        vertical-align: top;\n",
       "    }\n",
       "\n",
       "    .dataframe thead th {\n",
       "        text-align: right;\n",
       "    }\n",
       "</style>\n",
       "<table border=\"1\" class=\"dataframe\">\n",
       "  <thead>\n",
       "    <tr style=\"text-align: right;\">\n",
       "      <th></th>\n",
       "      <th>calls</th>\n",
       "      <th>minutes</th>\n",
       "      <th>messages</th>\n",
       "      <th>mb_used</th>\n",
       "      <th>is_ultra</th>\n",
       "    </tr>\n",
       "  </thead>\n",
       "  <tbody>\n",
       "    <tr>\n",
       "      <th>calls</th>\n",
       "      <td>1.000000</td>\n",
       "      <td>0.982083</td>\n",
       "      <td>0.177385</td>\n",
       "      <td>0.286442</td>\n",
       "      <td>0.207122</td>\n",
       "    </tr>\n",
       "    <tr>\n",
       "      <th>minutes</th>\n",
       "      <td>0.982083</td>\n",
       "      <td>1.000000</td>\n",
       "      <td>0.173110</td>\n",
       "      <td>0.280967</td>\n",
       "      <td>0.206955</td>\n",
       "    </tr>\n",
       "    <tr>\n",
       "      <th>messages</th>\n",
       "      <td>0.177385</td>\n",
       "      <td>0.173110</td>\n",
       "      <td>1.000000</td>\n",
       "      <td>0.195721</td>\n",
       "      <td>0.203830</td>\n",
       "    </tr>\n",
       "    <tr>\n",
       "      <th>mb_used</th>\n",
       "      <td>0.286442</td>\n",
       "      <td>0.280967</td>\n",
       "      <td>0.195721</td>\n",
       "      <td>1.000000</td>\n",
       "      <td>0.198568</td>\n",
       "    </tr>\n",
       "    <tr>\n",
       "      <th>is_ultra</th>\n",
       "      <td>0.207122</td>\n",
       "      <td>0.206955</td>\n",
       "      <td>0.203830</td>\n",
       "      <td>0.198568</td>\n",
       "      <td>1.000000</td>\n",
       "    </tr>\n",
       "  </tbody>\n",
       "</table>\n",
       "</div>"
      ],
      "text/plain": [
       "             calls   minutes  messages   mb_used  is_ultra\n",
       "calls     1.000000  0.982083  0.177385  0.286442  0.207122\n",
       "minutes   0.982083  1.000000  0.173110  0.280967  0.206955\n",
       "messages  0.177385  0.173110  1.000000  0.195721  0.203830\n",
       "mb_used   0.286442  0.280967  0.195721  1.000000  0.198568\n",
       "is_ultra  0.207122  0.206955  0.203830  0.198568  1.000000"
      ]
     },
     "execution_count": 75,
     "metadata": {},
     "output_type": "execute_result"
    }
   ],
   "source": [
    "df.corr()"
   ]
  },
  {
   "cell_type": "markdown",
   "metadata": {},
   "source": [
    "У нас ожидаемо сильная корреляция между количеством звонков и минутами. "
   ]
  },
  {
   "cell_type": "markdown",
   "metadata": {},
   "source": [
    "## Разбьем данные на выборки"
   ]
  },
  {
   "cell_type": "code",
   "execution_count": 76,
   "metadata": {},
   "outputs": [],
   "source": [
    "features = df.drop(['is_ultra'], axis=1)\n",
    "target = df['is_ultra']"
   ]
  },
  {
   "cell_type": "code",
   "execution_count": 77,
   "metadata": {},
   "outputs": [],
   "source": [
    "features_train, features_other, target_train, target_other = train_test_split(\n",
    "    features, target, test_size=.4, random_state=12345)"
   ]
  },
  {
   "cell_type": "code",
   "execution_count": 78,
   "metadata": {},
   "outputs": [],
   "source": [
    "features_test, features_valid, target_test, target_valid = train_test_split(\n",
    "    features_other, target_other, test_size=.5, random_state=12345)"
   ]
  },
  {
   "cell_type": "code",
   "execution_count": 79,
   "metadata": {},
   "outputs": [
    {
     "name": "stdout",
     "output_type": "stream",
     "text": [
      "Разрешение тренировочного датасета на входе: (1928, 4)\n",
      "Разрешение тестового датасета на входе: (643, 4)\n",
      "Разрешение тренировочного датасета на выходе: (1928,)\n",
      "Разрешение тестового датасета на выходе: (643,)\n"
     ]
    }
   ],
   "source": [
    "print(\"Разрешение тренировочного датасета на входе:\", features_train.shape)\n",
    "print(\"Разрешение тестового датасета на входе:\", features_test.shape)\n",
    "print(\"Разрешение тренировочного датасета на выходе:\", target_train.shape)\n",
    "print(\"Разрешение тестового датасета на выходе:\", target_test.shape)"
   ]
  },
  {
   "cell_type": "markdown",
   "metadata": {},
   "source": [
    "## Исследуем модели"
   ]
  },
  {
   "cell_type": "markdown",
   "metadata": {},
   "source": [
    "-   дерево решений,\n",
    "-   случайный лес,\n",
    "-   логистическую регрессию."
   ]
  },
  {
   "cell_type": "markdown",
   "metadata": {},
   "source": [
    "### Алгоритм классификации — _DecisionTreeClassifier_"
   ]
  },
  {
   "cell_type": "markdown",
   "metadata": {},
   "source": [
    "Классификация деревом решений с использованием структуры данных `DecisionTreeClassifier` из библиотеки `scikit-learn`.\n",
    "\n",
    "Обучим модель с параметрами по умолчанию:"
   ]
  },
  {
   "cell_type": "code",
   "execution_count": 80,
   "metadata": {},
   "outputs": [
    {
     "name": "stdout",
     "output_type": "stream",
     "text": [
      "Accuracy на валидационной выборке: 0.7309486780715396\n"
     ]
    }
   ],
   "source": [
    "model = DecisionTreeClassifier(random_state=12345)\n",
    "\n",
    "model.fit(features_train, target_train)\n",
    "valid_predictions = model.predict(features_valid) \n",
    "\n",
    "print(\"Accuracy на валидационной выборке:\", accuracy_score(target_valid, valid_predictions))"
   ]
  },
  {
   "cell_type": "markdown",
   "metadata": {},
   "source": [
    "Найдем оптимальную глубину дерева:"
   ]
  },
  {
   "cell_type": "code",
   "execution_count": 81,
   "metadata": {},
   "outputs": [
    {
     "name": "stdout",
     "output_type": "stream",
     "text": [
      "Лучшая модель: DecisionTreeClassifier(max_depth=7, random_state=12345)\n",
      "Accuracy лучшей модели на валидационной выборке: 0.7993779160186625\n"
     ]
    }
   ],
   "source": [
    "best_model_dtc = None\n",
    "best_result = 0\n",
    "accuracy_train = []\n",
    "accuracy_valid = []\n",
    "\n",
    "for depth in range(1, 31):\n",
    "    # обучим модель\n",
    "    model = DecisionTreeClassifier(random_state=12345, max_depth=depth)\n",
    "    model.fit(features_train, target_train)\n",
    "    # получим предсказания модели\n",
    "    predictions = model.predict(features_valid) \n",
    "    # посчитаем качество модели\n",
    "    result = accuracy_score(target_valid, predictions) \n",
    "    if result > best_result:\n",
    "        best_model_dtc = model\n",
    "        best_result = result\n",
    "    accuracy_train.append(accuracy_score(target_train, model.predict(features_train)))\n",
    "    accuracy_valid.append(result) \n",
    "    \n",
    "tree_accuracy_depth = pd.DataFrame({\n",
    "    \"max_depth\": range(1, 31), \n",
    "    \"accuracy_train\": accuracy_train, \n",
    "    \"accuracy_valid\": accuracy_valid,})\n",
    "        \n",
    "print(\"Лучшая модель:\", best_model_dtc)        \n",
    "print(\"Accuracy лучшей модели на валидационной выборке:\", best_result)"
   ]
  },
  {
   "cell_type": "code",
   "execution_count": 82,
   "metadata": {
    "scrolled": true
   },
   "outputs": [
    {
     "data": {
      "image/png": "[encoded data removed]",
      "text/plain": [
       "<Figure size 864x288 with 1 Axes>"
      ]
     },
     "metadata": {
      "needs_background": "light"
     },
     "output_type": "display_data"
    }
   ],
   "source": [
    "fig, ax = plt.subplots()\n",
    "\n",
    "ax.plot(tree_accuracy_depth['max_depth'], tree_accuracy_depth['accuracy_train'] \\\n",
    "        , label = 'train')\n",
    "ax.plot(tree_accuracy_depth['max_depth'], tree_accuracy_depth['accuracy_valid'] \\\n",
    "        , label = 'valid')\n",
    "ax.legend()\n",
    "ax.grid()\n",
    "ax.set_title('Accuracy vs Max Tree Depth')\n",
    "ax.set_xlabel('Max Tree Depth')\n",
    "ax.set_ylabel('Accuracy')\n",
    "fig.set_size_inches(12,4)\n",
    "\n",
    "plt.show()"
   ]
  },
  {
   "cell_type": "markdown",
   "metadata": {},
   "source": [
    "Модель переобучается после глубины дерева равным 7."
   ]
  },
  {
   "cell_type": "markdown",
   "metadata": {},
   "source": [
    "### Алгоритм классификации — _random forest_"
   ]
  },
  {
   "cell_type": "markdown",
   "metadata": {},
   "source": [
    "Посмотрим на модель с гиперпараметрами по умолчанию"
   ]
  },
  {
   "cell_type": "code",
   "execution_count": 83,
   "metadata": {},
   "outputs": [
    {
     "name": "stdout",
     "output_type": "stream",
     "text": [
      "Модель: RandomForestClassifier()\n",
      "Accuracy модели на валидационной выборке: 0.7791601866251944\n"
     ]
    }
   ],
   "source": [
    "model = RandomForestClassifier()\n",
    "model.fit(features_train, target_train)\n",
    "result = model.score(features_valid, target_valid)\n",
    "\n",
    "print(\"Модель:\", model)\n",
    "print(\"Accuracy модели на валидационной выборке:\", result)"
   ]
  },
  {
   "cell_type": "markdown",
   "metadata": {},
   "source": [
    "Посмотрим на зависимость от количества деревьев:"
   ]
  },
  {
   "cell_type": "code",
   "execution_count": 84,
   "metadata": {},
   "outputs": [
    {
     "name": "stdout",
     "output_type": "stream",
     "text": [
      "Наилучшая модель на валидационной выборке: RandomForestClassifier(n_estimators=48, random_state=12345)\n",
      "Accuracy наилучшей модели на валидационной выборке: 0.7962674961119751\n"
     ]
    }
   ],
   "source": [
    "best_model = None\n",
    "best_result = 0\n",
    "accuracy_train = []\n",
    "accuracy_valid = []\n",
    "for est in range(1, 61):\n",
    "    # обучим модель с заданным количеством деревьев\n",
    "    model = RandomForestClassifier(random_state=12345, n_estimators=est) \n",
    "    model.fit(features_train, target_train)\n",
    "    result = model.score(features_valid, target_valid)\n",
    "    accuracy_train.append(accuracy_score(target_train, model.predict(features_train)))\n",
    "    accuracy_valid.append(result)\n",
    "    if result > best_result:\n",
    "        best_model = model\n",
    "        best_result = result\n",
    "\n",
    "rf_accuracy_est = pd.DataFrame({\n",
    "    \"n_estimators\": range(1, 61), \n",
    "    \"accuracy_train\": accuracy_train, \n",
    "    \"accuracy_valid\": accuracy_valid,})\n",
    "        \n",
    "print(\"Наилучшая модель на валидационной выборке:\", best_model)\n",
    "print(\"Accuracy наилучшей модели на валидационной выборке:\", best_result)"
   ]
  },
  {
   "cell_type": "code",
   "execution_count": 85,
   "metadata": {
    "scrolled": false
   },
   "outputs": [
    {
     "data": {
      "image/png": "[encoded data removed]",
      "text/plain": [
       "<Figure size 864x288 with 1 Axes>"
      ]
     },
     "metadata": {
      "needs_background": "light"
     },
     "output_type": "display_data"
    }
   ],
   "source": [
    "fig, ax = plt.subplots()\n",
    "\n",
    "ax.plot(rf_accuracy_est['n_estimators'], rf_accuracy_est['accuracy_train'], label = 'train')\n",
    "ax.plot(rf_accuracy_est['n_estimators'], rf_accuracy_est['accuracy_valid'], label = 'valid')\n",
    "ax.legend()\n",
    "ax.grid()\n",
    "ax.set_title('Accuracy vs Number of trees in the forest (random forest)')\n",
    "ax.set_xlabel('Number of trees in the forest')\n",
    "ax.set_ylabel('Accuracy')\n",
    "fig.set_size_inches(12,4)\n",
    "\n",
    "plt.show()"
   ]
  },
  {
   "cell_type": "markdown",
   "metadata": {},
   "source": [
    "Интересный момент: в отличие от `DecisionTreeClassifier` одиночное дерево не обучается на тестовой выборке до 100%, на валидационной выборке результаты похожи. При увеличении количества деревьев результат приближается к лучшему результату `DecisionTreeClassifier`."
   ]
  },
  {
   "cell_type": "markdown",
   "metadata": {},
   "source": [
    "Посмотрим на зависимость от максимальной глубины деревьев:"
   ]
  },
  {
   "cell_type": "code",
   "execution_count": 86,
   "metadata": {},
   "outputs": [
    {
     "name": "stdout",
     "output_type": "stream",
     "text": [
      "Наилучшая модель на валидационной выборке: RandomForestClassifier(max_depth=10, random_state=12345)\n",
      "Accuracy наилучшей модели на валидационной выборке: 0.8055987558320373\n"
     ]
    }
   ],
   "source": [
    "best_model = None\n",
    "best_result = 0\n",
    "accuracy_train = []\n",
    "accuracy_valid = []\n",
    "for depth in range(1, 31):\n",
    "    model = RandomForestClassifier(random_state=12345, max_depth=depth)\n",
    "    model.fit(features_train, target_train) # обучим модель на тренировочной выборке\n",
    "    result = model.score(features_valid, target_valid) # посчитаем качество модели на валидационной выборке\n",
    "    accuracy_train.append(accuracy_score(target_train, model.predict(features_train)))\n",
    "    accuracy_valid.append(result)\n",
    "    if result > best_result:\n",
    "        best_model = model\n",
    "        best_result = result\n",
    "\n",
    "rf_accuracy_depth = pd.DataFrame({\n",
    "    \"max_depth\": range(1, 31), \n",
    "    \"accuracy_train\": accuracy_train, \n",
    "    \"accuracy_valid\": accuracy_valid,})\n",
    "        \n",
    "print(\"Наилучшая модель на валидационной выборке:\", best_model)\n",
    "print(\"Accuracy наилучшей модели на валидационной выборке:\", best_result)"
   ]
  },
  {
   "cell_type": "code",
   "execution_count": 87,
   "metadata": {},
   "outputs": [
    {
     "data": {
      "image/png": "[encoded data removed]",
      "text/plain": [
       "<Figure size 864x288 with 1 Axes>"
      ]
     },
     "metadata": {
      "needs_background": "light"
     },
     "output_type": "display_data"
    }
   ],
   "source": [
    "fig, ax = plt.subplots()\n",
    "\n",
    "ax.plot(rf_accuracy_depth['max_depth'], rf_accuracy_depth['accuracy_train'], label = 'train')\n",
    "ax.plot(rf_accuracy_depth['max_depth'], rf_accuracy_depth['accuracy_valid'], label = 'valid')\n",
    "\n",
    "ax.legend()\n",
    "ax.grid()\n",
    "ax.set_title('Accuracy vs Max Tree Depth (random forest)')\n",
    "ax.set_xlabel('Max Tree Depth')\n",
    "ax.set_ylabel('Accuracy')\n",
    "fig.set_size_inches(12,4)\n",
    "\n",
    "plt.show()"
   ]
  },
  {
   "cell_type": "markdown",
   "metadata": {},
   "source": [
    "Случайный лес имеет меньшую склонность к переобучению, но разница в точности предсказаний между обучающей и валидационной выборкой очень велика. Вероятно нам нужно больше данных чтобы повысить точность."
   ]
  },
  {
   "cell_type": "code",
   "execution_count": 88,
   "metadata": {
    "scrolled": true
   },
   "outputs": [
    {
     "name": "stdout",
     "output_type": "stream",
     "text": [
      "Наилучшая модель на валидационной выборке: RandomForestClassifier(max_depth=11, n_estimators=9, random_state=12)\n",
      "Accuracy наилучшей модели на валидационной выборке: 0.8180404354587869\n"
     ]
    }
   ],
   "source": [
    "best_model = None\n",
    "best_result_rfc = 0\n",
    "\n",
    "criterions = ['gini', 'entropy']\n",
    "for depth in range(1, 16):\n",
    "    for estimator in range(1, 16):\n",
    "        for criterion in criterions:\n",
    "            model = RandomForestClassifier(random_state=12, max_depth=depth, \n",
    "                                           n_estimators=estimator, criterion=criterion)\n",
    "            model.fit(features_train, target_train) \n",
    "            result = model.score(features_valid, target_valid)\n",
    "            if result > best_result_rfc:\n",
    "                best_model_rfc = model\n",
    "                best_result_rfc = result\n",
    "print(\"Наилучшая модель на валидационной выборке:\", best_model_rfc)\n",
    "print(\"Accuracy наилучшей модели на валидационной выборке:\", best_result_rfc)"
   ]
  },
  {
   "cell_type": "markdown",
   "metadata": {},
   "source": [
    "С помощью перебора в цикле модель удалось улучшить еще на 2 процентных пункта"
   ]
  },
  {
   "cell_type": "markdown",
   "metadata": {},
   "source": [
    "### Алгоритм классификации — _LogisticRegression_"
   ]
  },
  {
   "cell_type": "code",
   "execution_count": 89,
   "metadata": {},
   "outputs": [
    {
     "name": "stdout",
     "output_type": "stream",
     "text": [
      "Accuracy модели на валидационной выборке: 0.6842923794712286\n"
     ]
    }
   ],
   "source": [
    "model_lr = LogisticRegression()\n",
    "model_lr.fit(features_train, target_train)\n",
    "print(\"Accuracy модели на валидационной выборке:\" \\\n",
    "      , model_lr.score(features_valid, target_valid))"
   ]
  },
  {
   "cell_type": "markdown",
   "metadata": {},
   "source": [
    "Сделаем перебор гиперпараметров в цикле:"
   ]
  },
  {
   "cell_type": "code",
   "execution_count": 90,
   "metadata": {},
   "outputs": [
    {
     "name": "stdout",
     "output_type": "stream",
     "text": [
      "Наилучшая модель на валидационной выборке: LogisticRegression(C=0.615848211066026, penalty='l1', random_state=12345,\n",
      "                   solver='liblinear')\n",
      "Accuracy наилучшей модели на валидационной выборке: 0.7418351477449455\n"
     ]
    }
   ],
   "source": [
    "best_model_lr = None\n",
    "best_result = 0\n",
    "\n",
    "classifier__penalty = ['l1', 'l2']\n",
    "classifier__C = np.logspace(-4, 4, 20)\n",
    "classifier__solver = ['liblinear', 'saga']\n",
    "\n",
    "for penalty in classifier__penalty:\n",
    "    for c in classifier__C:\n",
    "        for solver in classifier__solver:\n",
    "            model_lr = LogisticRegression(random_state=12345,\n",
    "                                          penalty=penalty,\n",
    "                                          C=c, \n",
    "                                          solver=solver)\n",
    "            model_lr.fit(features_train, target_train)\n",
    "            result = model_lr.score(features_valid, target_valid)\n",
    "            if result > best_result:\n",
    "                best_model_lr = model_lr\n",
    "                best_result = result\n",
    "        \n",
    "print(\"Наилучшая модель на валидационной выборке:\", best_model_lr)\n",
    "print(\"Accuracy наилучшей модели на валидационной выборке:\", best_result)"
   ]
  },
  {
   "cell_type": "markdown",
   "metadata": {},
   "source": [
    "Нам удалось значительно улучшить модель (на 6%) по сравнению с моделью регрессии с базовыми гиперпараметрами."
   ]
  },
  {
   "cell_type": "markdown",
   "metadata": {},
   "source": [
    "### Вывод: \n",
    "Лучшая модель - случайный лес."
   ]
  },
  {
   "cell_type": "markdown",
   "metadata": {},
   "source": [
    "## Проверим модель на тестовой выборке"
   ]
  },
  {
   "cell_type": "code",
   "execution_count": 91,
   "metadata": {},
   "outputs": [
    {
     "data": {
      "text/plain": [
       "0.7978227060653188"
      ]
     },
     "execution_count": 91,
     "metadata": {},
     "output_type": "execute_result"
    }
   ],
   "source": [
    "best_model_rfc.score(features_test, target_test)"
   ]
  },
  {
   "cell_type": "markdown",
   "metadata": {},
   "source": [
    "### Проведем дополнительное исследование\n",
    "\n",
    "Обучим лучшие модели на объединенных обучающих и валидационных данных"
   ]
  },
  {
   "cell_type": "code",
   "execution_count": 92,
   "metadata": {},
   "outputs": [],
   "source": [
    "features_train_valid = pd.concat([features_train, features_valid])\n",
    "target_train_valid = pd.concat([target_train, target_valid])"
   ]
  },
  {
   "cell_type": "code",
   "execution_count": 93,
   "metadata": {},
   "outputs": [
    {
     "data": {
      "text/plain": [
       "(1928, 4)"
      ]
     },
     "execution_count": 93,
     "metadata": {},
     "output_type": "execute_result"
    }
   ],
   "source": [
    "features_train.shape"
   ]
  },
  {
   "cell_type": "code",
   "execution_count": 94,
   "metadata": {},
   "outputs": [
    {
     "data": {
      "text/plain": [
       "(2571, 4)"
      ]
     },
     "execution_count": 94,
     "metadata": {},
     "output_type": "execute_result"
    }
   ],
   "source": [
    "features_train_valid.shape"
   ]
  },
  {
   "cell_type": "markdown",
   "metadata": {},
   "source": [
    "Случайный лес:"
   ]
  },
  {
   "cell_type": "code",
   "execution_count": 95,
   "metadata": {},
   "outputs": [
    {
     "data": {
      "text/plain": [
       "0.7916018662519441"
      ]
     },
     "execution_count": 95,
     "metadata": {},
     "output_type": "execute_result"
    }
   ],
   "source": [
    "model = RandomForestClassifier(criterion='entropy', \n",
    "                               max_depth=13, \n",
    "                               n_estimators=6,\n",
    "                               random_state=1)\n",
    "model.fit(features_train_valid, target_train_valid) \n",
    "model.score(features_test, target_test)"
   ]
  },
  {
   "cell_type": "markdown",
   "metadata": {},
   "source": [
    "Результат немного ухудшился."
   ]
  },
  {
   "cell_type": "markdown",
   "metadata": {},
   "source": [
    "Логистическая регрессия:"
   ]
  },
  {
   "cell_type": "code",
   "execution_count": 96,
   "metadata": {
    "scrolled": true
   },
   "outputs": [
    {
     "data": {
      "text/plain": [
       "0.7573872472783826"
      ]
     },
     "execution_count": 96,
     "metadata": {},
     "output_type": "execute_result"
    }
   ],
   "source": [
    "best_model_lr.score(features_test, target_test)"
   ]
  },
  {
   "cell_type": "code",
   "execution_count": 97,
   "metadata": {},
   "outputs": [],
   "source": [
    "best_model_lr_valid = LogisticRegression(C=4.281332398719396, \n",
    "                                         penalty='l1', \n",
    "                                         random_state=1,\n",
    "                                         solver='liblinear')"
   ]
  },
  {
   "cell_type": "code",
   "execution_count": 98,
   "metadata": {},
   "outputs": [
    {
     "data": {
      "text/plain": [
       "0.7511664074650077"
      ]
     },
     "execution_count": 98,
     "metadata": {},
     "output_type": "execute_result"
    }
   ],
   "source": [
    "best_model_lr_valid.fit(features_train_valid, target_train_valid)\n",
    "best_model_lr_valid.score(features_test, target_test)"
   ]
  },
  {
   "cell_type": "markdown",
   "metadata": {},
   "source": [
    "Результат немного ухудшился."
   ]
  },
  {
   "cell_type": "markdown",
   "metadata": {},
   "source": [
    "Решающее дерево:"
   ]
  },
  {
   "cell_type": "code",
   "execution_count": 99,
   "metadata": {},
   "outputs": [
    {
     "data": {
      "text/plain": [
       "0.7822706065318819"
      ]
     },
     "execution_count": 99,
     "metadata": {},
     "output_type": "execute_result"
    }
   ],
   "source": [
    "best_model_dtc.score(features_test, target_test)"
   ]
  },
  {
   "cell_type": "code",
   "execution_count": 100,
   "metadata": {},
   "outputs": [
    {
     "data": {
      "text/plain": [
       "0.7916018662519441"
      ]
     },
     "execution_count": 100,
     "metadata": {},
     "output_type": "execute_result"
    }
   ],
   "source": [
    "best_model_dtc_valid = DecisionTreeClassifier(max_depth=7, random_state=1)\n",
    "best_model_dtc_valid.fit(features_train_valid, target_train_valid)\n",
    "best_model_dtc_valid.score(features_test, target_test)"
   ]
  },
  {
   "cell_type": "markdown",
   "metadata": {},
   "source": [
    "Результат улучшился на 1% и полностью идентичен случайному лесу.\n",
    "\n",
    "Можно объяснить такую нестабильность результатов очень маленькой выборкой."
   ]
  },
  {
   "cell_type": "markdown",
   "metadata": {},
   "source": [
    "### Вывод:\n",
    "дерево решений и случайный лес ухудшили результаты на тестовой выборке, а логистическая регрессия даже превзошла результаты на обучающей выборке.Нам нужен значительно больший объем данных для повышения качества предсказаний."
   ]
  },
  {
   "cell_type": "markdown",
   "metadata": {},
   "source": [
    "## Проверим модели на адекватность"
   ]
  },
  {
   "cell_type": "code",
   "execution_count": 101,
   "metadata": {},
   "outputs": [
    {
     "data": {
      "text/plain": [
       "0.6842923794712286"
      ]
     },
     "execution_count": 101,
     "metadata": {},
     "output_type": "execute_result"
    }
   ],
   "source": [
    "dummy_clf = DummyClassifier(strategy=\"most_frequent\")\n",
    "dummy_clf.fit(features_train, target_train)\n",
    "\n",
    "dummy_clf.score(features_valid, target_valid)"
   ]
  },
  {
   "cell_type": "markdown",
   "metadata": {},
   "source": [
    "Полученные модели имеют более высокое значение accuracy (доля правильных ответов), чем у Dummy- алгоритма."
   ]
  }
 ],
 "metadata": {
  "ExecuteTimeLog": [
   {
    "duration": 1225,
    "start_time": "2022-12-22T08:45:51.734Z"
   },
   {
    "duration": 110,
    "start_time": "2022-12-22T08:45:54.006Z"
   },
   {
    "duration": 22,
    "start_time": "2022-12-22T08:46:05.359Z"
   },
   {
    "duration": 5,
    "start_time": "2022-12-22T08:49:07.196Z"
   },
   {
    "duration": 8,
    "start_time": "2022-12-22T08:49:38.470Z"
   },
   {
    "duration": 13,
    "start_time": "2022-12-22T08:49:44.375Z"
   },
   {
    "duration": 6,
    "start_time": "2022-12-22T09:05:08.734Z"
   },
   {
    "duration": 5,
    "start_time": "2022-12-22T09:05:09.661Z"
   },
   {
    "duration": 14,
    "start_time": "2022-12-22T09:05:12.052Z"
   },
   {
    "duration": 1076,
    "start_time": "2022-12-22T15:41:17.298Z"
   },
   {
    "duration": 120,
    "start_time": "2022-12-22T15:41:18.376Z"
   },
   {
    "duration": 17,
    "start_time": "2022-12-22T15:41:18.498Z"
   },
   {
    "duration": 14,
    "start_time": "2022-12-22T15:41:18.516Z"
   },
   {
    "duration": 25,
    "start_time": "2022-12-22T15:41:18.531Z"
   },
   {
    "duration": 35,
    "start_time": "2022-12-22T15:41:18.557Z"
   },
   {
    "duration": 25,
    "start_time": "2022-12-22T15:41:18.593Z"
   },
   {
    "duration": 104,
    "start_time": "2022-12-22T15:41:18.619Z"
   },
   {
    "duration": 3,
    "start_time": "2022-12-22T15:42:12.157Z"
   },
   {
    "duration": 21,
    "start_time": "2022-12-22T15:42:16.713Z"
   },
   {
    "duration": 3,
    "start_time": "2022-12-22T15:43:48.167Z"
   },
   {
    "duration": 18,
    "start_time": "2022-12-22T15:43:52.863Z"
   },
   {
    "duration": 37,
    "start_time": "2022-12-22T15:49:46.278Z"
   },
   {
    "duration": 36,
    "start_time": "2022-12-22T15:50:45.001Z"
   },
   {
    "duration": 75,
    "start_time": "2022-12-22T15:50:53.621Z"
   },
   {
    "duration": 95,
    "start_time": "2022-12-22T15:52:54.591Z"
   },
   {
    "duration": 220,
    "start_time": "2022-12-22T15:53:21.300Z"
   },
   {
    "duration": 414,
    "start_time": "2022-12-22T15:53:56.805Z"
   },
   {
    "duration": 265,
    "start_time": "2022-12-22T15:55:55.611Z"
   },
   {
    "duration": 70,
    "start_time": "2022-12-23T18:55:18.450Z"
   },
   {
    "duration": 2054,
    "start_time": "2022-12-23T18:55:32.828Z"
   },
   {
    "duration": 170,
    "start_time": "2022-12-23T18:55:34.893Z"
   },
   {
    "duration": 36,
    "start_time": "2022-12-23T18:55:35.066Z"
   },
   {
    "duration": 70,
    "start_time": "2022-12-23T18:55:35.105Z"
   },
   {
    "duration": 70,
    "start_time": "2022-12-23T18:55:35.181Z"
   },
   {
    "duration": 19,
    "start_time": "2022-12-23T18:55:35.256Z"
   },
   {
    "duration": 87,
    "start_time": "2022-12-23T18:55:35.277Z"
   },
   {
    "duration": 108,
    "start_time": "2022-12-23T18:55:35.367Z"
   },
   {
    "duration": 415,
    "start_time": "2022-12-23T18:55:35.478Z"
   },
   {
    "duration": 23,
    "start_time": "2022-12-23T18:55:35.895Z"
   },
   {
    "duration": 11,
    "start_time": "2022-12-23T19:00:46.109Z"
   },
   {
    "duration": 6,
    "start_time": "2022-12-23T19:02:15.341Z"
   },
   {
    "duration": 271,
    "start_time": "2022-12-23T19:03:28.652Z"
   },
   {
    "duration": 305,
    "start_time": "2022-12-23T19:03:47.629Z"
   },
   {
    "duration": 274,
    "start_time": "2022-12-23T19:17:53.716Z"
   },
   {
    "duration": 74,
    "start_time": "2022-12-23T19:19:44.775Z"
   },
   {
    "duration": 14,
    "start_time": "2022-12-23T19:19:50.574Z"
   },
   {
    "duration": 278,
    "start_time": "2022-12-23T19:19:55.928Z"
   },
   {
    "duration": 280,
    "start_time": "2022-12-23T19:22:11.920Z"
   },
   {
    "duration": 281,
    "start_time": "2022-12-23T19:22:23.625Z"
   },
   {
    "duration": 1013,
    "start_time": "2022-12-23T19:22:53.312Z"
   },
   {
    "duration": 21787,
    "start_time": "2022-12-23T19:24:33.330Z"
   },
   {
    "duration": 29,
    "start_time": "2022-12-23T19:30:33.760Z"
   },
   {
    "duration": 161,
    "start_time": "2022-12-23T19:30:56.462Z"
   },
   {
    "duration": 190,
    "start_time": "2022-12-23T19:32:19.215Z"
   },
   {
    "duration": 149,
    "start_time": "2022-12-23T19:32:35.017Z"
   },
   {
    "duration": 144,
    "start_time": "2022-12-23T19:32:53.842Z"
   },
   {
    "duration": 131,
    "start_time": "2022-12-23T19:32:58.016Z"
   },
   {
    "duration": 205,
    "start_time": "2022-12-23T19:33:05.331Z"
   },
   {
    "duration": 218,
    "start_time": "2022-12-23T19:33:14.522Z"
   },
   {
    "duration": 223,
    "start_time": "2022-12-23T19:33:21.895Z"
   },
   {
    "duration": 3,
    "start_time": "2022-12-23T19:40:03.822Z"
   },
   {
    "duration": 1465,
    "start_time": "2022-12-23T19:44:38.214Z"
   },
   {
    "duration": 22,
    "start_time": "2022-12-23T19:46:57.473Z"
   },
   {
    "duration": 2312,
    "start_time": "2022-12-23T19:47:21.822Z"
   },
   {
    "duration": 41,
    "start_time": "2022-12-23T19:50:44.543Z"
   },
   {
    "duration": 5,
    "start_time": "2022-12-23T21:35:25.764Z"
   },
   {
    "duration": 1161,
    "start_time": "2022-12-25T15:58:44.945Z"
   },
   {
    "duration": 73,
    "start_time": "2022-12-25T15:58:46.109Z"
   },
   {
    "duration": 26,
    "start_time": "2022-12-25T15:58:46.184Z"
   },
   {
    "duration": 4,
    "start_time": "2022-12-25T15:58:46.213Z"
   },
   {
    "duration": 11,
    "start_time": "2022-12-25T15:58:46.218Z"
   },
   {
    "duration": 6,
    "start_time": "2022-12-25T15:58:46.231Z"
   },
   {
    "duration": 8,
    "start_time": "2022-12-25T15:58:46.238Z"
   },
   {
    "duration": 43,
    "start_time": "2022-12-25T15:58:46.248Z"
   },
   {
    "duration": 275,
    "start_time": "2022-12-25T15:58:46.293Z"
   },
   {
    "duration": 5280,
    "start_time": "2022-12-25T15:58:46.570Z"
   },
   {
    "duration": 151,
    "start_time": "2022-12-25T15:58:51.852Z"
   },
   {
    "duration": 777,
    "start_time": "2022-12-25T15:58:52.005Z"
   },
   {
    "duration": 110,
    "start_time": "2022-12-25T15:58:52.784Z"
   },
   {
    "duration": 1549,
    "start_time": "2022-12-26T07:43:14.203Z"
   },
   {
    "duration": 61,
    "start_time": "2022-12-26T07:43:15.753Z"
   },
   {
    "duration": 17,
    "start_time": "2022-12-26T07:43:15.815Z"
   },
   {
    "duration": 3,
    "start_time": "2022-12-26T07:43:15.834Z"
   },
   {
    "duration": 7,
    "start_time": "2022-12-26T07:43:15.839Z"
   },
   {
    "duration": 6,
    "start_time": "2022-12-26T07:43:15.847Z"
   },
   {
    "duration": 12,
    "start_time": "2022-12-26T07:43:15.855Z"
   },
   {
    "duration": 22,
    "start_time": "2022-12-26T07:43:15.868Z"
   },
   {
    "duration": 302,
    "start_time": "2022-12-26T07:43:15.891Z"
   },
   {
    "duration": 5254,
    "start_time": "2022-12-26T07:43:16.196Z"
   },
   {
    "duration": 164,
    "start_time": "2022-12-26T07:43:21.452Z"
   },
   {
    "duration": 687,
    "start_time": "2022-12-26T07:43:21.618Z"
   },
   {
    "duration": 109,
    "start_time": "2022-12-26T07:43:22.307Z"
   },
   {
    "duration": 320,
    "start_time": "2022-12-26T07:50:29.339Z"
   },
   {
    "duration": 5,
    "start_time": "2022-12-26T07:50:35.186Z"
   },
   {
    "duration": 161,
    "start_time": "2022-12-26T07:53:17.076Z"
   },
   {
    "duration": 139,
    "start_time": "2022-12-26T07:54:49.213Z"
   },
   {
    "duration": 129,
    "start_time": "2022-12-26T07:57:55.398Z"
   },
   {
    "duration": 119,
    "start_time": "2022-12-26T07:58:29.655Z"
   },
   {
    "duration": 127,
    "start_time": "2022-12-26T08:03:25.156Z"
   },
   {
    "duration": 117,
    "start_time": "2022-12-26T08:04:04.202Z"
   },
   {
    "duration": 138,
    "start_time": "2022-12-26T08:25:28.071Z"
   },
   {
    "duration": 141,
    "start_time": "2022-12-26T08:25:42.248Z"
   },
   {
    "duration": 153,
    "start_time": "2022-12-26T08:27:13.570Z"
   },
   {
    "duration": 161,
    "start_time": "2022-12-26T08:27:59.099Z"
   },
   {
    "duration": 13,
    "start_time": "2022-12-26T08:28:12.753Z"
   },
   {
    "duration": 137,
    "start_time": "2022-12-26T08:29:14.382Z"
   },
   {
    "duration": 279,
    "start_time": "2022-12-26T08:39:02.365Z"
   },
   {
    "duration": 172,
    "start_time": "2022-12-26T08:39:28.512Z"
   },
   {
    "duration": 149,
    "start_time": "2022-12-26T08:39:36.621Z"
   },
   {
    "duration": 302,
    "start_time": "2022-12-26T08:43:13.953Z"
   },
   {
    "duration": 156,
    "start_time": "2022-12-26T08:43:15.432Z"
   },
   {
    "duration": 85,
    "start_time": "2022-12-26T08:45:18.169Z"
   },
   {
    "duration": 190,
    "start_time": "2022-12-26T08:45:23.145Z"
   },
   {
    "duration": 142,
    "start_time": "2022-12-26T08:45:41.809Z"
   },
   {
    "duration": 176,
    "start_time": "2022-12-26T08:47:31.082Z"
   },
   {
    "duration": 145,
    "start_time": "2022-12-26T08:49:58.521Z"
   },
   {
    "duration": 167,
    "start_time": "2022-12-26T08:50:05.394Z"
   },
   {
    "duration": 167,
    "start_time": "2022-12-26T08:53:56.899Z"
   },
   {
    "duration": 313,
    "start_time": "2022-12-26T08:54:05.603Z"
   },
   {
    "duration": 154,
    "start_time": "2022-12-26T08:54:07.723Z"
   },
   {
    "duration": 193,
    "start_time": "2022-12-26T09:08:57.514Z"
   },
   {
    "duration": 622,
    "start_time": "2022-12-26T09:09:27.115Z"
   },
   {
    "duration": 310,
    "start_time": "2022-12-26T09:09:40.204Z"
   },
   {
    "duration": 142,
    "start_time": "2022-12-26T09:09:49.666Z"
   },
   {
    "duration": 103,
    "start_time": "2022-12-26T09:12:02.652Z"
   },
   {
    "duration": 148,
    "start_time": "2022-12-26T09:12:15.611Z"
   },
   {
    "duration": 149,
    "start_time": "2022-12-26T09:12:20.725Z"
   },
   {
    "duration": 201,
    "start_time": "2022-12-26T09:12:38.052Z"
   },
   {
    "duration": 122,
    "start_time": "2022-12-26T09:16:59.996Z"
   },
   {
    "duration": 5438,
    "start_time": "2022-12-26T09:17:09.734Z"
   },
   {
    "duration": 121,
    "start_time": "2022-12-26T09:17:18.863Z"
   },
   {
    "duration": 171,
    "start_time": "2022-12-26T09:17:32.886Z"
   },
   {
    "duration": 133,
    "start_time": "2022-12-26T09:19:34.593Z"
   },
   {
    "duration": 74,
    "start_time": "2022-12-26T09:26:54.013Z"
   },
   {
    "duration": 2133,
    "start_time": "2022-12-26T09:26:59.308Z"
   },
   {
    "duration": 152,
    "start_time": "2022-12-26T09:29:25.895Z"
   },
   {
    "duration": 1232,
    "start_time": "2022-12-26T09:29:43.879Z"
   },
   {
    "duration": 199,
    "start_time": "2022-12-26T09:29:47.341Z"
   },
   {
    "duration": 2405,
    "start_time": "2022-12-26T09:31:17.447Z"
   },
   {
    "duration": 5329,
    "start_time": "2022-12-26T09:31:46.254Z"
   },
   {
    "duration": 167,
    "start_time": "2022-12-26T09:31:55.937Z"
   },
   {
    "duration": 164,
    "start_time": "2022-12-26T09:34:45.176Z"
   },
   {
    "duration": 381,
    "start_time": "2022-12-26T09:39:15.868Z"
   },
   {
    "duration": 378,
    "start_time": "2022-12-26T09:39:56.820Z"
   },
   {
    "duration": 5739,
    "start_time": "2022-12-26T09:40:00.957Z"
   },
   {
    "duration": 403,
    "start_time": "2022-12-26T09:40:07.907Z"
   },
   {
    "duration": 385,
    "start_time": "2022-12-26T09:40:16.234Z"
   },
   {
    "duration": 381,
    "start_time": "2022-12-26T09:40:18.275Z"
   },
   {
    "duration": 383,
    "start_time": "2022-12-26T09:40:20.371Z"
   },
   {
    "duration": 454,
    "start_time": "2022-12-26T09:42:34.028Z"
   },
   {
    "duration": 426,
    "start_time": "2022-12-26T09:42:37.132Z"
   },
   {
    "duration": 5520,
    "start_time": "2022-12-26T09:52:39.378Z"
   },
   {
    "duration": 176,
    "start_time": "2022-12-26T09:52:44.900Z"
   },
   {
    "duration": 7961,
    "start_time": "2022-12-26T09:53:21.371Z"
   },
   {
    "duration": 172,
    "start_time": "2022-12-26T09:53:29.333Z"
   },
   {
    "duration": 11063,
    "start_time": "2022-12-26T09:56:20.060Z"
   },
   {
    "duration": 166,
    "start_time": "2022-12-26T09:56:31.523Z"
   },
   {
    "duration": 17,
    "start_time": "2022-12-26T10:51:59.041Z"
   },
   {
    "duration": 20,
    "start_time": "2022-12-26T10:53:28.488Z"
   },
   {
    "duration": 278,
    "start_time": "2022-12-26T11:11:55.112Z"
   },
   {
    "duration": 7,
    "start_time": "2022-12-26T11:12:24.713Z"
   },
   {
    "duration": 20,
    "start_time": "2022-12-26T11:13:19.609Z"
   },
   {
    "duration": 289,
    "start_time": "2022-12-26T11:13:43.265Z"
   },
   {
    "duration": 7,
    "start_time": "2022-12-26T11:13:45.192Z"
   },
   {
    "duration": 327,
    "start_time": "2022-12-26T11:21:33.566Z"
   },
   {
    "duration": 181,
    "start_time": "2022-12-26T11:23:43.860Z"
   },
   {
    "duration": 7,
    "start_time": "2022-12-26T11:23:51.472Z"
   },
   {
    "duration": 10,
    "start_time": "2022-12-26T11:24:00.469Z"
   },
   {
    "duration": 8503,
    "start_time": "2022-12-26T11:30:05.722Z"
   },
   {
    "duration": 176,
    "start_time": "2022-12-26T11:30:47.577Z"
   },
   {
    "duration": 1582,
    "start_time": "2022-12-26T14:16:59.140Z"
   },
   {
    "duration": 68,
    "start_time": "2022-12-26T14:17:00.725Z"
   },
   {
    "duration": 18,
    "start_time": "2022-12-26T14:17:00.794Z"
   },
   {
    "duration": 18,
    "start_time": "2022-12-26T14:17:00.814Z"
   },
   {
    "duration": 21,
    "start_time": "2022-12-26T14:17:00.834Z"
   },
   {
    "duration": 38,
    "start_time": "2022-12-26T14:17:00.857Z"
   },
   {
    "duration": 32,
    "start_time": "2022-12-26T14:17:00.897Z"
   },
   {
    "duration": 39,
    "start_time": "2022-12-26T14:17:00.932Z"
   },
   {
    "duration": 331,
    "start_time": "2022-12-26T14:17:00.972Z"
   },
   {
    "duration": 189,
    "start_time": "2022-12-26T14:17:01.305Z"
   },
   {
    "duration": 157,
    "start_time": "2022-12-26T14:17:01.496Z"
   },
   {
    "duration": 394,
    "start_time": "2022-12-26T14:17:01.654Z"
   },
   {
    "duration": 7962,
    "start_time": "2022-12-26T14:17:02.050Z"
   },
   {
    "duration": 179,
    "start_time": "2022-12-26T14:17:10.014Z"
   },
   {
    "duration": 147,
    "start_time": "2022-12-26T14:17:10.195Z"
   },
   {
    "duration": 11087,
    "start_time": "2022-12-26T14:17:10.344Z"
   },
   {
    "duration": 0,
    "start_time": "2022-12-26T14:17:21.433Z"
   },
   {
    "duration": 0,
    "start_time": "2022-12-26T14:17:21.434Z"
   },
   {
    "duration": 0,
    "start_time": "2022-12-26T14:17:21.435Z"
   },
   {
    "duration": 11320,
    "start_time": "2022-12-26T14:53:14.963Z"
   },
   {
    "duration": 167,
    "start_time": "2022-12-26T14:54:40.171Z"
   },
   {
    "duration": 263,
    "start_time": "2022-12-26T14:55:00.730Z"
   },
   {
    "duration": 1492,
    "start_time": "2022-12-26T20:17:28.689Z"
   },
   {
    "duration": 121,
    "start_time": "2022-12-26T20:17:30.183Z"
   },
   {
    "duration": 16,
    "start_time": "2022-12-26T20:17:30.306Z"
   },
   {
    "duration": 4,
    "start_time": "2022-12-26T20:17:30.324Z"
   },
   {
    "duration": 16,
    "start_time": "2022-12-26T20:17:30.329Z"
   },
   {
    "duration": 18,
    "start_time": "2022-12-26T20:17:30.347Z"
   },
   {
    "duration": 34,
    "start_time": "2022-12-26T20:17:30.366Z"
   },
   {
    "duration": 33,
    "start_time": "2022-12-26T20:17:30.402Z"
   },
   {
    "duration": 324,
    "start_time": "2022-12-26T20:17:30.437Z"
   },
   {
    "duration": 189,
    "start_time": "2022-12-26T20:17:30.764Z"
   },
   {
    "duration": 154,
    "start_time": "2022-12-26T20:17:30.955Z"
   },
   {
    "duration": 377,
    "start_time": "2022-12-26T20:17:31.115Z"
   },
   {
    "duration": 7718,
    "start_time": "2022-12-26T20:17:31.493Z"
   },
   {
    "duration": 165,
    "start_time": "2022-12-26T20:17:39.215Z"
   },
   {
    "duration": 140,
    "start_time": "2022-12-26T20:17:39.382Z"
   },
   {
    "duration": 10748,
    "start_time": "2022-12-26T20:17:39.524Z"
   },
   {
    "duration": 169,
    "start_time": "2022-12-26T20:17:50.274Z"
   },
   {
    "duration": 672,
    "start_time": "2022-12-26T20:17:50.445Z"
   },
   {
    "duration": 109,
    "start_time": "2022-12-26T20:17:51.119Z"
   },
   {
    "duration": 9,
    "start_time": "2022-12-26T20:44:51.004Z"
   },
   {
    "duration": 23,
    "start_time": "2022-12-26T20:44:59.524Z"
   },
   {
    "duration": 26,
    "start_time": "2022-12-26T21:03:05.293Z"
   },
   {
    "duration": 15,
    "start_time": "2022-12-26T21:05:53.501Z"
   },
   {
    "duration": 105,
    "start_time": "2022-12-26T21:06:46.855Z"
   },
   {
    "duration": 30,
    "start_time": "2022-12-26T21:11:05.706Z"
   },
   {
    "duration": 23,
    "start_time": "2022-12-26T21:11:27.114Z"
   },
   {
    "duration": 5,
    "start_time": "2022-12-26T21:22:16.135Z"
   },
   {
    "duration": 1466,
    "start_time": "2022-12-28T13:07:11.911Z"
   },
   {
    "duration": 74,
    "start_time": "2022-12-28T13:07:13.379Z"
   },
   {
    "duration": 17,
    "start_time": "2022-12-28T13:07:13.454Z"
   },
   {
    "duration": 24,
    "start_time": "2022-12-28T13:07:13.472Z"
   },
   {
    "duration": 3,
    "start_time": "2022-12-28T13:07:13.498Z"
   },
   {
    "duration": 12,
    "start_time": "2022-12-28T13:07:13.503Z"
   },
   {
    "duration": 6,
    "start_time": "2022-12-28T13:07:13.517Z"
   },
   {
    "duration": 30,
    "start_time": "2022-12-28T13:07:13.525Z"
   },
   {
    "duration": 27,
    "start_time": "2022-12-28T13:07:13.556Z"
   },
   {
    "duration": 300,
    "start_time": "2022-12-28T13:07:13.584Z"
   },
   {
    "duration": 182,
    "start_time": "2022-12-28T13:07:13.886Z"
   },
   {
    "duration": 160,
    "start_time": "2022-12-28T13:07:14.069Z"
   },
   {
    "duration": 371,
    "start_time": "2022-12-28T13:07:14.231Z"
   },
   {
    "duration": 7318,
    "start_time": "2022-12-28T13:07:14.605Z"
   },
   {
    "duration": 164,
    "start_time": "2022-12-28T13:07:21.925Z"
   },
   {
    "duration": 138,
    "start_time": "2022-12-28T13:07:22.091Z"
   },
   {
    "duration": 9871,
    "start_time": "2022-12-28T13:07:22.231Z"
   },
   {
    "duration": 240,
    "start_time": "2022-12-28T13:07:32.104Z"
   },
   {
    "duration": 27,
    "start_time": "2022-12-28T13:07:32.351Z"
   },
   {
    "duration": 14,
    "start_time": "2022-12-28T13:07:32.380Z"
   },
   {
    "duration": 29,
    "start_time": "2022-12-28T13:07:32.396Z"
   },
   {
    "duration": 6,
    "start_time": "2022-12-28T14:19:35.618Z"
   },
   {
    "duration": 34,
    "start_time": "2022-12-28T14:19:35.626Z"
   },
   {
    "duration": 14,
    "start_time": "2022-12-28T14:19:35.662Z"
   },
   {
    "duration": 26,
    "start_time": "2022-12-28T14:19:35.677Z"
   },
   {
    "duration": 3,
    "start_time": "2022-12-28T14:19:35.705Z"
   },
   {
    "duration": 8,
    "start_time": "2022-12-28T14:19:35.710Z"
   },
   {
    "duration": 7,
    "start_time": "2022-12-28T14:19:35.719Z"
   },
   {
    "duration": 25,
    "start_time": "2022-12-28T14:19:35.727Z"
   },
   {
    "duration": 17,
    "start_time": "2022-12-28T14:19:35.754Z"
   },
   {
    "duration": 306,
    "start_time": "2022-12-28T14:19:35.773Z"
   },
   {
    "duration": 159,
    "start_time": "2022-12-28T14:19:36.081Z"
   },
   {
    "duration": 142,
    "start_time": "2022-12-28T14:19:36.241Z"
   },
   {
    "duration": 359,
    "start_time": "2022-12-28T14:19:36.384Z"
   },
   {
    "duration": 7336,
    "start_time": "2022-12-28T14:19:36.744Z"
   },
   {
    "duration": 161,
    "start_time": "2022-12-28T14:19:44.081Z"
   },
   {
    "duration": 138,
    "start_time": "2022-12-28T14:19:44.243Z"
   },
   {
    "duration": 9872,
    "start_time": "2022-12-28T14:19:44.382Z"
   },
   {
    "duration": 167,
    "start_time": "2022-12-28T14:19:54.256Z"
   },
   {
    "duration": 36,
    "start_time": "2022-12-28T14:19:54.424Z"
   },
   {
    "duration": 13,
    "start_time": "2022-12-28T14:19:54.461Z"
   },
   {
    "duration": 38,
    "start_time": "2022-12-28T14:19:54.475Z"
   },
   {
    "duration": 6,
    "start_time": "2022-12-28T15:20:45.590Z"
   },
   {
    "duration": 32,
    "start_time": "2022-12-28T15:20:45.598Z"
   },
   {
    "duration": 13,
    "start_time": "2022-12-28T15:20:45.632Z"
   },
   {
    "duration": 21,
    "start_time": "2022-12-28T15:20:45.647Z"
   },
   {
    "duration": 3,
    "start_time": "2022-12-28T15:20:45.669Z"
   },
   {
    "duration": 7,
    "start_time": "2022-12-28T15:20:45.674Z"
   },
   {
    "duration": 5,
    "start_time": "2022-12-28T15:20:45.683Z"
   },
   {
    "duration": 5,
    "start_time": "2022-12-28T15:20:45.690Z"
   },
   {
    "duration": 21,
    "start_time": "2022-12-28T15:20:45.697Z"
   },
   {
    "duration": 317,
    "start_time": "2022-12-28T15:20:45.720Z"
   },
   {
    "duration": 157,
    "start_time": "2022-12-28T15:20:46.039Z"
   },
   {
    "duration": 151,
    "start_time": "2022-12-28T15:20:46.198Z"
   },
   {
    "duration": 354,
    "start_time": "2022-12-28T15:20:46.351Z"
   },
   {
    "duration": 7434,
    "start_time": "2022-12-28T15:20:46.707Z"
   },
   {
    "duration": 178,
    "start_time": "2022-12-28T15:20:54.142Z"
   },
   {
    "duration": 137,
    "start_time": "2022-12-28T15:20:54.323Z"
   },
   {
    "duration": 9961,
    "start_time": "2022-12-28T15:20:54.462Z"
   },
   {
    "duration": 165,
    "start_time": "2022-12-28T15:21:04.425Z"
   },
   {
    "duration": 32,
    "start_time": "2022-12-28T15:21:04.592Z"
   },
   {
    "duration": 31,
    "start_time": "2022-12-28T15:21:04.626Z"
   },
   {
    "duration": 23,
    "start_time": "2022-12-28T15:21:04.658Z"
   },
   {
    "duration": 1597,
    "start_time": "2023-01-09T19:40:50.050Z"
   },
   {
    "duration": 178,
    "start_time": "2023-01-09T19:40:51.649Z"
   },
   {
    "duration": 16,
    "start_time": "2023-01-09T19:40:51.829Z"
   },
   {
    "duration": 20,
    "start_time": "2023-01-09T19:40:51.846Z"
   },
   {
    "duration": 3,
    "start_time": "2023-01-09T19:40:51.868Z"
   },
   {
    "duration": 17,
    "start_time": "2023-01-09T19:40:51.873Z"
   },
   {
    "duration": 12,
    "start_time": "2023-01-09T19:40:51.891Z"
   },
   {
    "duration": 6,
    "start_time": "2023-01-09T19:40:51.904Z"
   },
   {
    "duration": 22,
    "start_time": "2023-01-09T19:40:51.912Z"
   },
   {
    "duration": 304,
    "start_time": "2023-01-09T19:40:51.935Z"
   },
   {
    "duration": 181,
    "start_time": "2023-01-09T19:40:52.240Z"
   },
   {
    "duration": 155,
    "start_time": "2023-01-09T19:40:52.423Z"
   },
   {
    "duration": 399,
    "start_time": "2023-01-09T19:40:52.580Z"
   },
   {
    "duration": 7613,
    "start_time": "2023-01-09T19:40:52.982Z"
   },
   {
    "duration": 162,
    "start_time": "2023-01-09T19:41:00.596Z"
   },
   {
    "duration": 140,
    "start_time": "2023-01-09T19:41:00.760Z"
   },
   {
    "duration": 10444,
    "start_time": "2023-01-09T19:41:00.902Z"
   },
   {
    "duration": 247,
    "start_time": "2023-01-09T19:41:11.348Z"
   },
   {
    "duration": 34,
    "start_time": "2023-01-09T19:41:11.597Z"
   },
   {
    "duration": 12,
    "start_time": "2023-01-09T19:41:11.633Z"
   },
   {
    "duration": 25,
    "start_time": "2023-01-09T19:41:11.647Z"
   },
   {
    "duration": 1807,
    "start_time": "2023-01-10T07:51:29.582Z"
   },
   {
    "duration": 93,
    "start_time": "2023-01-10T07:51:31.392Z"
   },
   {
    "duration": 25,
    "start_time": "2023-01-10T07:51:31.487Z"
   },
   {
    "duration": 37,
    "start_time": "2023-01-10T07:51:31.514Z"
   },
   {
    "duration": 13,
    "start_time": "2023-01-10T07:51:31.554Z"
   },
   {
    "duration": 21,
    "start_time": "2023-01-10T07:51:31.569Z"
   },
   {
    "duration": 22,
    "start_time": "2023-01-10T07:51:31.592Z"
   },
   {
    "duration": 47,
    "start_time": "2023-01-10T07:51:31.616Z"
   },
   {
    "duration": 42,
    "start_time": "2023-01-10T07:51:31.665Z"
   },
   {
    "duration": 385,
    "start_time": "2023-01-10T07:51:31.709Z"
   },
   {
    "duration": 239,
    "start_time": "2023-01-10T07:51:32.096Z"
   },
   {
    "duration": 193,
    "start_time": "2023-01-10T07:51:32.339Z"
   },
   {
    "duration": 568,
    "start_time": "2023-01-10T07:51:32.533Z"
   },
   {
    "duration": 10884,
    "start_time": "2023-01-10T07:51:33.105Z"
   },
   {
    "duration": 226,
    "start_time": "2023-01-10T07:51:43.991Z"
   },
   {
    "duration": 187,
    "start_time": "2023-01-10T07:51:44.219Z"
   },
   {
    "duration": 13697,
    "start_time": "2023-01-10T07:51:44.409Z"
   },
   {
    "duration": 349,
    "start_time": "2023-01-10T07:51:58.109Z"
   },
   {
    "duration": 33,
    "start_time": "2023-01-10T07:51:58.463Z"
   },
   {
    "duration": 21,
    "start_time": "2023-01-10T07:51:58.499Z"
   },
   {
    "duration": 58,
    "start_time": "2023-01-10T07:51:58.522Z"
   },
   {
    "duration": 120,
    "start_time": "2023-01-10T08:11:51.041Z"
   },
   {
    "duration": 6,
    "start_time": "2023-01-10T08:11:59.871Z"
   },
   {
    "duration": 6,
    "start_time": "2023-01-10T08:12:10.031Z"
   },
   {
    "duration": 1565,
    "start_time": "2023-01-12T10:50:21.860Z"
   },
   {
    "duration": 129,
    "start_time": "2023-01-12T10:50:23.427Z"
   },
   {
    "duration": 19,
    "start_time": "2023-01-12T10:50:23.557Z"
   },
   {
    "duration": 26,
    "start_time": "2023-01-12T10:50:23.577Z"
   },
   {
    "duration": 3,
    "start_time": "2023-01-12T10:50:23.605Z"
   },
   {
    "duration": 7,
    "start_time": "2023-01-12T10:50:23.610Z"
   },
   {
    "duration": 6,
    "start_time": "2023-01-12T10:50:23.618Z"
   },
   {
    "duration": 7,
    "start_time": "2023-01-12T10:50:23.625Z"
   },
   {
    "duration": 56,
    "start_time": "2023-01-12T10:50:23.634Z"
   },
   {
    "duration": 350,
    "start_time": "2023-01-12T10:50:23.692Z"
   },
   {
    "duration": 191,
    "start_time": "2023-01-12T10:50:24.044Z"
   },
   {
    "duration": 411,
    "start_time": "2023-01-12T10:50:24.237Z"
   },
   {
    "duration": 8310,
    "start_time": "2023-01-12T10:50:24.650Z"
   },
   {
    "duration": 174,
    "start_time": "2023-01-12T10:50:32.964Z"
   },
   {
    "duration": 145,
    "start_time": "2023-01-12T10:50:33.140Z"
   },
   {
    "duration": 11000,
    "start_time": "2023-01-12T10:50:33.287Z"
   },
   {
    "duration": 177,
    "start_time": "2023-01-12T10:50:44.289Z"
   },
   {
    "duration": 37,
    "start_time": "2023-01-12T10:50:44.468Z"
   },
   {
    "duration": 14,
    "start_time": "2023-01-12T10:50:44.507Z"
   },
   {
    "duration": 12,
    "start_time": "2023-01-12T10:50:44.522Z"
   },
   {
    "duration": 1632,
    "start_time": "2023-01-12T15:52:57.662Z"
   },
   {
    "duration": 64,
    "start_time": "2023-01-12T15:52:59.296Z"
   },
   {
    "duration": 16,
    "start_time": "2023-01-12T15:52:59.362Z"
   },
   {
    "duration": 23,
    "start_time": "2023-01-12T15:52:59.380Z"
   },
   {
    "duration": 4,
    "start_time": "2023-01-12T15:52:59.404Z"
   },
   {
    "duration": 7,
    "start_time": "2023-01-12T15:52:59.410Z"
   },
   {
    "duration": 7,
    "start_time": "2023-01-12T15:52:59.418Z"
   },
   {
    "duration": 13,
    "start_time": "2023-01-12T15:52:59.427Z"
   },
   {
    "duration": 19,
    "start_time": "2023-01-12T15:52:59.442Z"
   },
   {
    "duration": 359,
    "start_time": "2023-01-12T15:52:59.463Z"
   },
   {
    "duration": 197,
    "start_time": "2023-01-12T15:52:59.824Z"
   },
   {
    "duration": 423,
    "start_time": "2023-01-12T15:53:00.023Z"
   },
   {
    "duration": 8690,
    "start_time": "2023-01-12T15:53:00.449Z"
   },
   {
    "duration": 205,
    "start_time": "2023-01-12T15:53:09.141Z"
   },
   {
    "duration": 159,
    "start_time": "2023-01-12T15:53:09.348Z"
   },
   {
    "duration": 11618,
    "start_time": "2023-01-12T15:53:09.509Z"
   },
   {
    "duration": 192,
    "start_time": "2023-01-12T15:53:21.129Z"
   },
   {
    "duration": 32,
    "start_time": "2023-01-12T15:53:21.323Z"
   },
   {
    "duration": 14,
    "start_time": "2023-01-12T15:53:21.357Z"
   },
   {
    "duration": 6,
    "start_time": "2023-01-12T15:53:21.373Z"
   },
   {
    "duration": 6,
    "start_time": "2023-01-12T19:20:05.040Z"
   },
   {
    "duration": 14,
    "start_time": "2023-01-12T19:31:13.912Z"
   },
   {
    "duration": 1660,
    "start_time": "2023-01-13T07:10:43.094Z"
   },
   {
    "duration": 69,
    "start_time": "2023-01-13T07:10:44.757Z"
   },
   {
    "duration": 18,
    "start_time": "2023-01-13T07:10:44.828Z"
   },
   {
    "duration": 24,
    "start_time": "2023-01-13T07:10:44.848Z"
   },
   {
    "duration": 12,
    "start_time": "2023-01-13T07:10:44.873Z"
   },
   {
    "duration": 5,
    "start_time": "2023-01-13T07:10:44.887Z"
   },
   {
    "duration": 11,
    "start_time": "2023-01-13T07:10:44.894Z"
   },
   {
    "duration": 30,
    "start_time": "2023-01-13T07:10:44.907Z"
   },
   {
    "duration": 9,
    "start_time": "2023-01-13T07:10:44.940Z"
   },
   {
    "duration": 25,
    "start_time": "2023-01-13T07:10:44.951Z"
   },
   {
    "duration": 351,
    "start_time": "2023-01-13T07:10:44.978Z"
   },
   {
    "duration": 193,
    "start_time": "2023-01-13T07:10:45.332Z"
   },
   {
    "duration": 441,
    "start_time": "2023-01-13T07:10:45.527Z"
   },
   {
    "duration": 8903,
    "start_time": "2023-01-13T07:10:45.970Z"
   },
   {
    "duration": 205,
    "start_time": "2023-01-13T07:10:54.875Z"
   },
   {
    "duration": 155,
    "start_time": "2023-01-13T07:10:55.082Z"
   },
   {
    "duration": 11470,
    "start_time": "2023-01-13T07:10:55.240Z"
   },
   {
    "duration": 186,
    "start_time": "2023-01-13T07:11:06.712Z"
   },
   {
    "duration": 37,
    "start_time": "2023-01-13T07:11:06.900Z"
   },
   {
    "duration": 14,
    "start_time": "2023-01-13T07:11:06.939Z"
   },
   {
    "duration": 212,
    "start_time": "2023-01-13T07:11:06.955Z"
   },
   {
    "duration": 0,
    "start_time": "2023-01-13T07:11:07.168Z"
   },
   {
    "duration": 1593,
    "start_time": "2023-01-13T17:36:36.721Z"
   },
   {
    "duration": 120,
    "start_time": "2023-01-13T17:36:38.316Z"
   },
   {
    "duration": 18,
    "start_time": "2023-01-13T17:36:38.437Z"
   },
   {
    "duration": 24,
    "start_time": "2023-01-13T17:36:38.457Z"
   },
   {
    "duration": 13,
    "start_time": "2023-01-13T17:36:38.484Z"
   },
   {
    "duration": 153,
    "start_time": "2023-01-13T17:36:38.499Z"
   },
   {
    "duration": 9,
    "start_time": "2023-01-13T17:36:38.654Z"
   },
   {
    "duration": 6,
    "start_time": "2023-01-13T17:36:38.665Z"
   },
   {
    "duration": 10,
    "start_time": "2023-01-13T17:36:38.673Z"
   },
   {
    "duration": 22,
    "start_time": "2023-01-13T17:36:38.685Z"
   },
   {
    "duration": 321,
    "start_time": "2023-01-13T17:36:38.709Z"
   },
   {
    "duration": 210,
    "start_time": "2023-01-13T17:36:39.033Z"
   },
   {
    "duration": 412,
    "start_time": "2023-01-13T17:36:39.245Z"
   },
   {
    "duration": 8217,
    "start_time": "2023-01-13T17:36:39.659Z"
   },
   {
    "duration": 184,
    "start_time": "2023-01-13T17:36:47.878Z"
   },
   {
    "duration": 157,
    "start_time": "2023-01-13T17:36:48.064Z"
   },
   {
    "duration": 11336,
    "start_time": "2023-01-13T17:36:48.223Z"
   },
   {
    "duration": 190,
    "start_time": "2023-01-13T17:36:59.563Z"
   },
   {
    "duration": 47,
    "start_time": "2023-01-13T17:36:59.755Z"
   },
   {
    "duration": 21,
    "start_time": "2023-01-13T17:36:59.813Z"
   },
   {
    "duration": 221,
    "start_time": "2023-01-13T17:36:59.836Z"
   },
   {
    "duration": 0,
    "start_time": "2023-01-13T17:37:00.059Z"
   },
   {
    "duration": 24,
    "start_time": "2023-01-13T19:05:50.909Z"
   },
   {
    "duration": 21,
    "start_time": "2023-01-13T19:07:18.407Z"
   },
   {
    "duration": 19,
    "start_time": "2023-01-13T19:10:41.825Z"
   },
   {
    "duration": 4,
    "start_time": "2023-01-13T19:18:43.987Z"
   },
   {
    "duration": 4,
    "start_time": "2023-01-13T20:54:19.951Z"
   },
   {
    "duration": 268,
    "start_time": "2023-01-13T20:54:25.441Z"
   },
   {
    "duration": 1433,
    "start_time": "2023-01-13T20:56:03.801Z"
   },
   {
    "duration": 25,
    "start_time": "2023-01-13T21:14:39.755Z"
   },
   {
    "duration": 20,
    "start_time": "2023-01-13T21:15:23.760Z"
   },
   {
    "duration": 21,
    "start_time": "2023-01-13T21:15:50.346Z"
   },
   {
    "duration": 53,
    "start_time": "2023-01-13T21:16:09.140Z"
   },
   {
    "duration": 205401,
    "start_time": "2023-01-13T21:17:57.246Z"
   },
   {
    "duration": 96006,
    "start_time": "2023-01-13T21:29:22.331Z"
   },
   {
    "duration": 75772,
    "start_time": "2023-01-13T21:40:30.927Z"
   },
   {
    "duration": 72759,
    "start_time": "2023-01-13T21:47:06.295Z"
   },
   {
    "duration": 193113,
    "start_time": "2023-01-13T21:51:54.296Z"
   },
   {
    "duration": 71246,
    "start_time": "2023-01-13T22:05:17.280Z"
   },
   {
    "duration": 10,
    "start_time": "2023-01-13T22:16:34.226Z"
   },
   {
    "duration": 355,
    "start_time": "2023-01-13T22:21:21.275Z"
   },
   {
    "duration": 10,
    "start_time": "2023-01-13T22:22:03.054Z"
   },
   {
    "duration": 1275,
    "start_time": "2023-01-13T22:23:35.174Z"
   },
   {
    "duration": 8,
    "start_time": "2023-01-13T22:23:47.960Z"
   },
   {
    "duration": 1438,
    "start_time": "2023-01-13T22:26:08.634Z"
   },
   {
    "duration": 12139,
    "start_time": "2023-01-13T22:27:29.077Z"
   },
   {
    "duration": 11980,
    "start_time": "2023-01-13T22:29:03.645Z"
   },
   {
    "duration": 1611,
    "start_time": "2023-01-14T08:36:35.285Z"
   },
   {
    "duration": 141,
    "start_time": "2023-01-14T08:36:36.899Z"
   },
   {
    "duration": 18,
    "start_time": "2023-01-14T08:36:37.042Z"
   },
   {
    "duration": 22,
    "start_time": "2023-01-14T08:36:37.061Z"
   },
   {
    "duration": 12,
    "start_time": "2023-01-14T08:36:37.084Z"
   },
   {
    "duration": 7,
    "start_time": "2023-01-14T08:36:37.098Z"
   },
   {
    "duration": 15,
    "start_time": "2023-01-14T08:36:37.106Z"
   },
   {
    "duration": 11,
    "start_time": "2023-01-14T08:36:37.123Z"
   },
   {
    "duration": 12,
    "start_time": "2023-01-14T08:36:37.138Z"
   },
   {
    "duration": 24,
    "start_time": "2023-01-14T08:36:37.153Z"
   },
   {
    "duration": 345,
    "start_time": "2023-01-14T08:36:37.180Z"
   },
   {
    "duration": 178,
    "start_time": "2023-01-14T08:36:37.533Z"
   },
   {
    "duration": 536,
    "start_time": "2023-01-14T08:36:37.714Z"
   },
   {
    "duration": 0,
    "start_time": "2023-01-14T08:36:38.253Z"
   },
   {
    "duration": 0,
    "start_time": "2023-01-14T08:36:38.255Z"
   },
   {
    "duration": 0,
    "start_time": "2023-01-14T08:36:38.256Z"
   },
   {
    "duration": 0,
    "start_time": "2023-01-14T08:36:38.257Z"
   },
   {
    "duration": 0,
    "start_time": "2023-01-14T08:36:38.259Z"
   },
   {
    "duration": 0,
    "start_time": "2023-01-14T08:36:38.260Z"
   },
   {
    "duration": 0,
    "start_time": "2023-01-14T08:36:38.262Z"
   },
   {
    "duration": 0,
    "start_time": "2023-01-14T08:36:38.263Z"
   },
   {
    "duration": 0,
    "start_time": "2023-01-14T08:36:38.264Z"
   },
   {
    "duration": 0,
    "start_time": "2023-01-14T08:36:38.266Z"
   },
   {
    "duration": 0,
    "start_time": "2023-01-14T08:36:38.267Z"
   },
   {
    "duration": 0,
    "start_time": "2023-01-14T08:36:38.268Z"
   },
   {
    "duration": 425,
    "start_time": "2023-01-14T08:39:04.874Z"
   },
   {
    "duration": 421,
    "start_time": "2023-01-14T08:39:20.952Z"
   },
   {
    "duration": 8768,
    "start_time": "2023-01-14T08:39:21.375Z"
   },
   {
    "duration": 195,
    "start_time": "2023-01-14T08:39:30.146Z"
   },
   {
    "duration": 148,
    "start_time": "2023-01-14T08:39:30.345Z"
   },
   {
    "duration": 11262,
    "start_time": "2023-01-14T08:39:30.494Z"
   },
   {
    "duration": 192,
    "start_time": "2023-01-14T08:39:41.758Z"
   },
   {
    "duration": 12969,
    "start_time": "2023-01-14T08:39:41.951Z"
   },
   {
    "duration": 35,
    "start_time": "2023-01-14T08:39:54.924Z"
   },
   {
    "duration": 1345,
    "start_time": "2023-01-14T08:39:54.961Z"
   },
   {
    "duration": 26,
    "start_time": "2023-01-14T08:39:56.308Z"
   },
   {
    "duration": 10,
    "start_time": "2023-01-14T08:39:56.339Z"
   },
   {
    "duration": 10,
    "start_time": "2023-01-14T08:39:56.351Z"
   },
   {
    "duration": 10,
    "start_time": "2023-01-14T08:39:56.363Z"
   },
   {
    "duration": 7,
    "start_time": "2023-01-14T09:37:43.541Z"
   },
   {
    "duration": 35,
    "start_time": "2023-01-14T09:37:43.550Z"
   },
   {
    "duration": 16,
    "start_time": "2023-01-14T09:37:43.588Z"
   },
   {
    "duration": 37,
    "start_time": "2023-01-14T09:37:43.606Z"
   },
   {
    "duration": 11,
    "start_time": "2023-01-14T09:37:43.646Z"
   },
   {
    "duration": 6,
    "start_time": "2023-01-14T09:37:43.659Z"
   },
   {
    "duration": 8,
    "start_time": "2023-01-14T09:37:43.667Z"
   },
   {
    "duration": 12,
    "start_time": "2023-01-14T09:37:43.676Z"
   },
   {
    "duration": 19,
    "start_time": "2023-01-14T09:37:43.689Z"
   },
   {
    "duration": 29,
    "start_time": "2023-01-14T09:37:43.710Z"
   },
   {
    "duration": 323,
    "start_time": "2023-01-14T09:37:43.742Z"
   },
   {
    "duration": 176,
    "start_time": "2023-01-14T09:37:44.066Z"
   },
   {
    "duration": 412,
    "start_time": "2023-01-14T09:37:44.244Z"
   },
   {
    "duration": 8480,
    "start_time": "2023-01-14T09:37:44.660Z"
   },
   {
    "duration": 167,
    "start_time": "2023-01-14T09:37:53.141Z"
   },
   {
    "duration": 156,
    "start_time": "2023-01-14T09:37:53.310Z"
   },
   {
    "duration": 11221,
    "start_time": "2023-01-14T09:37:53.468Z"
   },
   {
    "duration": 182,
    "start_time": "2023-01-14T09:38:04.690Z"
   },
   {
    "duration": 12695,
    "start_time": "2023-01-14T09:38:04.874Z"
   },
   {
    "duration": 37,
    "start_time": "2023-01-14T09:38:17.571Z"
   },
   {
    "duration": 1347,
    "start_time": "2023-01-14T09:38:17.610Z"
   },
   {
    "duration": 7,
    "start_time": "2023-01-14T09:38:18.959Z"
   },
   {
    "duration": 13,
    "start_time": "2023-01-14T09:38:18.967Z"
   },
   {
    "duration": 9,
    "start_time": "2023-01-14T09:38:18.982Z"
   },
   {
    "duration": 11,
    "start_time": "2023-01-14T09:38:18.993Z"
   },
   {
    "duration": 6,
    "start_time": "2023-01-14T11:44:18.545Z"
   },
   {
    "duration": 47,
    "start_time": "2023-01-14T11:44:18.554Z"
   },
   {
    "duration": 15,
    "start_time": "2023-01-14T11:44:18.603Z"
   },
   {
    "duration": 48,
    "start_time": "2023-01-14T11:44:18.620Z"
   },
   {
    "duration": 10,
    "start_time": "2023-01-14T11:44:18.671Z"
   },
   {
    "duration": 20,
    "start_time": "2023-01-14T11:44:18.683Z"
   },
   {
    "duration": 9,
    "start_time": "2023-01-14T11:44:18.705Z"
   },
   {
    "duration": 31,
    "start_time": "2023-01-14T11:44:18.715Z"
   },
   {
    "duration": 10,
    "start_time": "2023-01-14T11:44:18.748Z"
   },
   {
    "duration": 28,
    "start_time": "2023-01-14T11:44:18.760Z"
   },
   {
    "duration": 328,
    "start_time": "2023-01-14T11:44:18.789Z"
   },
   {
    "duration": 176,
    "start_time": "2023-01-14T11:44:19.119Z"
   },
   {
    "duration": 412,
    "start_time": "2023-01-14T11:44:19.297Z"
   },
   {
    "duration": 8233,
    "start_time": "2023-01-14T11:44:19.712Z"
   },
   {
    "duration": 168,
    "start_time": "2023-01-14T11:44:27.947Z"
   },
   {
    "duration": 158,
    "start_time": "2023-01-14T11:44:28.117Z"
   },
   {
    "duration": 11184,
    "start_time": "2023-01-14T11:44:28.276Z"
   },
   {
    "duration": 181,
    "start_time": "2023-01-14T11:44:39.461Z"
   },
   {
    "duration": 12523,
    "start_time": "2023-01-14T11:44:39.644Z"
   },
   {
    "duration": 23,
    "start_time": "2023-01-14T11:44:52.169Z"
   },
   {
    "duration": 1265,
    "start_time": "2023-01-14T11:44:52.193Z"
   },
   {
    "duration": 8,
    "start_time": "2023-01-14T11:44:53.459Z"
   },
   {
    "duration": 9,
    "start_time": "2023-01-14T11:44:53.468Z"
   },
   {
    "duration": 18,
    "start_time": "2023-01-14T11:44:53.479Z"
   },
   {
    "duration": 8,
    "start_time": "2023-01-14T11:44:53.499Z"
   },
   {
    "duration": 2162,
    "start_time": "2023-01-15T08:15:31.969Z"
   },
   {
    "duration": 110,
    "start_time": "2023-01-15T08:15:34.133Z"
   },
   {
    "duration": 17,
    "start_time": "2023-01-15T08:15:34.245Z"
   },
   {
    "duration": 24,
    "start_time": "2023-01-15T08:15:34.264Z"
   },
   {
    "duration": 10,
    "start_time": "2023-01-15T08:15:34.291Z"
   },
   {
    "duration": 5,
    "start_time": "2023-01-15T08:15:34.302Z"
   },
   {
    "duration": 13,
    "start_time": "2023-01-15T08:15:34.309Z"
   },
   {
    "duration": 8,
    "start_time": "2023-01-15T08:15:34.323Z"
   },
   {
    "duration": 15,
    "start_time": "2023-01-15T08:15:34.332Z"
   },
   {
    "duration": 35,
    "start_time": "2023-01-15T08:15:34.349Z"
   },
   {
    "duration": 342,
    "start_time": "2023-01-15T08:15:34.386Z"
   },
   {
    "duration": 186,
    "start_time": "2023-01-15T08:15:34.730Z"
   },
   {
    "duration": 407,
    "start_time": "2023-01-15T08:15:34.917Z"
   },
   {
    "duration": 8196,
    "start_time": "2023-01-15T08:15:35.327Z"
   },
   {
    "duration": 187,
    "start_time": "2023-01-15T08:15:43.525Z"
   },
   {
    "duration": 149,
    "start_time": "2023-01-15T08:15:43.713Z"
   },
   {
    "duration": 11228,
    "start_time": "2023-01-15T08:15:43.864Z"
   },
   {
    "duration": 175,
    "start_time": "2023-01-15T08:15:55.094Z"
   },
   {
    "duration": 12992,
    "start_time": "2023-01-15T08:15:55.271Z"
   },
   {
    "duration": 39,
    "start_time": "2023-01-15T08:16:08.267Z"
   },
   {
    "duration": 1402,
    "start_time": "2023-01-15T08:16:08.309Z"
   },
   {
    "duration": 9,
    "start_time": "2023-01-15T08:16:09.713Z"
   },
   {
    "duration": 8,
    "start_time": "2023-01-15T08:16:09.724Z"
   },
   {
    "duration": 7,
    "start_time": "2023-01-15T08:16:09.733Z"
   },
   {
    "duration": 7,
    "start_time": "2023-01-15T08:16:09.742Z"
   },
   {
    "duration": 9,
    "start_time": "2023-01-15T08:24:53.454Z"
   },
   {
    "duration": 2162,
    "start_time": "2023-01-15T19:47:31.910Z"
   },
   {
    "duration": 128,
    "start_time": "2023-01-15T19:47:34.077Z"
   },
   {
    "duration": 28,
    "start_time": "2023-01-15T19:47:34.207Z"
   },
   {
    "duration": 40,
    "start_time": "2023-01-15T19:47:34.238Z"
   },
   {
    "duration": 16,
    "start_time": "2023-01-15T19:47:34.281Z"
   },
   {
    "duration": 15,
    "start_time": "2023-01-15T19:47:34.300Z"
   },
   {
    "duration": 23,
    "start_time": "2023-01-15T20:17:00.048Z"
   },
   {
    "duration": 152,
    "start_time": "2023-01-15T20:18:00.077Z"
   },
   {
    "duration": 11,
    "start_time": "2023-01-15T20:55:32.900Z"
   },
   {
    "duration": 11,
    "start_time": "2023-01-15T20:56:03.907Z"
   },
   {
    "duration": 66,
    "start_time": "2023-01-15T20:56:03.921Z"
   },
   {
    "duration": 16,
    "start_time": "2023-01-15T20:56:03.989Z"
   },
   {
    "duration": 33,
    "start_time": "2023-01-15T20:56:04.007Z"
   },
   {
    "duration": 30,
    "start_time": "2023-01-15T20:56:04.042Z"
   },
   {
    "duration": 31,
    "start_time": "2023-01-15T20:56:04.074Z"
   },
   {
    "duration": 15,
    "start_time": "2023-01-15T20:56:04.107Z"
   },
   {
    "duration": 26,
    "start_time": "2023-01-15T20:56:04.124Z"
   },
   {
    "duration": 44,
    "start_time": "2023-01-15T20:56:04.153Z"
   },
   {
    "duration": 32,
    "start_time": "2023-01-15T20:56:04.199Z"
   },
   {
    "duration": 34,
    "start_time": "2023-01-15T20:56:04.233Z"
   },
   {
    "duration": 334,
    "start_time": "2023-01-15T21:00:25.479Z"
   },
   {
    "duration": 191,
    "start_time": "2023-01-15T21:10:53.237Z"
   },
   {
    "duration": 54,
    "start_time": "2023-01-16T06:40:38.660Z"
   },
   {
    "duration": 6,
    "start_time": "2023-01-16T06:57:53.148Z"
   },
   {
    "duration": 1929,
    "start_time": "2023-01-16T06:58:03.579Z"
   },
   {
    "duration": 116,
    "start_time": "2023-01-16T06:58:05.510Z"
   },
   {
    "duration": 18,
    "start_time": "2023-01-16T06:58:05.627Z"
   },
   {
    "duration": 26,
    "start_time": "2023-01-16T06:58:05.647Z"
   },
   {
    "duration": 12,
    "start_time": "2023-01-16T06:58:05.675Z"
   },
   {
    "duration": 17,
    "start_time": "2023-01-16T06:58:05.688Z"
   },
   {
    "duration": 28,
    "start_time": "2023-01-16T06:58:05.707Z"
   },
   {
    "duration": 5,
    "start_time": "2023-01-16T06:58:05.737Z"
   },
   {
    "duration": 6,
    "start_time": "2023-01-16T06:58:05.744Z"
   },
   {
    "duration": 15,
    "start_time": "2023-01-16T06:58:05.751Z"
   },
   {
    "duration": 22,
    "start_time": "2023-01-16T06:58:05.768Z"
   },
   {
    "duration": 355,
    "start_time": "2023-01-16T06:58:05.792Z"
   },
   {
    "duration": 198,
    "start_time": "2023-01-16T06:58:06.150Z"
   },
   {
    "duration": 447,
    "start_time": "2023-01-16T06:58:06.351Z"
   },
   {
    "duration": 8574,
    "start_time": "2023-01-16T06:58:06.800Z"
   },
   {
    "duration": 188,
    "start_time": "2023-01-16T06:58:15.376Z"
   },
   {
    "duration": 11520,
    "start_time": "2023-01-16T06:58:15.566Z"
   },
   {
    "duration": 180,
    "start_time": "2023-01-16T06:58:27.088Z"
   },
   {
    "duration": 12755,
    "start_time": "2023-01-16T06:58:27.270Z"
   },
   {
    "duration": 33,
    "start_time": "2023-01-16T06:58:40.026Z"
   },
   {
    "duration": 1299,
    "start_time": "2023-01-16T06:58:40.061Z"
   },
   {
    "duration": 9,
    "start_time": "2023-01-16T06:58:41.362Z"
   },
   {
    "duration": 12,
    "start_time": "2023-01-16T06:58:41.373Z"
   },
   {
    "duration": 43,
    "start_time": "2023-01-16T06:58:41.387Z"
   },
   {
    "duration": 6,
    "start_time": "2023-01-16T06:58:41.432Z"
   },
   {
    "duration": 22,
    "start_time": "2023-01-16T06:58:41.440Z"
   },
   {
    "duration": 8,
    "start_time": "2023-01-16T06:58:41.464Z"
   },
   {
    "duration": 4,
    "start_time": "2023-01-16T06:59:29.009Z"
   },
   {
    "duration": 38,
    "start_time": "2023-01-16T07:04:21.971Z"
   },
   {
    "duration": 36,
    "start_time": "2023-01-16T07:05:09.888Z"
   },
   {
    "duration": 70,
    "start_time": "2023-01-16T07:06:32.888Z"
   },
   {
    "duration": 36,
    "start_time": "2023-01-16T07:07:33.336Z"
   },
   {
    "duration": 17,
    "start_time": "2023-01-16T07:08:17.148Z"
   },
   {
    "duration": 4,
    "start_time": "2023-01-16T07:12:10.545Z"
   },
   {
    "duration": 18,
    "start_time": "2023-01-16T07:14:37.338Z"
   },
   {
    "duration": 5,
    "start_time": "2023-01-16T07:21:44.079Z"
   },
   {
    "duration": 36,
    "start_time": "2023-01-16T07:21:44.086Z"
   },
   {
    "duration": 13,
    "start_time": "2023-01-16T07:21:44.123Z"
   },
   {
    "duration": 27,
    "start_time": "2023-01-16T07:21:44.138Z"
   },
   {
    "duration": 9,
    "start_time": "2023-01-16T07:21:44.167Z"
   },
   {
    "duration": 17,
    "start_time": "2023-01-16T07:21:44.177Z"
   },
   {
    "duration": 5,
    "start_time": "2023-01-16T07:21:44.196Z"
   },
   {
    "duration": 12,
    "start_time": "2023-01-16T07:21:44.202Z"
   },
   {
    "duration": 19,
    "start_time": "2023-01-16T07:21:44.216Z"
   },
   {
    "duration": 8,
    "start_time": "2023-01-16T07:21:44.237Z"
   },
   {
    "duration": 21,
    "start_time": "2023-01-16T07:21:44.247Z"
   },
   {
    "duration": 328,
    "start_time": "2023-01-16T07:21:44.270Z"
   },
   {
    "duration": 171,
    "start_time": "2023-01-16T07:21:44.600Z"
   },
   {
    "duration": 387,
    "start_time": "2023-01-16T07:21:44.773Z"
   },
   {
    "duration": 7948,
    "start_time": "2023-01-16T07:21:45.162Z"
   },
   {
    "duration": 169,
    "start_time": "2023-01-16T07:21:53.111Z"
   },
   {
    "duration": 10722,
    "start_time": "2023-01-16T07:21:53.281Z"
   },
   {
    "duration": 173,
    "start_time": "2023-01-16T07:22:04.005Z"
   },
   {
    "duration": 12255,
    "start_time": "2023-01-16T07:22:04.180Z"
   },
   {
    "duration": 25,
    "start_time": "2023-01-16T07:22:16.437Z"
   },
   {
    "duration": 1340,
    "start_time": "2023-01-16T07:22:16.464Z"
   },
   {
    "duration": 9,
    "start_time": "2023-01-16T07:22:17.806Z"
   },
   {
    "duration": 19,
    "start_time": "2023-01-16T07:22:17.816Z"
   },
   {
    "duration": 32,
    "start_time": "2023-01-16T07:22:17.837Z"
   },
   {
    "duration": 3,
    "start_time": "2023-01-16T07:27:21.057Z"
   },
   {
    "duration": 18,
    "start_time": "2023-01-16T07:27:24.005Z"
   },
   {
    "duration": 15,
    "start_time": "2023-01-16T07:32:15.437Z"
   },
   {
    "duration": 7,
    "start_time": "2023-01-16T07:32:45.514Z"
   },
   {
    "duration": 4,
    "start_time": "2023-01-16T07:43:53.888Z"
   },
   {
    "duration": 36,
    "start_time": "2023-01-16T08:06:58.464Z"
   },
   {
    "duration": 42,
    "start_time": "2023-01-16T08:08:45.824Z"
   },
   {
    "duration": 46,
    "start_time": "2023-01-16T08:09:00.633Z"
   },
   {
    "duration": 6,
    "start_time": "2023-01-16T08:59:38.888Z"
   },
   {
    "duration": 41,
    "start_time": "2023-01-16T08:59:38.897Z"
   },
   {
    "duration": 14,
    "start_time": "2023-01-16T08:59:38.940Z"
   },
   {
    "duration": 27,
    "start_time": "2023-01-16T08:59:38.956Z"
   },
   {
    "duration": 11,
    "start_time": "2023-01-16T08:59:38.985Z"
   },
   {
    "duration": 38,
    "start_time": "2023-01-16T08:59:38.997Z"
   },
   {
    "duration": 4,
    "start_time": "2023-01-16T08:59:39.037Z"
   },
   {
    "duration": 17,
    "start_time": "2023-01-16T08:59:39.042Z"
   },
   {
    "duration": 6,
    "start_time": "2023-01-16T08:59:39.062Z"
   },
   {
    "duration": 8,
    "start_time": "2023-01-16T08:59:39.070Z"
   },
   {
    "duration": 21,
    "start_time": "2023-01-16T08:59:39.080Z"
   },
   {
    "duration": 340,
    "start_time": "2023-01-16T08:59:39.103Z"
   },
   {
    "duration": 175,
    "start_time": "2023-01-16T08:59:39.445Z"
   },
   {
    "duration": 436,
    "start_time": "2023-01-16T08:59:39.622Z"
   },
   {
    "duration": 8476,
    "start_time": "2023-01-16T08:59:40.060Z"
   },
   {
    "duration": 182,
    "start_time": "2023-01-16T08:59:48.538Z"
   },
   {
    "duration": 11401,
    "start_time": "2023-01-16T08:59:48.721Z"
   },
   {
    "duration": 170,
    "start_time": "2023-01-16T09:00:00.124Z"
   },
   {
    "duration": 12480,
    "start_time": "2023-01-16T09:00:00.296Z"
   },
   {
    "duration": 25,
    "start_time": "2023-01-16T09:00:12.778Z"
   },
   {
    "duration": 1235,
    "start_time": "2023-01-16T09:00:12.805Z"
   },
   {
    "duration": 9,
    "start_time": "2023-01-16T09:00:14.042Z"
   },
   {
    "duration": 14,
    "start_time": "2023-01-16T09:00:14.053Z"
   },
   {
    "duration": 39,
    "start_time": "2023-01-16T09:00:14.069Z"
   },
   {
    "duration": 33,
    "start_time": "2023-01-16T09:00:14.109Z"
   },
   {
    "duration": 69,
    "start_time": "2023-01-16T09:00:14.144Z"
   },
   {
    "duration": 20,
    "start_time": "2023-01-16T09:00:14.214Z"
   },
   {
    "duration": 39,
    "start_time": "2023-01-16T09:00:14.236Z"
   },
   {
    "duration": 37,
    "start_time": "2023-01-16T09:00:14.277Z"
   },
   {
    "duration": 39,
    "start_time": "2023-01-16T09:00:14.316Z"
   },
   {
    "duration": 42,
    "start_time": "2023-01-16T09:00:14.357Z"
   },
   {
    "duration": 8,
    "start_time": "2023-01-16T09:00:14.401Z"
   }
  ],
  "kernelspec": {
   "display_name": "Python 3 (ipykernel)",
   "language": "python",
   "name": "python3"
  },
  "language_info": {
   "codemirror_mode": {
    "name": "ipython",
    "version": 3
   },
   "file_extension": ".py",
   "mimetype": "text/x-python",
   "name": "python",
   "nbconvert_exporter": "python",
   "pygments_lexer": "ipython3",
   "version": "3.9.16"
  },
  "toc": {
   "base_numbering": 1,
   "nav_menu": {},
   "number_sections": true,
   "sideBar": true,
   "skip_h1_title": true,
   "title_cell": "Table of Contents",
   "title_sidebar": "Contents",
   "toc_cell": false,
   "toc_position": {
    "height": "calc(100% - 180px)",
    "left": "10px",
    "top": "150px",
    "width": "165px"
   },
   "toc_section_display": true,
   "toc_window_display": true
  }
 },
 "nbformat": 4,
 "nbformat_minor": 2
}
