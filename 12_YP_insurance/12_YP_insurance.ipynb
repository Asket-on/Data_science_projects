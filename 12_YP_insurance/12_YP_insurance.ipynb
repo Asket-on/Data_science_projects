{
 "cells": [
  {
   "cell_type": "markdown",
   "metadata": {
    "toc": true
   },
   "source": [
    "<h1>Содержание<span class=\"tocSkip\"></span></h1>\n",
    "<div class=\"toc\"><ul class=\"toc-item\"><li><ul class=\"toc-item\"><li><span><a href=\"#Описание-данных\" data-toc-modified-id=\"Описание-данных-0.1\"><span class=\"toc-item-num\">0.1&nbsp;&nbsp;</span>Описание данных</a></span></li></ul></li><li><span><a href=\"#Загрузка-данных\" data-toc-modified-id=\"Загрузка-данных-1\"><span class=\"toc-item-num\">1&nbsp;&nbsp;</span>Загрузка данных</a></span><ul class=\"toc-item\"><li><span><a href=\"#Приведение-наименований-столбцов-к-общепринятому-формату\" data-toc-modified-id=\"Приведение-наименований-столбцов-к-общепринятому-формату-1.1\"><span class=\"toc-item-num\">1.1&nbsp;&nbsp;</span>Приведение наименований столбцов к общепринятому формату</a></span></li><li><span><a href=\"#Изучение-данных\" data-toc-modified-id=\"Изучение-данных-1.2\"><span class=\"toc-item-num\">1.2&nbsp;&nbsp;</span>Изучение данных</a></span></li><li><span><a href=\"#Проверка-мультиколлинеарности\" data-toc-modified-id=\"Проверка-мультиколлинеарности-1.3\"><span class=\"toc-item-num\">1.3&nbsp;&nbsp;</span>Проверка мультиколлинеарности</a></span></li><li><span><a href=\"#Приведение-значений-к-единому-масштабу-(scaling)\" data-toc-modified-id=\"Приведение-значений-к-единому-масштабу-(scaling)-1.4\"><span class=\"toc-item-num\">1.4&nbsp;&nbsp;</span>Приведение значений к единому масштабу (scaling)</a></span></li><li><span><a href=\"#Выводы:\" data-toc-modified-id=\"Выводы:-1.5\"><span class=\"toc-item-num\">1.5&nbsp;&nbsp;</span>Выводы:</a></span></li></ul></li><li><span><a href=\"#Умножение-матриц\" data-toc-modified-id=\"Умножение-матриц-2\"><span class=\"toc-item-num\">2&nbsp;&nbsp;</span>Умножение матриц</a></span><ul class=\"toc-item\"><li><span><a href=\"#Признаки-умножают-на-обратимую-матрицу.-Изменится-ли-качество-линейной-регрессии?\" data-toc-modified-id=\"Признаки-умножают-на-обратимую-матрицу.-Изменится-ли-качество-линейной-регрессии?-2.1\"><span class=\"toc-item-num\">2.1&nbsp;&nbsp;</span>Признаки умножают на обратимую матрицу. Изменится ли качество линейной регрессии?</a></span></li></ul></li><li><span><a href=\"#Выбор-алгоритма-преобразования\" data-toc-modified-id=\"Выбор-алгоритма-преобразования-3\"><span class=\"toc-item-num\">3&nbsp;&nbsp;</span>Выбор алгоритма преобразования</a></span></li><li><span><a href=\"#Проверка-алгоритма\" data-toc-modified-id=\"Проверка-алгоритма-4\"><span class=\"toc-item-num\">4&nbsp;&nbsp;</span>Проверка алгоритма</a></span><ul class=\"toc-item\"><li><span><a href=\"#Обучение--и-тестирование-без-шифрования\" data-toc-modified-id=\"Обучение--и-тестирование-без-шифрования-4.1\"><span class=\"toc-item-num\">4.1&nbsp;&nbsp;</span>Обучение  и тестирование без шифрования</a></span></li><li><span><a href=\"#Процедура-шифрования-с-использованием-матричного-умножения\" data-toc-modified-id=\"Процедура-шифрования-с-использованием-матричного-умножения-4.2\"><span class=\"toc-item-num\">4.2&nbsp;&nbsp;</span>Процедура шифрования с использованием матричного умножения</a></span></li><li><span><a href=\"#Обучение-и-тестирование-на-зашифрованных-данных\" data-toc-modified-id=\"Обучение-и-тестирование-на-зашифрованных-данных-4.3\"><span class=\"toc-item-num\">4.3&nbsp;&nbsp;</span>Обучение и тестирование на зашифрованных данных</a></span></li></ul></li><li><span><a href=\"#Выводы\" data-toc-modified-id=\"Выводы-5\"><span class=\"toc-item-num\">5&nbsp;&nbsp;</span>Выводы</a></span></li><li><span><a href=\"#Чек-лист-проверки\" data-toc-modified-id=\"Чек-лист-проверки-6\"><span class=\"toc-item-num\">6&nbsp;&nbsp;</span>Чек-лист проверки</a></span></li></ul></div>"
   ]
  },
  {
   "cell_type": "markdown",
   "metadata": {},
   "source": [
    "# Защита персональных данных клиентов"
   ]
  },
  {
   "cell_type": "markdown",
   "metadata": {},
   "source": [
    "Для защиты персональных данных клиентов страховой компании \"Хоть потоп\" необходимо разработать метод преобразования данных, который усложнит восстановление персональной информации. Корректность работы метода должна быть обоснована, и при этом качество моделей машинного обучения не должно ухудшаться."
   ]
  },
  {
   "cell_type": "markdown",
   "metadata": {},
   "source": [
    "### Описание данных\n",
    "\n",
    "Набор данных находится в файле `/datasets/insurance.csv`. [Скачать датасет](https://code.s3.yandex.net/datasets/insurance.csv).\n",
    "\n",
    "-   **Признаки:** пол, возраст и зарплата застрахованного, количество членов его семьи.\n",
    "-   **Целевой признак:** количество страховых выплат клиенту за последние 5 лет."
   ]
  },
  {
   "cell_type": "markdown",
   "metadata": {},
   "source": [
    "## Загрузка данных"
   ]
  },
  {
   "cell_type": "code",
   "execution_count": 39,
   "metadata": {},
   "outputs": [],
   "source": [
    "#importing all the libraries needed\n",
    "import seaborn as sns\n",
    "import numpy as np\n",
    "import pandas as pd\n",
    "import matplotlib.pyplot as plt\n",
    "import re\n",
    "import warnings\n",
    "#warnings.filterwarnings('ignore')\n",
    "\n",
    "from sklearn.preprocessing import MinMaxScaler\n",
    "from sklearn.linear_model import LinearRegression\n",
    "from sklearn.model_selection import train_test_split\n",
    "\n",
    "from IPython.display import display\n",
    "%matplotlib inline\n",
    "\n",
    "RANDOM_STATE = 13"
   ]
  },
  {
   "cell_type": "code",
   "execution_count": 40,
   "metadata": {},
   "outputs": [],
   "source": [
    "def data_read(df_name):\n",
    "    try:\n",
    "        data = pd.read_csv(f'C:\\\\Users\\\\m5612\\\\Downloads\\\\{df_name}.csv', \n",
    "        parse_dates=True)\n",
    "    except:\n",
    "        data = pd.read_csv(f'https://code.s3.yandex.net/datasets/{df_name}.csv', \n",
    "        parse_dates=True)\n",
    "    return data"
   ]
  },
  {
   "cell_type": "code",
   "execution_count": 41,
   "metadata": {
    "scrolled": true
   },
   "outputs": [
    {
     "data": {
      "text/html": [
       "<div>\n",
       "<style scoped>\n",
       "    .dataframe tbody tr th:only-of-type {\n",
       "        vertical-align: middle;\n",
       "    }\n",
       "\n",
       "    .dataframe tbody tr th {\n",
       "        vertical-align: top;\n",
       "    }\n",
       "\n",
       "    .dataframe thead th {\n",
       "        text-align: right;\n",
       "    }\n",
       "</style>\n",
       "<table border=\"1\" class=\"dataframe\">\n",
       "  <thead>\n",
       "    <tr style=\"text-align: right;\">\n",
       "      <th></th>\n",
       "      <th>Пол</th>\n",
       "      <th>Возраст</th>\n",
       "      <th>Зарплата</th>\n",
       "      <th>Члены семьи</th>\n",
       "      <th>Страховые выплаты</th>\n",
       "    </tr>\n",
       "  </thead>\n",
       "  <tbody>\n",
       "    <tr>\n",
       "      <th>0</th>\n",
       "      <td>1</td>\n",
       "      <td>41.0</td>\n",
       "      <td>49600.0</td>\n",
       "      <td>1</td>\n",
       "      <td>0</td>\n",
       "    </tr>\n",
       "    <tr>\n",
       "      <th>1</th>\n",
       "      <td>0</td>\n",
       "      <td>46.0</td>\n",
       "      <td>38000.0</td>\n",
       "      <td>1</td>\n",
       "      <td>1</td>\n",
       "    </tr>\n",
       "    <tr>\n",
       "      <th>2</th>\n",
       "      <td>0</td>\n",
       "      <td>29.0</td>\n",
       "      <td>21000.0</td>\n",
       "      <td>0</td>\n",
       "      <td>0</td>\n",
       "    </tr>\n",
       "    <tr>\n",
       "      <th>3</th>\n",
       "      <td>0</td>\n",
       "      <td>21.0</td>\n",
       "      <td>41700.0</td>\n",
       "      <td>2</td>\n",
       "      <td>0</td>\n",
       "    </tr>\n",
       "    <tr>\n",
       "      <th>4</th>\n",
       "      <td>1</td>\n",
       "      <td>28.0</td>\n",
       "      <td>26100.0</td>\n",
       "      <td>0</td>\n",
       "      <td>0</td>\n",
       "    </tr>\n",
       "  </tbody>\n",
       "</table>\n",
       "</div>"
      ],
      "text/plain": [
       "   Пол  Возраст  Зарплата  Члены семьи  Страховые выплаты\n",
       "0    1     41.0   49600.0            1                  0\n",
       "1    0     46.0   38000.0            1                  1\n",
       "2    0     29.0   21000.0            0                  0\n",
       "3    0     21.0   41700.0            2                  0\n",
       "4    1     28.0   26100.0            0                  0"
      ]
     },
     "execution_count": 41,
     "metadata": {},
     "output_type": "execute_result"
    }
   ],
   "source": [
    "df = data_read('insurance')\n",
    "df.head()"
   ]
  },
  {
   "cell_type": "markdown",
   "metadata": {},
   "source": [
    "### Приведение наименований столбцов к общепринятому формату"
   ]
  },
  {
   "cell_type": "code",
   "execution_count": 42,
   "metadata": {},
   "outputs": [],
   "source": [
    "# converting column names to lowercase using the separator \"_\"\n",
    "df.columns = df.columns.str.lower().str.replace(' ', '_')"
   ]
  },
  {
   "cell_type": "code",
   "execution_count": 43,
   "metadata": {},
   "outputs": [],
   "source": [
    "# translation of column names into English\n",
    "df.columns = ['gender', 'age', 'salary', 'family_members', 'insurance_claims']"
   ]
  },
  {
   "cell_type": "markdown",
   "metadata": {},
   "source": [
    "### Изучение данных"
   ]
  },
  {
   "cell_type": "code",
   "execution_count": 44,
   "metadata": {
    "scrolled": false
   },
   "outputs": [
    {
     "data": {
      "text/html": [
       "<div>\n",
       "<style scoped>\n",
       "    .dataframe tbody tr th:only-of-type {\n",
       "        vertical-align: middle;\n",
       "    }\n",
       "\n",
       "    .dataframe tbody tr th {\n",
       "        vertical-align: top;\n",
       "    }\n",
       "\n",
       "    .dataframe thead th {\n",
       "        text-align: right;\n",
       "    }\n",
       "</style>\n",
       "<table border=\"1\" class=\"dataframe\">\n",
       "  <thead>\n",
       "    <tr style=\"text-align: right;\">\n",
       "      <th></th>\n",
       "      <th>gender</th>\n",
       "      <th>age</th>\n",
       "      <th>salary</th>\n",
       "      <th>family_members</th>\n",
       "      <th>insurance_claims</th>\n",
       "    </tr>\n",
       "  </thead>\n",
       "  <tbody>\n",
       "    <tr>\n",
       "      <th>3255</th>\n",
       "      <td>1</td>\n",
       "      <td>41.0</td>\n",
       "      <td>79000.0</td>\n",
       "      <td>2</td>\n",
       "      <td>0</td>\n",
       "    </tr>\n",
       "    <tr>\n",
       "      <th>2315</th>\n",
       "      <td>1</td>\n",
       "      <td>38.0</td>\n",
       "      <td>42800.0</td>\n",
       "      <td>1</td>\n",
       "      <td>0</td>\n",
       "    </tr>\n",
       "    <tr>\n",
       "      <th>909</th>\n",
       "      <td>1</td>\n",
       "      <td>36.0</td>\n",
       "      <td>32300.0</td>\n",
       "      <td>0</td>\n",
       "      <td>0</td>\n",
       "    </tr>\n",
       "    <tr>\n",
       "      <th>361</th>\n",
       "      <td>0</td>\n",
       "      <td>50.0</td>\n",
       "      <td>24700.0</td>\n",
       "      <td>1</td>\n",
       "      <td>2</td>\n",
       "    </tr>\n",
       "    <tr>\n",
       "      <th>722</th>\n",
       "      <td>0</td>\n",
       "      <td>25.0</td>\n",
       "      <td>40200.0</td>\n",
       "      <td>1</td>\n",
       "      <td>0</td>\n",
       "    </tr>\n",
       "    <tr>\n",
       "      <th>4112</th>\n",
       "      <td>0</td>\n",
       "      <td>40.0</td>\n",
       "      <td>56300.0</td>\n",
       "      <td>1</td>\n",
       "      <td>0</td>\n",
       "    </tr>\n",
       "    <tr>\n",
       "      <th>1896</th>\n",
       "      <td>1</td>\n",
       "      <td>38.0</td>\n",
       "      <td>33200.0</td>\n",
       "      <td>2</td>\n",
       "      <td>0</td>\n",
       "    </tr>\n",
       "  </tbody>\n",
       "</table>\n",
       "</div>"
      ],
      "text/plain": [
       "      gender   age   salary  family_members  insurance_claims\n",
       "3255       1  41.0  79000.0               2                 0\n",
       "2315       1  38.0  42800.0               1                 0\n",
       "909        1  36.0  32300.0               0                 0\n",
       "361        0  50.0  24700.0               1                 2\n",
       "722        0  25.0  40200.0               1                 0\n",
       "4112       0  40.0  56300.0               1                 0\n",
       "1896       1  38.0  33200.0               2                 0"
      ]
     },
     "execution_count": 44,
     "metadata": {},
     "output_type": "execute_result"
    }
   ],
   "source": [
    "df.sample(7)"
   ]
  },
  {
   "cell_type": "code",
   "execution_count": 45,
   "metadata": {
    "scrolled": true
   },
   "outputs": [
    {
     "name": "stdout",
     "output_type": "stream",
     "text": [
      "<class 'pandas.core.frame.DataFrame'>\n",
      "RangeIndex: 5000 entries, 0 to 4999\n",
      "Data columns (total 5 columns):\n",
      " #   Column            Non-Null Count  Dtype  \n",
      "---  ------            --------------  -----  \n",
      " 0   gender            5000 non-null   int64  \n",
      " 1   age               5000 non-null   float64\n",
      " 2   salary            5000 non-null   float64\n",
      " 3   family_members    5000 non-null   int64  \n",
      " 4   insurance_claims  5000 non-null   int64  \n",
      "dtypes: float64(2), int64(3)\n",
      "memory usage: 195.4 KB\n"
     ]
    }
   ],
   "source": [
    "df.info()"
   ]
  },
  {
   "cell_type": "code",
   "execution_count": 46,
   "metadata": {
    "scrolled": true
   },
   "outputs": [
    {
     "data": {
      "text/html": [
       "<div>\n",
       "<style scoped>\n",
       "    .dataframe tbody tr th:only-of-type {\n",
       "        vertical-align: middle;\n",
       "    }\n",
       "\n",
       "    .dataframe tbody tr th {\n",
       "        vertical-align: top;\n",
       "    }\n",
       "\n",
       "    .dataframe thead th {\n",
       "        text-align: right;\n",
       "    }\n",
       "</style>\n",
       "<table border=\"1\" class=\"dataframe\">\n",
       "  <thead>\n",
       "    <tr style=\"text-align: right;\">\n",
       "      <th></th>\n",
       "      <th>gender</th>\n",
       "      <th>age</th>\n",
       "      <th>salary</th>\n",
       "      <th>family_members</th>\n",
       "      <th>insurance_claims</th>\n",
       "    </tr>\n",
       "  </thead>\n",
       "  <tbody>\n",
       "    <tr>\n",
       "      <th>count</th>\n",
       "      <td>5000.000000</td>\n",
       "      <td>5000.000000</td>\n",
       "      <td>5000.000000</td>\n",
       "      <td>5000.000000</td>\n",
       "      <td>5000.000000</td>\n",
       "    </tr>\n",
       "    <tr>\n",
       "      <th>mean</th>\n",
       "      <td>0.499000</td>\n",
       "      <td>30.952800</td>\n",
       "      <td>39916.360000</td>\n",
       "      <td>1.194200</td>\n",
       "      <td>0.148000</td>\n",
       "    </tr>\n",
       "    <tr>\n",
       "      <th>std</th>\n",
       "      <td>0.500049</td>\n",
       "      <td>8.440807</td>\n",
       "      <td>9900.083569</td>\n",
       "      <td>1.091387</td>\n",
       "      <td>0.463183</td>\n",
       "    </tr>\n",
       "    <tr>\n",
       "      <th>min</th>\n",
       "      <td>0.000000</td>\n",
       "      <td>18.000000</td>\n",
       "      <td>5300.000000</td>\n",
       "      <td>0.000000</td>\n",
       "      <td>0.000000</td>\n",
       "    </tr>\n",
       "    <tr>\n",
       "      <th>25%</th>\n",
       "      <td>0.000000</td>\n",
       "      <td>24.000000</td>\n",
       "      <td>33300.000000</td>\n",
       "      <td>0.000000</td>\n",
       "      <td>0.000000</td>\n",
       "    </tr>\n",
       "    <tr>\n",
       "      <th>50%</th>\n",
       "      <td>0.000000</td>\n",
       "      <td>30.000000</td>\n",
       "      <td>40200.000000</td>\n",
       "      <td>1.000000</td>\n",
       "      <td>0.000000</td>\n",
       "    </tr>\n",
       "    <tr>\n",
       "      <th>75%</th>\n",
       "      <td>1.000000</td>\n",
       "      <td>37.000000</td>\n",
       "      <td>46600.000000</td>\n",
       "      <td>2.000000</td>\n",
       "      <td>0.000000</td>\n",
       "    </tr>\n",
       "    <tr>\n",
       "      <th>max</th>\n",
       "      <td>1.000000</td>\n",
       "      <td>65.000000</td>\n",
       "      <td>79000.000000</td>\n",
       "      <td>6.000000</td>\n",
       "      <td>5.000000</td>\n",
       "    </tr>\n",
       "  </tbody>\n",
       "</table>\n",
       "</div>"
      ],
      "text/plain": [
       "            gender          age        salary  family_members  \\\n",
       "count  5000.000000  5000.000000   5000.000000     5000.000000   \n",
       "mean      0.499000    30.952800  39916.360000        1.194200   \n",
       "std       0.500049     8.440807   9900.083569        1.091387   \n",
       "min       0.000000    18.000000   5300.000000        0.000000   \n",
       "25%       0.000000    24.000000  33300.000000        0.000000   \n",
       "50%       0.000000    30.000000  40200.000000        1.000000   \n",
       "75%       1.000000    37.000000  46600.000000        2.000000   \n",
       "max       1.000000    65.000000  79000.000000        6.000000   \n",
       "\n",
       "       insurance_claims  \n",
       "count       5000.000000  \n",
       "mean           0.148000  \n",
       "std            0.463183  \n",
       "min            0.000000  \n",
       "25%            0.000000  \n",
       "50%            0.000000  \n",
       "75%            0.000000  \n",
       "max            5.000000  "
      ]
     },
     "execution_count": 46,
     "metadata": {},
     "output_type": "execute_result"
    }
   ],
   "source": [
    "df.describe()"
   ]
  },
  {
   "cell_type": "code",
   "execution_count": 47,
   "metadata": {
    "scrolled": true
   },
   "outputs": [
    {
     "data": {
      "image/png": "[encoded data removed]",
      "text/plain": [
       "<Figure size 864x576 with 6 Axes>"
      ]
     },
     "metadata": {
      "needs_background": "light"
     },
     "output_type": "display_data"
    }
   ],
   "source": [
    "df.hist(bins=100, figsize=(12, 8));"
   ]
  },
  {
   "cell_type": "code",
   "execution_count": 48,
   "metadata": {},
   "outputs": [
    {
     "name": "stdout",
     "output_type": "stream",
     "text": [
      "Number of duplicates: 153\n"
     ]
    }
   ],
   "source": [
    "print(\"Number of duplicates:\", df.duplicated().sum())"
   ]
  },
  {
   "cell_type": "code",
   "execution_count": 49,
   "metadata": {},
   "outputs": [
    {
     "name": "stdout",
     "output_type": "stream",
     "text": [
      "Duplicate rows:\n",
      "       gender   age   salary  family_members  insurance_claims\n",
      "281        1  39.0  48100.0               1                 0\n",
      "488        1  24.0  32900.0               1                 0\n",
      "513        0  31.0  37400.0               2                 0\n",
      "718        1  22.0  32600.0               1                 0\n",
      "785        0  20.0  35800.0               0                 0\n",
      "...      ...   ...      ...             ...               ...\n",
      "4793       1  24.0  37800.0               0                 0\n",
      "4902       1  35.0  38700.0               1                 0\n",
      "4935       1  19.0  32700.0               0                 0\n",
      "4945       1  21.0  45800.0               0                 0\n",
      "4965       0  22.0  40100.0               1                 0\n",
      "\n",
      "[153 rows x 5 columns]\n"
     ]
    }
   ],
   "source": [
    "print(\"Duplicate rows:\\n\", (df.loc[df.duplicated(), :]))"
   ]
  },
  {
   "cell_type": "code",
   "execution_count": 50,
   "metadata": {},
   "outputs": [
    {
     "name": "stdout",
     "output_type": "stream",
     "text": [
      "gender                2\n",
      "age                  46\n",
      "salary              524\n",
      "family_members        7\n",
      "insurance_claims      6\n",
      "dtype: int64\n"
     ]
    }
   ],
   "source": [
    "# counting the number of unique values in each column\n",
    "unique_counts = df.nunique()\n",
    "print(unique_counts)"
   ]
  },
  {
   "cell_type": "markdown",
   "metadata": {},
   "source": [
    "Очистка данных не требуется. 3% дубликатов при таком количестве уникальных значений вполне ожидаемо.\n",
    "***"
   ]
  },
  {
   "cell_type": "markdown",
   "metadata": {},
   "source": [
    "### Проверка мультиколлинеарности\n",
    "\n",
    "Для проверки мультиколлинеарности в датафрейме можно использовать несколько методов. Один из наиболее распространенных методов - это вычисление матрицы корреляции между всеми переменными.\n",
    "\n",
    "Используем метод corr() для вычисления матрицы корреляции между всеми переменными в датафрейме. Затем визуализируем эту матрицу в виде тепловой карты, используя библиотеку seaborn."
   ]
  },
  {
   "cell_type": "code",
   "execution_count": 51,
   "metadata": {
    "scrolled": true
   },
   "outputs": [
    {
     "data": {
      "text/html": [
       "<div>\n",
       "<style scoped>\n",
       "    .dataframe tbody tr th:only-of-type {\n",
       "        vertical-align: middle;\n",
       "    }\n",
       "\n",
       "    .dataframe tbody tr th {\n",
       "        vertical-align: top;\n",
       "    }\n",
       "\n",
       "    .dataframe thead th {\n",
       "        text-align: right;\n",
       "    }\n",
       "</style>\n",
       "<table border=\"1\" class=\"dataframe\">\n",
       "  <thead>\n",
       "    <tr style=\"text-align: right;\">\n",
       "      <th></th>\n",
       "      <th>gender</th>\n",
       "      <th>age</th>\n",
       "      <th>salary</th>\n",
       "      <th>family_members</th>\n",
       "      <th>insurance_claims</th>\n",
       "    </tr>\n",
       "  </thead>\n",
       "  <tbody>\n",
       "    <tr>\n",
       "      <th>gender</th>\n",
       "      <td>1.000000</td>\n",
       "      <td>0.002074</td>\n",
       "      <td>0.014910</td>\n",
       "      <td>-0.008991</td>\n",
       "      <td>0.010140</td>\n",
       "    </tr>\n",
       "    <tr>\n",
       "      <th>age</th>\n",
       "      <td>0.002074</td>\n",
       "      <td>1.000000</td>\n",
       "      <td>-0.019093</td>\n",
       "      <td>-0.006692</td>\n",
       "      <td>0.651030</td>\n",
       "    </tr>\n",
       "    <tr>\n",
       "      <th>salary</th>\n",
       "      <td>0.014910</td>\n",
       "      <td>-0.019093</td>\n",
       "      <td>1.000000</td>\n",
       "      <td>-0.030296</td>\n",
       "      <td>-0.014963</td>\n",
       "    </tr>\n",
       "    <tr>\n",
       "      <th>family_members</th>\n",
       "      <td>-0.008991</td>\n",
       "      <td>-0.006692</td>\n",
       "      <td>-0.030296</td>\n",
       "      <td>1.000000</td>\n",
       "      <td>-0.036290</td>\n",
       "    </tr>\n",
       "    <tr>\n",
       "      <th>insurance_claims</th>\n",
       "      <td>0.010140</td>\n",
       "      <td>0.651030</td>\n",
       "      <td>-0.014963</td>\n",
       "      <td>-0.036290</td>\n",
       "      <td>1.000000</td>\n",
       "    </tr>\n",
       "  </tbody>\n",
       "</table>\n",
       "</div>"
      ],
      "text/plain": [
       "                    gender       age    salary  family_members  \\\n",
       "gender            1.000000  0.002074  0.014910       -0.008991   \n",
       "age               0.002074  1.000000 -0.019093       -0.006692   \n",
       "salary            0.014910 -0.019093  1.000000       -0.030296   \n",
       "family_members   -0.008991 -0.006692 -0.030296        1.000000   \n",
       "insurance_claims  0.010140  0.651030 -0.014963       -0.036290   \n",
       "\n",
       "                  insurance_claims  \n",
       "gender                    0.010140  \n",
       "age                       0.651030  \n",
       "salary                   -0.014963  \n",
       "family_members           -0.036290  \n",
       "insurance_claims          1.000000  "
      ]
     },
     "execution_count": 51,
     "metadata": {},
     "output_type": "execute_result"
    }
   ],
   "source": [
    "# calculate correlation matrix\n",
    "corr_matrix = df.corr()\n",
    "corr_matrix"
   ]
  },
  {
   "cell_type": "code",
   "execution_count": 52,
   "metadata": {
    "scrolled": false
   },
   "outputs": [
    {
     "data": {
      "image/png": "[encoded data removed]",
      "text/plain": [
       "<Figure size 432x288 with 2 Axes>"
      ]
     },
     "metadata": {
      "needs_background": "light"
     },
     "output_type": "display_data"
    }
   ],
   "source": [
    "# visualize the correlation matrix as a heat map\n",
    "sns.heatmap(corr_matrix, annot=True);"
   ]
  },
  {
   "cell_type": "markdown",
   "metadata": {},
   "source": [
    "Cильная корреляция между признаками не обнаружена, мультиколлинеарности нет. Если такая корреляция обнаруживается, то можно рассмотреть возможность удаления одной из переменных или использования методов регуляризации для уменьшения мультиколлинеарности."
   ]
  },
  {
   "cell_type": "markdown",
   "metadata": {},
   "source": [
    "Проверка на мультиколлинеарность является важным шагом при анализе данных и построении моделей, так как мультиколлинеарность может привести к искажению результатов и уменьшению точности модели.\n",
    "\n",
    "Мультиколлинеарность возникает, когда две или более независимые переменные в модели сильно коррелируют между собой. Это может привести к тому, что коэффициенты регрессии становятся неустойчивыми и неинтерпретируемыми, а также к переоценке значимости переменных в модели.\n",
    "\n",
    "Проверка на мультиколлинеарность помогает идентифицировать такие проблемы и позволяет принять меры для их устранения. Например, можно удалить одну из скоррелированных переменных или объединить их в новую переменную, которая будет более общей. Также можно использовать методы регуляризации, такие как L1 и L2 регуляризация, чтобы снизить мультиколлинеарность в модели.\n",
    "\n",
    "В целом, проверка на мультиколлинеарность является важным шагом для обеспечения точности и интерпретируемости результатов моделирования и анализа данных."
   ]
  },
  {
   "cell_type": "markdown",
   "metadata": {},
   "source": [
    "### Приведение значений к единому масштабу (scaling) \n",
    "\n",
    "Min-max нормализация: приводит значения столбца к диапазону от 0 до 1. Формула для применения данного метода:\n",
    "\n",
    "$x_{norm} = \\frac{x - x_{min}}{x_{max} - x_{min}}$\n",
    "\n",
    "где $x$ - значение в столбце, $x_{min}$ и $x_{max}$ - минимальное и максимальное значение в столбце соответственно.\n"
   ]
  },
  {
   "cell_type": "code",
   "execution_count": 53,
   "metadata": {},
   "outputs": [],
   "source": [
    "# creating a MinMaxScaler object\n",
    "scaler = MinMaxScaler()"
   ]
  },
  {
   "cell_type": "code",
   "execution_count": 54,
   "metadata": {},
   "outputs": [],
   "source": [
    "# applying normalization to columns 'age' and 'salary'\n",
    "df[['age', 'salary']] = scaler.fit_transform(df[['age', 'salary']])"
   ]
  },
  {
   "cell_type": "code",
   "execution_count": 55,
   "metadata": {
    "scrolled": true
   },
   "outputs": [
    {
     "data": {
      "text/html": [
       "<div>\n",
       "<style scoped>\n",
       "    .dataframe tbody tr th:only-of-type {\n",
       "        vertical-align: middle;\n",
       "    }\n",
       "\n",
       "    .dataframe tbody tr th {\n",
       "        vertical-align: top;\n",
       "    }\n",
       "\n",
       "    .dataframe thead th {\n",
       "        text-align: right;\n",
       "    }\n",
       "</style>\n",
       "<table border=\"1\" class=\"dataframe\">\n",
       "  <thead>\n",
       "    <tr style=\"text-align: right;\">\n",
       "      <th></th>\n",
       "      <th>gender</th>\n",
       "      <th>age</th>\n",
       "      <th>salary</th>\n",
       "      <th>family_members</th>\n",
       "      <th>insurance_claims</th>\n",
       "    </tr>\n",
       "  </thead>\n",
       "  <tbody>\n",
       "    <tr>\n",
       "      <th>0</th>\n",
       "      <td>1</td>\n",
       "      <td>0.489362</td>\n",
       "      <td>0.601085</td>\n",
       "      <td>1</td>\n",
       "      <td>0</td>\n",
       "    </tr>\n",
       "    <tr>\n",
       "      <th>1</th>\n",
       "      <td>0</td>\n",
       "      <td>0.595745</td>\n",
       "      <td>0.443691</td>\n",
       "      <td>1</td>\n",
       "      <td>1</td>\n",
       "    </tr>\n",
       "    <tr>\n",
       "      <th>2</th>\n",
       "      <td>0</td>\n",
       "      <td>0.234043</td>\n",
       "      <td>0.213026</td>\n",
       "      <td>0</td>\n",
       "      <td>0</td>\n",
       "    </tr>\n",
       "    <tr>\n",
       "      <th>3</th>\n",
       "      <td>0</td>\n",
       "      <td>0.063830</td>\n",
       "      <td>0.493894</td>\n",
       "      <td>2</td>\n",
       "      <td>0</td>\n",
       "    </tr>\n",
       "    <tr>\n",
       "      <th>4</th>\n",
       "      <td>1</td>\n",
       "      <td>0.212766</td>\n",
       "      <td>0.282225</td>\n",
       "      <td>0</td>\n",
       "      <td>0</td>\n",
       "    </tr>\n",
       "  </tbody>\n",
       "</table>\n",
       "</div>"
      ],
      "text/plain": [
       "   gender       age    salary  family_members  insurance_claims\n",
       "0       1  0.489362  0.601085               1                 0\n",
       "1       0  0.595745  0.443691               1                 1\n",
       "2       0  0.234043  0.213026               0                 0\n",
       "3       0  0.063830  0.493894               2                 0\n",
       "4       1  0.212766  0.282225               0                 0"
      ]
     },
     "execution_count": 55,
     "metadata": {},
     "output_type": "execute_result"
    }
   ],
   "source": [
    "df.head()"
   ]
  },
  {
   "cell_type": "markdown",
   "metadata": {},
   "source": [
    "### Выводы:\n",
    "\n",
    "Проведены следующие этапы: загрузка данных, приведение наименований столбцов к общепринятому формату, исследование данных,  проверка мультиколлинеарности и приведение значений к единому масштабу (scaling)."
   ]
  },
  {
   "cell_type": "markdown",
   "metadata": {},
   "source": [
    "## Умножение матриц"
   ]
  },
  {
   "cell_type": "markdown",
   "metadata": {},
   "source": [
    "### Признаки умножают на обратимую матрицу. Изменится ли качество линейной регрессии?"
   ]
  },
  {
   "cell_type": "markdown",
   "metadata": {},
   "source": [
    "**Ответ:** Если признаки умножают на обратимую матрицу, то качество линейной регрессии не изменится.\n",
    "\n",
    "**Обоснование:** "
   ]
  },
  {
   "cell_type": "markdown",
   "metadata": {},
   "source": [
    "+  У нас есть ряд свойств:\n",
    "    $$\n",
    "(AB)^T=B^T A^T \\tag 1\n",
    "$$\n",
    "$$\n",
    "(AB)^{-1} = B^{-1} A^{-1} \\tag 2\n",
    "$$\n",
    "$$\n",
    "A A^{-1} = A^{-1} A = E \\tag 3\n",
    "$$\n",
    "$$\n",
    "AE = EA = A \\tag 4\n",
    "$$\n",
    "\n",
    "Обозначения:\n",
    "\n",
    "- $X$ — матрица признаков (нулевой столбец состоит из единиц)\n",
    "\n",
    "- $y$ — вектор целевого признака\n",
    "\n",
    "- $A$ — матрица, на которую умножаются признаки\n",
    "\n",
    "- $w$ — вектор весов линейной регрессии (нулевой элемент равен сдвигу)\n",
    "\n",
    "Для начала, запишем формулу для вектора весов $w$ линейной регрессии, полученной по методу наименьших квадратов:\n",
    "$$\n",
    "w = (X^T X)^{-1} X^T y\n",
    "$$\n",
    "\n",
    "Задача обучения:\n",
    "\n",
    "$$\n",
    "w = \\arg\\min_w MSE(Xw, y)\n",
    "$$\n",
    "Предсказания:\n",
    "\n",
    "$$\n",
    "a = Xw = X(X^T X)^{-1} X^T y\n",
    "$$\n"
   ]
  },
  {
   "cell_type": "markdown",
   "metadata": {},
   "source": [
    "Пусть $A$ - обратимая матрица. Рассмотрим новую матрицу объекты-признаки $X' = XA$. Заметим, что новый вектор весов $w'$ для матрицы $X'$ может быть вычислен так же, как и вектор весов $w$ для матрицы $X$:\n",
    "\n",
    "$$\n",
    "a' = X'w' = X'((X')^T X')^{-1} (X')^T y\n",
    "$$\n",
    "\n",
    "Подставим в это выражение матрицу $X' = XA$:\n",
    "\n",
    "\\begin{align*}\n",
    "a' = XA((XA)^T XA)^{-1} (XA)^T y \\\n",
    "= XA(A^T X^T X A)^{-1} A^T X^T y \\\n",
    "= XA(A)^{-1}(X^T X)^{-1}(A^T)^{-1} A^T X^T y \\\n",
    "= XE (X^T X)^{-1}E X^T y \\\n",
    "= X(X^T X)^{-1} X^T y \\\n",
    "= Xw \\\n",
    "= a\n",
    "\\end{align*}"
   ]
  },
  {
   "cell_type": "markdown",
   "metadata": {},
   "source": [
    "Данный набор преобразований описывает процесс получения вектора предсказаний $a$ в линейной регрессии методом наименьших квадратов с помощью матричных операций.\n",
    "\n",
    "Разберем по шагам:\n",
    "\n",
    "Предположим, что у нас есть матрица признаков $X$ размера $n\\times m$, где $n$ - число наблюдений, а $m$ - число признаков, вектор-столбец ответов $y$ размера $n\\times 1$ и вектор-столбец предсказаний $a'$, которые мы хотим определить.\n",
    "\n",
    "1. Воспользуемся свойством: $$(AB)^T=B^T A^T$$ Получилось: $$XA(A^T X^T X A)^{-1} A^T X^T y$$ - где заменяем $(XA)^T XA)^{-1}$ на $(A^T X^T XA)^{-1}$.\n",
    "\n",
    "2. Воспользуемся свойством: $$(ABC)^{-1} = C^{-1} B^{-1} A^{-1},$$ где $$A = A^T, B = X^T X, C = A$$ Получилось:    $$XA(A)^{-1}(X^T X)^{-1}(A^T)^{-1} A^T X^T y$$\n",
    "\n",
    "3. Воспользуемся свойством: $$A A^{-1} = A^{-1} A = E$$\n",
    "Получилось: $$XE (X^T X)^{-1}E X^T y$$.\n",
    "\n",
    "5. Воспользуемся свойством: $$AE = EA = A$$ Получилось:$$X(X^T X)^{-1} X^T y$$ \n",
    "\n",
    "6. Итого получилось: $$Xw,$$ где заменяем  $(X^T X)^{-1} X^T y$ на $w$."
   ]
  },
  {
   "cell_type": "markdown",
   "metadata": {},
   "source": [
    "Таким образом, мы показали, что если матрица признаков 𝑋 умножается на обратимую матрицу 𝐴, то предсказания линейной регрессии не изменятся, т.е. качество линейной регрессии не изменится. "
   ]
  },
  {
   "cell_type": "markdown",
   "metadata": {},
   "source": [
    "## Выбор алгоритма преобразования"
   ]
  },
  {
   "cell_type": "markdown",
   "metadata": {},
   "source": [
    "**Алгоритм**\n",
    "\n",
    "Выберем Шифр Хилла (Hill cipher) - это шифр замены, в котором каждая буква открытого текста заменяется на соответствующую ей букву шифрованного текста с помощью матричной операции. Алгоритм шифрования состоит из следующих шагов:\n",
    "\n",
    "Сначала текст разбивается на блоки по n символов, где n - размерность квадратной матрицы, используемой для шифрования.\n",
    "\n",
    "Для каждого блока создается вектор-столбец, состоящий из чисел, соответствующих позициям букв в алфавите.\n",
    "\n",
    "Затем создается квадратная матрица ключа, размерностью n x n, элементы которой выбираются случайным образом из конечного поля чисел по модулю размера алфавита.\n",
    "\n",
    "Для каждого блока производится умножение матрицы ключа на вектор-столбец блока по модулю размера алфавита.\n",
    "\n",
    "Полученный вектор-столбец переводится обратно в последовательность символов шифрованного текста.\n",
    "\n",
    "Расшифрование осуществляется путем умножения матрицы-ключа на вектор-столбец зашифрованного текста и перевода полученного вектора-столбца в исходный текст.\n",
    "\n",
    "Шифр Хилла был изобретен в 1929 году Лестером Хиллом и считается одним из самых простых и эффективных методов шифрования. Однако, существуют атаки на данный шифр, которые позволяют взломать его при некоторых условиях."
   ]
  },
  {
   "cell_type": "markdown",
   "metadata": {},
   "source": [
    "**Обоснование**\n",
    "\n",
    "Во втором разделе мы привели доказательство, что если матрица признаков 𝑋 умножается на обратимую матрицу 𝐴, то предсказания линейной регрессии не изменятся.\n",
    "\n",
    "Линейная регрессия использует параметры модели (веса), которые получаются путем минимизации ошибки предсказания на обучающих данных. При умножении признаков на обратимую матрицу, веса модели также будут преобразованы так, чтобы минимизировать ошибку на новых данных, составленных из преобразованных признаков."
   ]
  },
  {
   "cell_type": "markdown",
   "metadata": {},
   "source": [
    "## Проверка алгоритма"
   ]
  },
  {
   "cell_type": "markdown",
   "metadata": {},
   "source": [
    "### Обучение  и тестирование без шифрования"
   ]
  },
  {
   "cell_type": "code",
   "execution_count": 56,
   "metadata": {
    "scrolled": true
   },
   "outputs": [],
   "source": [
    "# Remove the column \"insurance_claims\" from the dataframe and store all the remaining columns\n",
    "features = df.drop(['insurance_claims'], axis=1)\n",
    "\n",
    "# Select only the \"insurance_claims\" column from the dataframe and store it in the \"target\" variable\n",
    "target = df['insurance_claims']"
   ]
  },
  {
   "cell_type": "code",
   "execution_count": 57,
   "metadata": {},
   "outputs": [],
   "source": [
    "# Split the data into training and testing sets\n",
    "X_train, X_test, y_train, y_test = train_test_split(\n",
    "    features, target, test_size=.25, random_state=RANDOM_STATE)"
   ]
  },
  {
   "cell_type": "code",
   "execution_count": 58,
   "metadata": {},
   "outputs": [
    {
     "name": "stdout",
     "output_type": "stream",
     "text": [
      "Training data shape (features, target):  (3750, 4) (3750,)\n",
      "Testing data shape (features, target):  (1250, 4) (1250,)\n"
     ]
    }
   ],
   "source": [
    "# Print the shapes of the training and testing data\n",
    "print(\"Training data shape (features, target): \", X_train.shape, y_train.shape)\n",
    "print(\"Testing data shape (features, target): \", X_test.shape, y_test.shape)"
   ]
  },
  {
   "cell_type": "code",
   "execution_count": 59,
   "metadata": {},
   "outputs": [
    {
     "name": "stdout",
     "output_type": "stream",
     "text": [
      "R^2 score on the test data: 0.4399\n"
     ]
    }
   ],
   "source": [
    "# Create a linear regression model\n",
    "model = LinearRegression()\n",
    "\n",
    "# Train the model on the training data\n",
    "model.fit(X_train, y_train)\n",
    "\n",
    "# Evaluate the model on the testing data and print the R^2 score\n",
    "print(f'R^2 score on the test data: {model.score(X_test, y_test):0.4f}')"
   ]
  },
  {
   "cell_type": "markdown",
   "metadata": {},
   "source": [
    "### Процедура шифрования с использованием матричного умножения \n",
    "\n",
    "Процедура может быть реализована следующим образом:\n",
    "\n",
    "Генерация ключа: сгенерируем случайную невырожденную квадратную матрицу $K$ размера $n \\times n$, где $n$ - это количество признаков в векторе фичей.\n",
    "\n",
    "Шифрование: для матрицы фичей $X$ размера $m \\times n$ вычисляем зашифрованную матрицу $Y$ размера $m \\times n$ по формуле:\n",
    "\n",
    "$$Y = XK$$\n",
    "\n",
    "где $K$ - это ключевая матрица, а $X$ - это матрица фичей.\n",
    "\n",
    "Дешифрование: для расшифровки зашифрованной матрицы $Y$ размера $m \\times n$ используется обратная матрица $K^{-1}$, которая может быть вычислена, если матрица $K$ невырождена:\n",
    "$$X = YK^{-1}$$\n",
    "\n",
    "где $K^{-1}$ - это обратная матрица к матрице $K$."
   ]
  },
  {
   "cell_type": "markdown",
   "metadata": {},
   "source": [
    "Генерация случайной матрицы может привести к неопределенности. Чтобы убедиться, что матрица является невырожденной, используем проверку её определителя np.linalg.det(K) на равенство нулю. Если определитель равен нулю, то матрица вырожденная, и нужно сгенерировать новую матрицу до тех пор, пока не будет получена невырожденная матрица."
   ]
  },
  {
   "cell_type": "markdown",
   "metadata": {},
   "source": [
    "### Обучение и тестирование на зашифрованных данных"
   ]
  },
  {
   "cell_type": "code",
   "execution_count": 60,
   "metadata": {},
   "outputs": [],
   "source": [
    "# Генерация ключа размера n x n\n",
    "n = X_train.shape[1]\n",
    "K = np.random.randint(1, 100, size=(n, n))\n",
    "while np.linalg.det(K) == 0:\n",
    "    K = np.random.randint(1, 100, size=(n, n))"
   ]
  },
  {
   "cell_type": "code",
   "execution_count": 61,
   "metadata": {},
   "outputs": [],
   "source": [
    "# Шифрование\n",
    "X_train_encryption = np.dot(X_train.values, K)"
   ]
  },
  {
   "cell_type": "code",
   "execution_count": 62,
   "metadata": {},
   "outputs": [
    {
     "name": "stdout",
     "output_type": "stream",
     "text": [
      "Ключевая матрица K:\n",
      "[[10 54 92 18]\n",
      " [21 85  1 69]\n",
      " [37 61 92 76]\n",
      " [33 92  4 79]]\n",
      "Матрица фичей X_train:\n",
      "[[0.         0.59574468 0.76662144 1.        ]\n",
      " [0.         0.0212766  0.4816825  0.        ]\n",
      " [1.         0.25531915 0.75440977 2.        ]\n",
      " ...\n",
      " [0.         0.5106383  0.47082768 1.        ]\n",
      " [1.         0.12765957 0.56580733 3.        ]\n",
      " [0.         0.25531915 0.52374491 0.        ]]\n",
      "Зашифрованная матрица X_train_encryption:\n",
      "[[ 73.87563151 189.40220561  75.124917   178.36961229]\n",
      " [ 18.26906089  31.19114293  44.33606628  38.07595485]\n",
      " [109.27486359 305.72112359 169.66101793 250.95216375]\n",
      " ...\n",
      " [ 61.14402841 164.12474379  47.82678484 150.01694622]\n",
      " [132.61572216 375.36531078 156.18193366 306.80986749]\n",
      " [ 24.74026386  53.65056728  48.43985103  57.42163457]]\n"
     ]
    }
   ],
   "source": [
    "print(\"Ключевая матрица K:\")\n",
    "print(K)\n",
    "print(\"Матрица фичей X_train:\")\n",
    "print(X_train.values)\n",
    "print(\"Зашифрованная матрица X_train_encryption:\")\n",
    "print(X_train_encryption)"
   ]
  },
  {
   "cell_type": "code",
   "execution_count": 63,
   "metadata": {
    "scrolled": true
   },
   "outputs": [
    {
     "name": "stdout",
     "output_type": "stream",
     "text": [
      "Расшифрованная матрица X_train_decrypted:\n",
      "[[-0.      0.5957  0.7666  1.    ]\n",
      " [ 0.      0.0213  0.4817  0.    ]\n",
      " [ 1.      0.2553  0.7544  2.    ]\n",
      " ...\n",
      " [-0.      0.5106  0.4708  1.    ]\n",
      " [ 1.      0.1277  0.5658  3.    ]\n",
      " [-0.      0.2553  0.5237 -0.    ]]\n"
     ]
    }
   ],
   "source": [
    "# Дешифрование\n",
    "X_train_decrypted = np.dot(X_train_encryption, np.linalg.inv(K))\n",
    "\n",
    "# Округляем все значения матрицы до двух знаков после запятой\n",
    "rounded_matrix = np.round(X_train_decrypted, decimals=4)\n",
    "\n",
    "print(\"Расшифрованная матрица X_train_decrypted:\")\n",
    "print(rounded_matrix)"
   ]
  },
  {
   "cell_type": "code",
   "execution_count": 64,
   "metadata": {
    "scrolled": true
   },
   "outputs": [
    {
     "name": "stdout",
     "output_type": "stream",
     "text": [
      "R^2 score на преобразованных данных: 0.4399\n"
     ]
    }
   ],
   "source": [
    "# обучаем модель на преобразованных данных\n",
    "model_transformed = LinearRegression()\n",
    "model_transformed.fit(X_train_encryption, y_train)\n",
    "print(f'R^2 score на преобразованных данных: {model_transformed.score(X_test @ K, y_test):0.4f}')"
   ]
  },
  {
   "cell_type": "markdown",
   "metadata": {},
   "source": [
    "Как видно из результатов, R^2 score не изменился при преобразовании признаков."
   ]
  },
  {
   "cell_type": "markdown",
   "metadata": {},
   "source": [
    "## Выводы"
   ]
  },
  {
   "cell_type": "markdown",
   "metadata": {},
   "source": [
    "Предложенный метод защиты данных клиентов страховой компании \"Хоть потоп\" заключается в умножении признаков на обратимую матрицу. Корректность работы метода обусловлена тем, что умножение на обратимую матрицу не приводит к потере информации, а также не изменяет структуру данных. Кроме того, была проведена проверка качества линейной регрессии до и после применения данного метода, которая показала, что качество не ухудшилось. Таким образом, предложенный метод позволяет защитить персональные данные клиентов, сохраняя при этом качество моделей машинного обучения."
   ]
  }
 ],
 "metadata": {
  "ExecuteTimeLog": [
   {
    "duration": 1428,
    "start_time": "2023-02-26T16:32:06.069Z"
   },
   {
    "duration": 5,
    "start_time": "2023-02-26T16:33:03.836Z"
   },
   {
    "duration": 6,
    "start_time": "2023-02-26T16:34:21.452Z"
   },
   {
    "duration": 126,
    "start_time": "2023-02-26T16:34:51.447Z"
   },
   {
    "duration": 144,
    "start_time": "2023-02-26T16:34:57.446Z"
   },
   {
    "duration": 27,
    "start_time": "2023-02-26T16:35:02.176Z"
   },
   {
    "duration": 14,
    "start_time": "2023-02-26T16:38:46.859Z"
   },
   {
    "duration": 25,
    "start_time": "2023-02-26T16:39:47.987Z"
   },
   {
    "duration": 452,
    "start_time": "2023-02-26T16:41:41.393Z"
   },
   {
    "duration": 438,
    "start_time": "2023-02-26T16:41:48.527Z"
   },
   {
    "duration": 989,
    "start_time": "2023-02-26T16:42:03.654Z"
   },
   {
    "duration": 1374,
    "start_time": "2023-02-26T16:42:39.944Z"
   },
   {
    "duration": 1359,
    "start_time": "2023-02-26T16:42:48.507Z"
   },
   {
    "duration": 1348,
    "start_time": "2023-02-26T16:43:07.654Z"
   },
   {
    "duration": 7,
    "start_time": "2023-02-26T21:13:29.106Z"
   },
   {
    "duration": 9,
    "start_time": "2023-02-26T21:22:27.240Z"
   },
   {
    "duration": 7,
    "start_time": "2023-02-26T21:23:28.268Z"
   },
   {
    "duration": 14,
    "start_time": "2023-02-26T21:25:10.209Z"
   },
   {
    "duration": 14,
    "start_time": "2023-02-26T21:30:07.188Z"
   },
   {
    "duration": 11,
    "start_time": "2023-02-26T21:31:01.606Z"
   },
   {
    "duration": 11,
    "start_time": "2023-02-26T21:31:58.658Z"
   },
   {
    "duration": 11,
    "start_time": "2023-02-26T21:32:40.456Z"
   },
   {
    "duration": 11,
    "start_time": "2023-02-26T21:33:15.668Z"
   },
   {
    "duration": 17,
    "start_time": "2023-02-26T21:35:37.728Z"
   },
   {
    "duration": 19,
    "start_time": "2023-02-26T21:35:52.689Z"
   },
   {
    "duration": 15,
    "start_time": "2023-02-26T21:36:17.419Z"
   },
   {
    "duration": 16,
    "start_time": "2023-02-26T21:36:50.629Z"
   },
   {
    "duration": 15,
    "start_time": "2023-02-26T21:38:17.548Z"
   },
   {
    "duration": 11,
    "start_time": "2023-02-26T21:39:17.568Z"
   },
   {
    "duration": 42,
    "start_time": "2023-02-27T06:40:55.116Z"
   },
   {
    "duration": 1303,
    "start_time": "2023-02-27T06:41:00.912Z"
   },
   {
    "duration": 2,
    "start_time": "2023-02-27T06:41:02.217Z"
   },
   {
    "duration": 124,
    "start_time": "2023-02-27T06:41:02.221Z"
   },
   {
    "duration": 15,
    "start_time": "2023-02-27T06:41:02.347Z"
   },
   {
    "duration": 10,
    "start_time": "2023-02-27T06:41:02.363Z"
   },
   {
    "duration": 22,
    "start_time": "2023-02-27T06:41:02.374Z"
   },
   {
    "duration": 1140,
    "start_time": "2023-02-27T06:41:02.397Z"
   },
   {
    "duration": 4,
    "start_time": "2023-02-27T06:41:03.539Z"
   },
   {
    "duration": 12,
    "start_time": "2023-02-27T06:41:03.544Z"
   },
   {
    "duration": 9,
    "start_time": "2023-02-27T06:41:03.557Z"
   },
   {
    "duration": 408,
    "start_time": "2023-02-27T06:45:29.136Z"
   },
   {
    "duration": 311,
    "start_time": "2023-02-27T06:45:36.271Z"
   },
   {
    "duration": 6,
    "start_time": "2023-02-27T07:09:51.709Z"
   },
   {
    "duration": 281,
    "start_time": "2023-02-27T08:24:16.153Z"
   },
   {
    "duration": 2,
    "start_time": "2023-02-27T08:24:41.218Z"
   },
   {
    "duration": 11,
    "start_time": "2023-02-27T08:26:13.522Z"
   },
   {
    "duration": 12,
    "start_time": "2023-02-27T08:26:18.121Z"
   },
   {
    "duration": 8,
    "start_time": "2023-02-27T08:26:35.378Z"
   },
   {
    "duration": 3,
    "start_time": "2023-02-27T08:30:18.750Z"
   },
   {
    "duration": 4,
    "start_time": "2023-02-27T08:30:53.577Z"
   },
   {
    "duration": 7,
    "start_time": "2023-02-27T08:30:53.583Z"
   },
   {
    "duration": 82,
    "start_time": "2023-02-27T08:30:53.591Z"
   },
   {
    "duration": 12,
    "start_time": "2023-02-27T08:30:53.674Z"
   },
   {
    "duration": 6,
    "start_time": "2023-02-27T08:30:53.688Z"
   },
   {
    "duration": 11,
    "start_time": "2023-02-27T08:30:53.696Z"
   },
   {
    "duration": 21,
    "start_time": "2023-02-27T08:30:53.708Z"
   },
   {
    "duration": 1109,
    "start_time": "2023-02-27T08:30:53.730Z"
   },
   {
    "duration": 5,
    "start_time": "2023-02-27T08:30:54.841Z"
   },
   {
    "duration": 12,
    "start_time": "2023-02-27T08:30:54.848Z"
   },
   {
    "duration": 7,
    "start_time": "2023-02-27T08:30:54.862Z"
   },
   {
    "duration": 11,
    "start_time": "2023-02-27T08:30:54.870Z"
   },
   {
    "duration": 418,
    "start_time": "2023-02-27T08:30:54.883Z"
   },
   {
    "duration": 2,
    "start_time": "2023-02-27T08:30:55.304Z"
   },
   {
    "duration": 91,
    "start_time": "2023-02-27T08:30:55.308Z"
   },
   {
    "duration": 0,
    "start_time": "2023-02-27T08:30:55.401Z"
   },
   {
    "duration": 0,
    "start_time": "2023-02-27T08:30:55.403Z"
   },
   {
    "duration": 11,
    "start_time": "2023-02-27T08:40:25.974Z"
   },
   {
    "duration": 8,
    "start_time": "2023-02-27T08:40:29.362Z"
   },
   {
    "duration": 4,
    "start_time": "2023-02-27T08:41:16.104Z"
   },
   {
    "duration": 3,
    "start_time": "2023-02-27T08:45:08.821Z"
   },
   {
    "duration": 10,
    "start_time": "2023-02-27T08:45:13.050Z"
   },
   {
    "duration": 5,
    "start_time": "2023-02-27T08:45:37.396Z"
   },
   {
    "duration": 6,
    "start_time": "2023-02-27T08:45:37.403Z"
   },
   {
    "duration": 192,
    "start_time": "2023-02-27T08:45:37.411Z"
   },
   {
    "duration": 13,
    "start_time": "2023-02-27T08:45:37.606Z"
   },
   {
    "duration": 6,
    "start_time": "2023-02-27T08:45:37.621Z"
   },
   {
    "duration": 6,
    "start_time": "2023-02-27T08:45:37.629Z"
   },
   {
    "duration": 17,
    "start_time": "2023-02-27T08:45:37.637Z"
   },
   {
    "duration": 28,
    "start_time": "2023-02-27T08:45:37.657Z"
   },
   {
    "duration": 1194,
    "start_time": "2023-02-27T08:45:37.687Z"
   },
   {
    "duration": 6,
    "start_time": "2023-02-27T08:45:38.883Z"
   },
   {
    "duration": 20,
    "start_time": "2023-02-27T08:45:38.890Z"
   },
   {
    "duration": 8,
    "start_time": "2023-02-27T08:45:38.912Z"
   },
   {
    "duration": 24,
    "start_time": "2023-02-27T08:45:38.922Z"
   },
   {
    "duration": 365,
    "start_time": "2023-02-27T08:45:38.948Z"
   },
   {
    "duration": 4,
    "start_time": "2023-02-27T08:45:39.315Z"
   },
   {
    "duration": 11,
    "start_time": "2023-02-27T08:46:26.238Z"
   },
   {
    "duration": 9,
    "start_time": "2023-02-27T08:46:27.309Z"
   },
   {
    "duration": 36,
    "start_time": "2023-02-27T09:24:10.165Z"
   },
   {
    "duration": 52,
    "start_time": "2023-02-27T18:27:54.368Z"
   },
   {
    "duration": 1746,
    "start_time": "2023-02-28T10:42:48.963Z"
   },
   {
    "duration": 8,
    "start_time": "2023-02-28T10:46:15.867Z"
   },
   {
    "duration": 7,
    "start_time": "2023-02-28T10:46:15.878Z"
   },
   {
    "duration": 156,
    "start_time": "2023-02-28T10:46:15.887Z"
   },
   {
    "duration": 16,
    "start_time": "2023-02-28T10:46:16.045Z"
   },
   {
    "duration": 4,
    "start_time": "2023-02-28T10:46:16.063Z"
   },
   {
    "duration": 14,
    "start_time": "2023-02-28T10:46:16.068Z"
   },
   {
    "duration": 16,
    "start_time": "2023-02-28T10:46:16.084Z"
   },
   {
    "duration": 49,
    "start_time": "2023-02-28T10:46:16.101Z"
   },
   {
    "duration": 1338,
    "start_time": "2023-02-28T10:46:16.152Z"
   },
   {
    "duration": 7,
    "start_time": "2023-02-28T10:46:17.492Z"
   },
   {
    "duration": 13,
    "start_time": "2023-02-28T10:46:17.501Z"
   },
   {
    "duration": 34,
    "start_time": "2023-02-28T10:46:17.516Z"
   },
   {
    "duration": 12,
    "start_time": "2023-02-28T10:46:17.552Z"
   },
   {
    "duration": 503,
    "start_time": "2023-02-28T10:46:17.567Z"
   },
   {
    "duration": 3,
    "start_time": "2023-02-28T10:46:18.073Z"
   },
   {
    "duration": 12,
    "start_time": "2023-02-28T10:46:18.080Z"
   },
   {
    "duration": 16,
    "start_time": "2023-02-28T10:46:18.094Z"
   },
   {
    "duration": 131,
    "start_time": "2023-02-28T10:46:18.112Z"
   },
   {
    "duration": 15,
    "start_time": "2023-02-28T10:46:48.327Z"
   },
   {
    "duration": 1636,
    "start_time": "2023-02-28T12:56:46.183Z"
   },
   {
    "duration": 4,
    "start_time": "2023-02-28T12:56:47.822Z"
   },
   {
    "duration": 181,
    "start_time": "2023-02-28T12:56:47.827Z"
   },
   {
    "duration": 23,
    "start_time": "2023-02-28T12:56:48.011Z"
   },
   {
    "duration": 17,
    "start_time": "2023-02-28T12:56:48.042Z"
   },
   {
    "duration": 6,
    "start_time": "2023-02-28T12:56:48.061Z"
   },
   {
    "duration": 26,
    "start_time": "2023-02-28T12:56:48.069Z"
   },
   {
    "duration": 37,
    "start_time": "2023-02-28T12:56:48.097Z"
   },
   {
    "duration": 1438,
    "start_time": "2023-02-28T12:56:48.139Z"
   },
   {
    "duration": 7,
    "start_time": "2023-02-28T12:56:49.579Z"
   },
   {
    "duration": 14,
    "start_time": "2023-02-28T12:56:49.588Z"
   },
   {
    "duration": 45,
    "start_time": "2023-02-28T12:56:49.605Z"
   },
   {
    "duration": 26,
    "start_time": "2023-02-28T12:56:49.652Z"
   },
   {
    "duration": 437,
    "start_time": "2023-02-28T12:56:49.681Z"
   },
   {
    "duration": 3,
    "start_time": "2023-02-28T12:56:50.120Z"
   },
   {
    "duration": 37,
    "start_time": "2023-02-28T12:56:50.125Z"
   },
   {
    "duration": 11,
    "start_time": "2023-02-28T12:56:50.164Z"
   },
   {
    "duration": 6,
    "start_time": "2023-02-28T12:58:00.816Z"
   },
   {
    "duration": 6,
    "start_time": "2023-02-28T12:58:19.773Z"
   },
   {
    "duration": 10,
    "start_time": "2023-02-28T12:59:21.434Z"
   },
   {
    "duration": 8,
    "start_time": "2023-02-28T13:05:42.333Z"
   },
   {
    "duration": 10,
    "start_time": "2023-02-28T13:08:25.121Z"
   },
   {
    "duration": 87,
    "start_time": "2023-02-28T13:09:08.278Z"
   },
   {
    "duration": 10,
    "start_time": "2023-02-28T13:09:14.910Z"
   },
   {
    "duration": 9,
    "start_time": "2023-02-28T13:09:56.233Z"
   },
   {
    "duration": 6,
    "start_time": "2023-02-28T13:10:32.553Z"
   },
   {
    "duration": 7,
    "start_time": "2023-02-28T13:10:43.152Z"
   },
   {
    "duration": 4,
    "start_time": "2023-02-28T13:10:44.272Z"
   },
   {
    "duration": 12,
    "start_time": "2023-02-28T13:10:46.321Z"
   },
   {
    "duration": 155,
    "start_time": "2023-02-28T13:10:57.990Z"
   },
   {
    "duration": 14,
    "start_time": "2023-02-28T13:11:08.202Z"
   },
   {
    "duration": 9,
    "start_time": "2023-02-28T13:11:11.069Z"
   },
   {
    "duration": 5,
    "start_time": "2023-02-28T13:20:31.270Z"
   },
   {
    "duration": 12,
    "start_time": "2023-02-28T14:39:06.923Z"
   },
   {
    "duration": 4,
    "start_time": "2023-02-28T14:39:11.317Z"
   },
   {
    "duration": 3,
    "start_time": "2023-02-28T14:39:12.416Z"
   },
   {
    "duration": 5,
    "start_time": "2023-02-28T14:39:25.360Z"
   },
   {
    "duration": 9,
    "start_time": "2023-02-28T15:02:23.576Z"
   },
   {
    "duration": 14,
    "start_time": "2023-02-28T15:04:10.768Z"
   },
   {
    "duration": 5,
    "start_time": "2023-02-28T15:04:43.019Z"
   },
   {
    "duration": 3,
    "start_time": "2023-02-28T15:07:39.157Z"
   },
   {
    "duration": 3,
    "start_time": "2023-02-28T15:07:40.857Z"
   },
   {
    "duration": 16,
    "start_time": "2023-02-28T15:07:44.092Z"
   },
   {
    "duration": 6,
    "start_time": "2023-02-28T15:08:01.267Z"
   },
   {
    "duration": 3,
    "start_time": "2023-02-28T15:32:09.214Z"
   },
   {
    "duration": 9,
    "start_time": "2023-02-28T15:32:12.254Z"
   },
   {
    "duration": 5,
    "start_time": "2023-02-28T15:32:18.599Z"
   },
   {
    "duration": 6,
    "start_time": "2023-02-28T15:33:18.356Z"
   },
   {
    "duration": 8,
    "start_time": "2023-02-28T15:33:55.499Z"
   },
   {
    "duration": 8,
    "start_time": "2023-02-28T15:34:06.148Z"
   },
   {
    "duration": 4,
    "start_time": "2023-02-28T15:59:33.109Z"
   },
   {
    "duration": 4,
    "start_time": "2023-02-28T15:59:35.182Z"
   },
   {
    "duration": 7,
    "start_time": "2023-02-28T15:59:36.109Z"
   },
   {
    "duration": 5,
    "start_time": "2023-02-28T15:59:57.920Z"
   },
   {
    "duration": 18,
    "start_time": "2023-02-28T16:04:07.444Z"
   },
   {
    "duration": 21,
    "start_time": "2023-02-28T16:04:41.030Z"
   },
   {
    "duration": 13,
    "start_time": "2023-02-28T16:04:50.362Z"
   },
   {
    "duration": 123,
    "start_time": "2023-02-28T16:05:32.352Z"
   },
   {
    "duration": 12,
    "start_time": "2023-02-28T16:05:43.366Z"
   },
   {
    "duration": 49,
    "start_time": "2023-03-01T07:48:54.882Z"
   },
   {
    "duration": 1756,
    "start_time": "2023-03-01T07:48:59.935Z"
   },
   {
    "duration": 3,
    "start_time": "2023-03-01T07:49:01.694Z"
   },
   {
    "duration": 141,
    "start_time": "2023-03-01T07:49:01.699Z"
   },
   {
    "duration": 20,
    "start_time": "2023-03-01T07:49:01.848Z"
   },
   {
    "duration": 18,
    "start_time": "2023-03-01T07:49:01.870Z"
   },
   {
    "duration": 39,
    "start_time": "2023-03-01T07:49:01.890Z"
   },
   {
    "duration": 64,
    "start_time": "2023-03-01T07:49:01.931Z"
   },
   {
    "duration": 63,
    "start_time": "2023-03-01T07:49:01.998Z"
   },
   {
    "duration": 1364,
    "start_time": "2023-03-01T07:49:02.064Z"
   },
   {
    "duration": 7,
    "start_time": "2023-03-01T07:49:03.438Z"
   },
   {
    "duration": 29,
    "start_time": "2023-03-01T07:49:03.447Z"
   },
   {
    "duration": 6,
    "start_time": "2023-03-01T07:49:03.478Z"
   },
   {
    "duration": 11,
    "start_time": "2023-03-01T07:49:03.486Z"
   },
   {
    "duration": 431,
    "start_time": "2023-03-01T07:49:03.499Z"
   },
   {
    "duration": 8,
    "start_time": "2023-03-01T07:49:03.931Z"
   },
   {
    "duration": 56,
    "start_time": "2023-03-01T07:49:03.945Z"
   },
   {
    "duration": 15,
    "start_time": "2023-03-01T07:49:04.003Z"
   },
   {
    "duration": 7,
    "start_time": "2023-03-01T07:49:04.020Z"
   },
   {
    "duration": 38,
    "start_time": "2023-03-01T07:49:04.028Z"
   },
   {
    "duration": 8,
    "start_time": "2023-03-01T07:49:04.068Z"
   },
   {
    "duration": 5,
    "start_time": "2023-03-01T07:49:04.078Z"
   },
   {
    "duration": 14,
    "start_time": "2023-03-01T07:49:04.085Z"
   },
   {
    "duration": 148,
    "start_time": "2023-03-01T07:49:04.102Z"
   },
   {
    "duration": 20,
    "start_time": "2023-03-01T07:49:04.251Z"
   },
   {
    "duration": 17,
    "start_time": "2023-03-01T07:49:04.273Z"
   },
   {
    "duration": 12,
    "start_time": "2023-03-01T07:49:04.292Z"
   },
   {
    "duration": 41,
    "start_time": "2023-03-01T07:49:04.307Z"
   },
   {
    "duration": 6,
    "start_time": "2023-03-01T07:49:37.102Z"
   },
   {
    "duration": 7,
    "start_time": "2023-03-01T08:05:01.228Z"
   },
   {
    "duration": 564,
    "start_time": "2023-03-01T08:45:29.221Z"
   },
   {
    "duration": 14,
    "start_time": "2023-03-01T08:46:32.041Z"
   },
   {
    "duration": 6,
    "start_time": "2023-03-01T08:46:46.320Z"
   },
   {
    "duration": 21,
    "start_time": "2023-03-01T08:46:46.328Z"
   },
   {
    "duration": 97,
    "start_time": "2023-03-01T08:46:46.350Z"
   },
   {
    "duration": 5,
    "start_time": "2023-03-01T08:46:46.449Z"
   },
   {
    "duration": 11,
    "start_time": "2023-03-01T08:46:46.458Z"
   },
   {
    "duration": 13,
    "start_time": "2023-03-01T08:46:46.470Z"
   },
   {
    "duration": 6,
    "start_time": "2023-03-01T09:04:19.157Z"
   },
   {
    "duration": 12,
    "start_time": "2023-03-01T09:04:19.165Z"
   },
   {
    "duration": 111,
    "start_time": "2023-03-01T09:04:19.179Z"
   },
   {
    "duration": 3,
    "start_time": "2023-03-01T09:04:19.292Z"
   },
   {
    "duration": 13,
    "start_time": "2023-03-01T09:04:19.297Z"
   },
   {
    "duration": 15,
    "start_time": "2023-03-01T09:04:19.312Z"
   },
   {
    "duration": 40,
    "start_time": "2023-03-01T09:04:19.329Z"
   },
   {
    "duration": 26,
    "start_time": "2023-03-01T09:04:19.371Z"
   },
   {
    "duration": 1315,
    "start_time": "2023-03-01T09:04:19.398Z"
   },
   {
    "duration": 5,
    "start_time": "2023-03-01T09:04:20.715Z"
   },
   {
    "duration": 59,
    "start_time": "2023-03-01T09:04:20.721Z"
   },
   {
    "duration": 5,
    "start_time": "2023-03-01T09:04:20.782Z"
   },
   {
    "duration": 13,
    "start_time": "2023-03-01T09:04:20.789Z"
   },
   {
    "duration": 417,
    "start_time": "2023-03-01T09:04:20.804Z"
   },
   {
    "duration": 3,
    "start_time": "2023-03-01T09:04:21.223Z"
   },
   {
    "duration": 149,
    "start_time": "2023-03-01T09:04:21.227Z"
   },
   {
    "duration": 30,
    "start_time": "2023-03-01T09:04:21.378Z"
   },
   {
    "duration": 8,
    "start_time": "2023-03-01T09:04:21.410Z"
   },
   {
    "duration": 9,
    "start_time": "2023-03-01T09:04:21.420Z"
   },
   {
    "duration": 36,
    "start_time": "2023-03-01T09:04:21.430Z"
   },
   {
    "duration": 11,
    "start_time": "2023-03-01T09:04:21.468Z"
   },
   {
    "duration": 4,
    "start_time": "2023-03-01T09:04:21.480Z"
   },
   {
    "duration": 12,
    "start_time": "2023-03-01T09:04:21.486Z"
   },
   {
    "duration": 8,
    "start_time": "2023-03-01T09:04:21.500Z"
   },
   {
    "duration": 9,
    "start_time": "2023-03-01T09:04:21.510Z"
   },
   {
    "duration": 26,
    "start_time": "2023-03-01T09:04:21.521Z"
   }
  ],
  "kernelspec": {
   "display_name": "Python 3 (ipykernel)",
   "language": "python",
   "name": "python3"
  },
  "language_info": {
   "codemirror_mode": {
    "name": "ipython",
    "version": 3
   },
   "file_extension": ".py",
   "mimetype": "text/x-python",
   "name": "python",
   "nbconvert_exporter": "python",
   "pygments_lexer": "ipython3",
   "version": "3.9.16"
  },
  "toc": {
   "base_numbering": 1,
   "nav_menu": {},
   "number_sections": true,
   "sideBar": true,
   "skip_h1_title": true,
   "title_cell": "Содержание",
   "title_sidebar": "Contents",
   "toc_cell": true,
   "toc_position": {
    "height": "calc(100% - 180px)",
    "left": "10px",
    "top": "150px",
    "width": "165px"
   },
   "toc_section_display": true,
   "toc_window_display": true
  }
 },
 "nbformat": 4,
 "nbformat_minor": 2
}
