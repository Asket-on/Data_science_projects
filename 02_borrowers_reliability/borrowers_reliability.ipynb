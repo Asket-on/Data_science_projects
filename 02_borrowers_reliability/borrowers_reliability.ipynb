{
 "cells": [
  {
   "cell_type": "markdown",
   "id": "e9ae5715",
   "metadata": {
    "deletable": false,
    "editable": false,
    "id": "c81daeeb"
   },
   "source": [
    "# Исследование надежности заемщиков\n",
    "\n",
    "## Описание проекта\n",
    "\n",
    "Заказчик — кредитный отдел банка. Нужно разобраться, влияет ли семейное положение и количество детей клиента на факт погашения кредита в срок. Входные данные от банка — статистика о платёжеспособности клиентов.\n",
    "\n",
    "Результаты исследования будут учтены при построении модели кредитного скоринга — специальной системы, которая оценивает способность потенциального заёмщика вернуть кредит банку.\n"
   ]
  },
  {
   "cell_type": "markdown",
   "id": "14880275",
   "metadata": {
    "deletable": false,
    "editable": false,
    "id": "744d7639"
   },
   "source": [
    "## Откроем таблицу и изучим общую информацию о данных"
   ]
  },
  {
   "cell_type": "code",
   "execution_count": 1,
   "id": "b093bc7e",
   "metadata": {},
   "outputs": [],
   "source": [
    "import seaborn as sns\n",
    "import matplotlib.pyplot as plt\n",
    "import numpy as np\n",
    "import pandas as pd"
   ]
  },
  {
   "cell_type": "code",
   "execution_count": 3,
   "id": "4eb12e1a",
   "metadata": {
    "deletable": false,
    "id": "2a7cab99",
    "outputId": "1a8f3ef2-d323-4ec2-ddf7-89670b5944c4"
   },
   "outputs": [
    {
     "data": {
      "text/html": [
       "<div>\n",
       "<style scoped>\n",
       "    .dataframe tbody tr th:only-of-type {\n",
       "        vertical-align: middle;\n",
       "    }\n",
       "\n",
       "    .dataframe tbody tr th {\n",
       "        vertical-align: top;\n",
       "    }\n",
       "\n",
       "    .dataframe thead th {\n",
       "        text-align: right;\n",
       "    }\n",
       "</style>\n",
       "<table border=\"1\" class=\"dataframe\">\n",
       "  <thead>\n",
       "    <tr style=\"text-align: right;\">\n",
       "      <th></th>\n",
       "      <th>children</th>\n",
       "      <th>days_employed</th>\n",
       "      <th>dob_years</th>\n",
       "      <th>education</th>\n",
       "      <th>education_id</th>\n",
       "      <th>family_status</th>\n",
       "      <th>family_status_id</th>\n",
       "      <th>gender</th>\n",
       "      <th>income_type</th>\n",
       "      <th>debt</th>\n",
       "      <th>total_income</th>\n",
       "      <th>purpose</th>\n",
       "    </tr>\n",
       "  </thead>\n",
       "  <tbody>\n",
       "    <tr>\n",
       "      <th>0</th>\n",
       "      <td>1</td>\n",
       "      <td>-8437.673028</td>\n",
       "      <td>42</td>\n",
       "      <td>высшее</td>\n",
       "      <td>0</td>\n",
       "      <td>женат / замужем</td>\n",
       "      <td>0</td>\n",
       "      <td>F</td>\n",
       "      <td>сотрудник</td>\n",
       "      <td>0</td>\n",
       "      <td>253875.639453</td>\n",
       "      <td>покупка жилья</td>\n",
       "    </tr>\n",
       "    <tr>\n",
       "      <th>1</th>\n",
       "      <td>1</td>\n",
       "      <td>-4024.803754</td>\n",
       "      <td>36</td>\n",
       "      <td>среднее</td>\n",
       "      <td>1</td>\n",
       "      <td>женат / замужем</td>\n",
       "      <td>0</td>\n",
       "      <td>F</td>\n",
       "      <td>сотрудник</td>\n",
       "      <td>0</td>\n",
       "      <td>112080.014102</td>\n",
       "      <td>приобретение автомобиля</td>\n",
       "    </tr>\n",
       "    <tr>\n",
       "      <th>2</th>\n",
       "      <td>0</td>\n",
       "      <td>-5623.422610</td>\n",
       "      <td>33</td>\n",
       "      <td>Среднее</td>\n",
       "      <td>1</td>\n",
       "      <td>женат / замужем</td>\n",
       "      <td>0</td>\n",
       "      <td>M</td>\n",
       "      <td>сотрудник</td>\n",
       "      <td>0</td>\n",
       "      <td>145885.952297</td>\n",
       "      <td>покупка жилья</td>\n",
       "    </tr>\n",
       "    <tr>\n",
       "      <th>3</th>\n",
       "      <td>3</td>\n",
       "      <td>-4124.747207</td>\n",
       "      <td>32</td>\n",
       "      <td>среднее</td>\n",
       "      <td>1</td>\n",
       "      <td>женат / замужем</td>\n",
       "      <td>0</td>\n",
       "      <td>M</td>\n",
       "      <td>сотрудник</td>\n",
       "      <td>0</td>\n",
       "      <td>267628.550329</td>\n",
       "      <td>дополнительное образование</td>\n",
       "    </tr>\n",
       "    <tr>\n",
       "      <th>4</th>\n",
       "      <td>0</td>\n",
       "      <td>340266.072047</td>\n",
       "      <td>53</td>\n",
       "      <td>среднее</td>\n",
       "      <td>1</td>\n",
       "      <td>гражданский брак</td>\n",
       "      <td>1</td>\n",
       "      <td>F</td>\n",
       "      <td>пенсионер</td>\n",
       "      <td>0</td>\n",
       "      <td>158616.077870</td>\n",
       "      <td>сыграть свадьбу</td>\n",
       "    </tr>\n",
       "    <tr>\n",
       "      <th>5</th>\n",
       "      <td>0</td>\n",
       "      <td>-926.185831</td>\n",
       "      <td>27</td>\n",
       "      <td>высшее</td>\n",
       "      <td>0</td>\n",
       "      <td>гражданский брак</td>\n",
       "      <td>1</td>\n",
       "      <td>M</td>\n",
       "      <td>компаньон</td>\n",
       "      <td>0</td>\n",
       "      <td>255763.565419</td>\n",
       "      <td>покупка жилья</td>\n",
       "    </tr>\n",
       "    <tr>\n",
       "      <th>6</th>\n",
       "      <td>0</td>\n",
       "      <td>-2879.202052</td>\n",
       "      <td>43</td>\n",
       "      <td>высшее</td>\n",
       "      <td>0</td>\n",
       "      <td>женат / замужем</td>\n",
       "      <td>0</td>\n",
       "      <td>F</td>\n",
       "      <td>компаньон</td>\n",
       "      <td>0</td>\n",
       "      <td>240525.971920</td>\n",
       "      <td>операции с жильем</td>\n",
       "    </tr>\n",
       "    <tr>\n",
       "      <th>7</th>\n",
       "      <td>0</td>\n",
       "      <td>-152.779569</td>\n",
       "      <td>50</td>\n",
       "      <td>СРЕДНЕЕ</td>\n",
       "      <td>1</td>\n",
       "      <td>женат / замужем</td>\n",
       "      <td>0</td>\n",
       "      <td>M</td>\n",
       "      <td>сотрудник</td>\n",
       "      <td>0</td>\n",
       "      <td>135823.934197</td>\n",
       "      <td>образование</td>\n",
       "    </tr>\n",
       "    <tr>\n",
       "      <th>8</th>\n",
       "      <td>2</td>\n",
       "      <td>-6929.865299</td>\n",
       "      <td>35</td>\n",
       "      <td>ВЫСШЕЕ</td>\n",
       "      <td>0</td>\n",
       "      <td>гражданский брак</td>\n",
       "      <td>1</td>\n",
       "      <td>F</td>\n",
       "      <td>сотрудник</td>\n",
       "      <td>0</td>\n",
       "      <td>95856.832424</td>\n",
       "      <td>на проведение свадьбы</td>\n",
       "    </tr>\n",
       "    <tr>\n",
       "      <th>9</th>\n",
       "      <td>0</td>\n",
       "      <td>-2188.756445</td>\n",
       "      <td>41</td>\n",
       "      <td>среднее</td>\n",
       "      <td>1</td>\n",
       "      <td>женат / замужем</td>\n",
       "      <td>0</td>\n",
       "      <td>M</td>\n",
       "      <td>сотрудник</td>\n",
       "      <td>0</td>\n",
       "      <td>144425.938277</td>\n",
       "      <td>покупка жилья для семьи</td>\n",
       "    </tr>\n",
       "    <tr>\n",
       "      <th>10</th>\n",
       "      <td>2</td>\n",
       "      <td>-4171.483647</td>\n",
       "      <td>36</td>\n",
       "      <td>высшее</td>\n",
       "      <td>0</td>\n",
       "      <td>женат / замужем</td>\n",
       "      <td>0</td>\n",
       "      <td>M</td>\n",
       "      <td>компаньон</td>\n",
       "      <td>0</td>\n",
       "      <td>113943.491460</td>\n",
       "      <td>покупка недвижимости</td>\n",
       "    </tr>\n",
       "    <tr>\n",
       "      <th>11</th>\n",
       "      <td>0</td>\n",
       "      <td>-792.701887</td>\n",
       "      <td>40</td>\n",
       "      <td>среднее</td>\n",
       "      <td>1</td>\n",
       "      <td>женат / замужем</td>\n",
       "      <td>0</td>\n",
       "      <td>F</td>\n",
       "      <td>сотрудник</td>\n",
       "      <td>0</td>\n",
       "      <td>77069.234271</td>\n",
       "      <td>покупка коммерческой недвижимости</td>\n",
       "    </tr>\n",
       "    <tr>\n",
       "      <th>12</th>\n",
       "      <td>0</td>\n",
       "      <td>NaN</td>\n",
       "      <td>65</td>\n",
       "      <td>среднее</td>\n",
       "      <td>1</td>\n",
       "      <td>гражданский брак</td>\n",
       "      <td>1</td>\n",
       "      <td>M</td>\n",
       "      <td>пенсионер</td>\n",
       "      <td>0</td>\n",
       "      <td>NaN</td>\n",
       "      <td>сыграть свадьбу</td>\n",
       "    </tr>\n",
       "    <tr>\n",
       "      <th>13</th>\n",
       "      <td>0</td>\n",
       "      <td>-1846.641941</td>\n",
       "      <td>54</td>\n",
       "      <td>неоконченное высшее</td>\n",
       "      <td>2</td>\n",
       "      <td>женат / замужем</td>\n",
       "      <td>0</td>\n",
       "      <td>F</td>\n",
       "      <td>сотрудник</td>\n",
       "      <td>0</td>\n",
       "      <td>130458.228857</td>\n",
       "      <td>приобретение автомобиля</td>\n",
       "    </tr>\n",
       "    <tr>\n",
       "      <th>14</th>\n",
       "      <td>0</td>\n",
       "      <td>-1844.956182</td>\n",
       "      <td>56</td>\n",
       "      <td>высшее</td>\n",
       "      <td>0</td>\n",
       "      <td>гражданский брак</td>\n",
       "      <td>1</td>\n",
       "      <td>F</td>\n",
       "      <td>компаньон</td>\n",
       "      <td>1</td>\n",
       "      <td>165127.911772</td>\n",
       "      <td>покупка жилой недвижимости</td>\n",
       "    </tr>\n",
       "    <tr>\n",
       "      <th>15</th>\n",
       "      <td>1</td>\n",
       "      <td>-972.364419</td>\n",
       "      <td>26</td>\n",
       "      <td>среднее</td>\n",
       "      <td>1</td>\n",
       "      <td>женат / замужем</td>\n",
       "      <td>0</td>\n",
       "      <td>F</td>\n",
       "      <td>сотрудник</td>\n",
       "      <td>0</td>\n",
       "      <td>116820.904450</td>\n",
       "      <td>строительство собственной недвижимости</td>\n",
       "    </tr>\n",
       "    <tr>\n",
       "      <th>16</th>\n",
       "      <td>0</td>\n",
       "      <td>-1719.934226</td>\n",
       "      <td>35</td>\n",
       "      <td>среднее</td>\n",
       "      <td>1</td>\n",
       "      <td>женат / замужем</td>\n",
       "      <td>0</td>\n",
       "      <td>F</td>\n",
       "      <td>сотрудник</td>\n",
       "      <td>0</td>\n",
       "      <td>289202.704229</td>\n",
       "      <td>недвижимость</td>\n",
       "    </tr>\n",
       "    <tr>\n",
       "      <th>17</th>\n",
       "      <td>0</td>\n",
       "      <td>-2369.999720</td>\n",
       "      <td>33</td>\n",
       "      <td>высшее</td>\n",
       "      <td>0</td>\n",
       "      <td>гражданский брак</td>\n",
       "      <td>1</td>\n",
       "      <td>M</td>\n",
       "      <td>сотрудник</td>\n",
       "      <td>0</td>\n",
       "      <td>90410.586745</td>\n",
       "      <td>строительство недвижимости</td>\n",
       "    </tr>\n",
       "    <tr>\n",
       "      <th>18</th>\n",
       "      <td>0</td>\n",
       "      <td>400281.136913</td>\n",
       "      <td>53</td>\n",
       "      <td>среднее</td>\n",
       "      <td>1</td>\n",
       "      <td>вдовец / вдова</td>\n",
       "      <td>2</td>\n",
       "      <td>F</td>\n",
       "      <td>пенсионер</td>\n",
       "      <td>0</td>\n",
       "      <td>56823.777243</td>\n",
       "      <td>на покупку подержанного автомобиля</td>\n",
       "    </tr>\n",
       "    <tr>\n",
       "      <th>19</th>\n",
       "      <td>0</td>\n",
       "      <td>-10038.818549</td>\n",
       "      <td>48</td>\n",
       "      <td>СРЕДНЕЕ</td>\n",
       "      <td>1</td>\n",
       "      <td>в разводе</td>\n",
       "      <td>3</td>\n",
       "      <td>F</td>\n",
       "      <td>сотрудник</td>\n",
       "      <td>0</td>\n",
       "      <td>242831.107982</td>\n",
       "      <td>на покупку своего автомобиля</td>\n",
       "    </tr>\n",
       "  </tbody>\n",
       "</table>\n",
       "</div>"
      ],
      "text/plain": [
       "    children  days_employed  dob_years            education  education_id  \\\n",
       "0          1   -8437.673028         42               высшее             0   \n",
       "1          1   -4024.803754         36              среднее             1   \n",
       "2          0   -5623.422610         33              Среднее             1   \n",
       "3          3   -4124.747207         32              среднее             1   \n",
       "4          0  340266.072047         53              среднее             1   \n",
       "5          0    -926.185831         27               высшее             0   \n",
       "6          0   -2879.202052         43               высшее             0   \n",
       "7          0    -152.779569         50              СРЕДНЕЕ             1   \n",
       "8          2   -6929.865299         35               ВЫСШЕЕ             0   \n",
       "9          0   -2188.756445         41              среднее             1   \n",
       "10         2   -4171.483647         36               высшее             0   \n",
       "11         0    -792.701887         40              среднее             1   \n",
       "12         0            NaN         65              среднее             1   \n",
       "13         0   -1846.641941         54  неоконченное высшее             2   \n",
       "14         0   -1844.956182         56               высшее             0   \n",
       "15         1    -972.364419         26              среднее             1   \n",
       "16         0   -1719.934226         35              среднее             1   \n",
       "17         0   -2369.999720         33               высшее             0   \n",
       "18         0  400281.136913         53              среднее             1   \n",
       "19         0  -10038.818549         48              СРЕДНЕЕ             1   \n",
       "\n",
       "       family_status  family_status_id gender income_type  debt  \\\n",
       "0    женат / замужем                 0      F   сотрудник     0   \n",
       "1    женат / замужем                 0      F   сотрудник     0   \n",
       "2    женат / замужем                 0      M   сотрудник     0   \n",
       "3    женат / замужем                 0      M   сотрудник     0   \n",
       "4   гражданский брак                 1      F   пенсионер     0   \n",
       "5   гражданский брак                 1      M   компаньон     0   \n",
       "6    женат / замужем                 0      F   компаньон     0   \n",
       "7    женат / замужем                 0      M   сотрудник     0   \n",
       "8   гражданский брак                 1      F   сотрудник     0   \n",
       "9    женат / замужем                 0      M   сотрудник     0   \n",
       "10   женат / замужем                 0      M   компаньон     0   \n",
       "11   женат / замужем                 0      F   сотрудник     0   \n",
       "12  гражданский брак                 1      M   пенсионер     0   \n",
       "13   женат / замужем                 0      F   сотрудник     0   \n",
       "14  гражданский брак                 1      F   компаньон     1   \n",
       "15   женат / замужем                 0      F   сотрудник     0   \n",
       "16   женат / замужем                 0      F   сотрудник     0   \n",
       "17  гражданский брак                 1      M   сотрудник     0   \n",
       "18    вдовец / вдова                 2      F   пенсионер     0   \n",
       "19         в разводе                 3      F   сотрудник     0   \n",
       "\n",
       "     total_income                                 purpose  \n",
       "0   253875.639453                           покупка жилья  \n",
       "1   112080.014102                 приобретение автомобиля  \n",
       "2   145885.952297                           покупка жилья  \n",
       "3   267628.550329              дополнительное образование  \n",
       "4   158616.077870                         сыграть свадьбу  \n",
       "5   255763.565419                           покупка жилья  \n",
       "6   240525.971920                       операции с жильем  \n",
       "7   135823.934197                             образование  \n",
       "8    95856.832424                   на проведение свадьбы  \n",
       "9   144425.938277                 покупка жилья для семьи  \n",
       "10  113943.491460                    покупка недвижимости  \n",
       "11   77069.234271       покупка коммерческой недвижимости  \n",
       "12            NaN                         сыграть свадьбу  \n",
       "13  130458.228857                 приобретение автомобиля  \n",
       "14  165127.911772              покупка жилой недвижимости  \n",
       "15  116820.904450  строительство собственной недвижимости  \n",
       "16  289202.704229                            недвижимость  \n",
       "17   90410.586745              строительство недвижимости  \n",
       "18   56823.777243      на покупку подержанного автомобиля  \n",
       "19  242831.107982            на покупку своего автомобиля  "
      ]
     },
     "execution_count": 3,
     "metadata": {},
     "output_type": "execute_result"
    }
   ],
   "source": [
    "data = pd.read_csv('/data.csv')\n",
    "data.head(20)"
   ]
  },
  {
   "cell_type": "code",
   "execution_count": 4,
   "id": "e4cecc71",
   "metadata": {
    "deletable": false,
    "id": "2b757bca",
    "outputId": "15376089-8dad-46c9-b520-c05248d43158"
   },
   "outputs": [
    {
     "name": "stdout",
     "output_type": "stream",
     "text": [
      "<class 'pandas.core.frame.DataFrame'>\n",
      "RangeIndex: 21525 entries, 0 to 21524\n",
      "Data columns (total 12 columns):\n",
      " #   Column            Non-Null Count  Dtype  \n",
      "---  ------            --------------  -----  \n",
      " 0   children          21525 non-null  int64  \n",
      " 1   days_employed     19351 non-null  float64\n",
      " 2   dob_years         21525 non-null  int64  \n",
      " 3   education         21525 non-null  object \n",
      " 4   education_id      21525 non-null  int64  \n",
      " 5   family_status     21525 non-null  object \n",
      " 6   family_status_id  21525 non-null  int64  \n",
      " 7   gender            21525 non-null  object \n",
      " 8   income_type       21525 non-null  object \n",
      " 9   debt              21525 non-null  int64  \n",
      " 10  total_income      19351 non-null  float64\n",
      " 11  purpose           21525 non-null  object \n",
      "dtypes: float64(2), int64(5), object(5)\n",
      "memory usage: 2.0+ MB\n"
     ]
    }
   ],
   "source": [
    "data.info()"
   ]
  },
  {
   "cell_type": "markdown",
   "id": "ce10626e",
   "metadata": {
    "deletable": false,
    "editable": false,
    "id": "333ec665"
   },
   "source": [
    "## Предобработка данных"
   ]
  },
  {
   "cell_type": "markdown",
   "id": "a3a0efd2",
   "metadata": {
    "deletable": false,
    "editable": false,
    "id": "02d92d53"
   },
   "source": [
    "### Удаление пропусков"
   ]
  },
  {
   "cell_type": "code",
   "execution_count": 5,
   "id": "c1193c4d",
   "metadata": {
    "deletable": false,
    "id": "7f9b2309",
    "outputId": "81f4d817-781c-465c-ed15-91ce4446810d"
   },
   "outputs": [
    {
     "data": {
      "text/plain": [
       "children               0\n",
       "days_employed       2174\n",
       "dob_years              0\n",
       "education              0\n",
       "education_id           0\n",
       "family_status          0\n",
       "family_status_id       0\n",
       "gender                 0\n",
       "income_type            0\n",
       "debt                   0\n",
       "total_income        2174\n",
       "purpose                0\n",
       "dtype: int64"
      ]
     },
     "execution_count": 5,
     "metadata": {},
     "output_type": "execute_result"
    }
   ],
   "source": [
    "data.isna().sum()"
   ]
  },
  {
   "cell_type": "markdown",
   "id": "2c51f707",
   "metadata": {
    "deletable": false,
    "editable": false,
    "id": "db86e27b"
   },
   "source": [
    "В двух столбцах есть пропущенные значения. Один из них — `days_employed`.  Другой столбец с пропущенными значениями — `total_income` — хранит данные о доходах. На сумму дохода сильнее всего влияет тип занятости, поэтому заполним пропуски в этом столбце медианным значением по каждому типу из столбца `income_type`. Например, у человека с типом занятости `сотрудник` пропуск в столбце `total_income` должен быть заполнен медианным доходом среди всех записей с тем же типом."
   ]
  },
  {
   "cell_type": "code",
   "execution_count": 6,
   "id": "517372d1",
   "metadata": {
    "deletable": false,
    "id": "42006a93"
   },
   "outputs": [],
   "source": [
    "for t in data['income_type'].unique():\n",
    "    data.loc[(data['income_type'] == t) & (data['total_income'].isna()), 'total_income'] = \\\n",
    "    data.loc[(data['income_type'] == t), 'total_income'].median()"
   ]
  },
  {
   "cell_type": "markdown",
   "id": "f28ea38b",
   "metadata": {
    "deletable": false,
    "editable": false,
    "id": "89da5ece"
   },
   "source": [
    "### Обработка аномальных значений"
   ]
  },
  {
   "cell_type": "markdown",
   "id": "4e622473",
   "metadata": {
    "deletable": false,
    "editable": false,
    "id": "57964554"
   },
   "source": [
    "В данных есть артефакты (аномалии) — отрицательное количество дней трудового стажа в столбце `days_employed`. Обработаем значения в этом столбце: заменим все отрицательные значения положительными с помощью метода `abs()`."
   ]
  },
  {
   "cell_type": "code",
   "execution_count": 7,
   "id": "b3422a48",
   "metadata": {
    "deletable": false,
    "id": "f6f055bf"
   },
   "outputs": [],
   "source": [
    "data['days_employed'] = data['days_employed'].abs()"
   ]
  },
  {
   "cell_type": "markdown",
   "id": "2bde748b",
   "metadata": {
    "deletable": false,
    "editable": false,
    "id": "6107dd2f"
   },
   "source": [
    "Для каждого типа занятости выведем медианное значение трудового стажа `days_employed` в днях.**"
   ]
  },
  {
   "cell_type": "code",
   "execution_count": 8,
   "id": "821b1f68",
   "metadata": {
    "deletable": false,
    "id": "85a5faf6",
    "outputId": "801ef80e-522b-4668-f34e-565af7432bcf"
   },
   "outputs": [
    {
     "data": {
      "text/plain": [
       "income_type\n",
       "безработный        366413.652744\n",
       "в декрете            3296.759962\n",
       "госслужащий          2689.368353\n",
       "компаньон            1547.382223\n",
       "пенсионер          365213.306266\n",
       "предприниматель       520.848083\n",
       "сотрудник            1574.202821\n",
       "студент               578.751554\n",
       "Name: days_employed, dtype: float64"
      ]
     },
     "execution_count": 8,
     "metadata": {},
     "output_type": "execute_result"
    }
   ],
   "source": [
    "data.groupby('income_type')['days_employed'].agg('median')"
   ]
  },
  {
   "cell_type": "markdown",
   "id": "b23d6746",
   "metadata": {
    "deletable": false,
    "editable": false,
    "id": "38d1a030"
   },
   "source": [
    "У двух типов (безработные и пенсионеры) получатся аномально большие значения. Исправить такие значения сложно, поэтому оставим их как есть."
   ]
  },
  {
   "cell_type": "markdown",
   "id": "e747a226",
   "metadata": {
    "deletable": false,
    "editable": false,
    "id": "d8a9f147"
   },
   "source": [
    "перечень уникальных значений столбца `children`."
   ]
  },
  {
   "cell_type": "code",
   "execution_count": 9,
   "id": "4f9186f1",
   "metadata": {
    "deletable": false,
    "id": "ef5056eb",
    "outputId": "6975b15c-7f95-4697-d16d-a0c79b657b03"
   },
   "outputs": [
    {
     "data": {
      "text/plain": [
       "array([ 1,  0,  3,  2, -1,  4, 20,  5], dtype=int64)"
      ]
     },
     "execution_count": 9,
     "metadata": {},
     "output_type": "execute_result"
    }
   ],
   "source": [
    "data['children'].unique()"
   ]
  },
  {
   "cell_type": "markdown",
   "id": "bd1b2097",
   "metadata": {
    "deletable": false,
    "editable": false,
    "id": "40b9ebf2"
   },
   "source": [
    "В столбце `children` есть два аномальных значения. Удалим строки, в которых встречаются такие аномальные значения из датафрейма `data`."
   ]
  },
  {
   "cell_type": "code",
   "execution_count": 10,
   "id": "67725bb2",
   "metadata": {
    "deletable": false,
    "id": "3ff9801d"
   },
   "outputs": [],
   "source": [
    "data = data[(data['children'] != -1) & (data['children'] != 20)]"
   ]
  },
  {
   "cell_type": "code",
   "execution_count": 11,
   "id": "7f48e9f8",
   "metadata": {
    "deletable": false,
    "id": "ad4fa8b7",
    "outputId": "b2097101-d49d-44d9-901b-32a65c9463d1"
   },
   "outputs": [
    {
     "data": {
      "text/plain": [
       "array([1, 0, 3, 2, 4, 5], dtype=int64)"
      ]
     },
     "execution_count": 11,
     "metadata": {},
     "output_type": "execute_result"
    }
   ],
   "source": [
    "data['children'].unique()"
   ]
  },
  {
   "cell_type": "markdown",
   "id": "b95e81bf",
   "metadata": {
    "deletable": false,
    "editable": false,
    "id": "f4ea573f"
   },
   "source": [
    "Заполним пропуски в столбце `days_employed` медианными значениями по каждого типа занятости `income_type`.**"
   ]
  },
  {
   "cell_type": "code",
   "execution_count": 12,
   "id": "ff3327aa",
   "metadata": {
    "deletable": false,
    "id": "af6b1a7e"
   },
   "outputs": [],
   "source": [
    "for t in data['income_type'].unique():\n",
    "    data.loc[(data['income_type'] == t) & (data['days_employed'].isna()), 'days_employed'] = \\\n",
    "    data.loc[(data['income_type'] == t), 'days_employed'].median()"
   ]
  },
  {
   "cell_type": "markdown",
   "id": "d82f3f1a",
   "metadata": {
    "deletable": false,
    "editable": false,
    "id": "2753f40d"
   },
   "source": [
    "Убедимся, что все пропуски заполнены."
   ]
  },
  {
   "cell_type": "code",
   "execution_count": 13,
   "id": "f16c26b0",
   "metadata": {
    "deletable": false,
    "id": "55f78bc2",
    "outputId": "8da1e4e1-358e-4e87-98c9-f261bce0a7b2"
   },
   "outputs": [
    {
     "data": {
      "text/plain": [
       "children            0\n",
       "days_employed       0\n",
       "dob_years           0\n",
       "education           0\n",
       "education_id        0\n",
       "family_status       0\n",
       "family_status_id    0\n",
       "gender              0\n",
       "income_type         0\n",
       "debt                0\n",
       "total_income        0\n",
       "purpose             0\n",
       "dtype: int64"
      ]
     },
     "execution_count": 13,
     "metadata": {},
     "output_type": "execute_result"
    }
   ],
   "source": [
    "data.isna().sum()"
   ]
  },
  {
   "cell_type": "markdown",
   "id": "4f48a5fd",
   "metadata": {
    "deletable": false,
    "editable": false,
    "id": "ddc81e43"
   },
   "source": [
    "### Изменение типов данных"
   ]
  },
  {
   "cell_type": "markdown",
   "id": "9d4e4003",
   "metadata": {
    "deletable": false,
    "editable": false,
    "id": "42d19d24"
   },
   "source": [
    "Заменим вещественный тип данных в столбце `total_income` на целочисленный с помощью метода `astype()`."
   ]
  },
  {
   "cell_type": "code",
   "execution_count": 14,
   "id": "f9b6192b",
   "metadata": {
    "deletable": false,
    "id": "920b65ad"
   },
   "outputs": [],
   "source": [
    "data['total_income'] = data['total_income'].astype(int)"
   ]
  },
  {
   "cell_type": "markdown",
   "id": "86aa3c8e",
   "metadata": {
    "deletable": false,
    "editable": false,
    "id": "80c420ba"
   },
   "source": [
    "### Обработка дубликатов"
   ]
  },
  {
   "cell_type": "markdown",
   "id": "e220743b",
   "metadata": {
    "deletable": false,
    "editable": false
   },
   "source": [
    "Обработаем неявные дубликаты в столбце `education`."
   ]
  },
  {
   "cell_type": "code",
   "execution_count": 15,
   "id": "cac9deae",
   "metadata": {
    "deletable": false
   },
   "outputs": [],
   "source": [
    "data['education'] = data['education'].str.lower()"
   ]
  },
  {
   "cell_type": "code",
   "execution_count": 16,
   "id": "211cca33",
   "metadata": {
    "deletable": false,
    "id": "3ee445e4",
    "outputId": "9684deba-1934-42d1-99e1-cda61740f822"
   },
   "outputs": [
    {
     "data": {
      "text/plain": [
       "71"
      ]
     },
     "execution_count": 16,
     "metadata": {},
     "output_type": "execute_result"
    }
   ],
   "source": [
    "data.duplicated().sum()"
   ]
  },
  {
   "cell_type": "code",
   "execution_count": 17,
   "id": "55e05788",
   "metadata": {
    "deletable": false,
    "id": "8575fe05"
   },
   "outputs": [],
   "source": [
    "data = data.drop_duplicates()"
   ]
  },
  {
   "cell_type": "markdown",
   "id": "d49e9716",
   "metadata": {
    "deletable": false,
    "editable": false,
    "id": "9904cf55"
   },
   "source": [
    "### Категоризация данных"
   ]
  },
  {
   "cell_type": "markdown",
   "id": "7c6e3588",
   "metadata": {
    "deletable": false,
    "editable": false,
    "id": "72fcc8a2"
   },
   "source": [
    "На основании диапазонов, указанных ниже, создадим в датафрейме `data` столбец `total_income_category` с категориями:\n",
    "\n",
    "- 0–30000 — `'E'`;\n",
    "- 30001–50000 — `'D'`;\n",
    "- 50001–200000 — `'C'`;\n",
    "- 200001–1000000 — `'B'`;\n",
    "- 1000001 и выше — `'A'`."
   ]
  },
  {
   "cell_type": "code",
   "execution_count": 18,
   "id": "cf95e641",
   "metadata": {
    "deletable": false,
    "id": "e1771346"
   },
   "outputs": [],
   "source": [
    "def categorize_income(income):\n",
    "    try:\n",
    "        if 0 <= income <= 30000:\n",
    "            return 'E (0–30000)'\n",
    "        elif 30001 <= income <= 50000:\n",
    "            return 'D (30001–50000)'\n",
    "        elif 50001 <= income <= 200000:\n",
    "            return 'C (50001–200000)'\n",
    "        elif 200001 <= income <= 1000000:\n",
    "            return 'B (200001–1000000)'\n",
    "        elif income >= 1000001:\n",
    "            return 'A (1000001 и выше)'\n",
    "    except:\n",
    "        pass"
   ]
  },
  {
   "cell_type": "code",
   "execution_count": 19,
   "id": "587b0b55",
   "metadata": {
    "deletable": false,
    "id": "d5f3586d"
   },
   "outputs": [],
   "source": [
    "data['total_income_category'] = data['total_income'].apply(categorize_income)"
   ]
  },
  {
   "cell_type": "markdown",
   "id": "907d6e05",
   "metadata": {
    "deletable": false,
    "editable": false,
    "id": "dde49b5c"
   },
   "source": [
    "Выведим на экран перечень уникальных целей взятия кредита из столбца `purpose`."
   ]
  },
  {
   "cell_type": "code",
   "execution_count": 20,
   "id": "38d07851",
   "metadata": {
    "deletable": false,
    "id": "f67ce9b3",
    "outputId": "673c12d9-7d7e-4ae0-9812-c622c89dd244"
   },
   "outputs": [
    {
     "data": {
      "text/plain": [
       "array(['покупка жилья', 'приобретение автомобиля',\n",
       "       'дополнительное образование', 'сыграть свадьбу',\n",
       "       'операции с жильем', 'образование', 'на проведение свадьбы',\n",
       "       'покупка жилья для семьи', 'покупка недвижимости',\n",
       "       'покупка коммерческой недвижимости', 'покупка жилой недвижимости',\n",
       "       'строительство собственной недвижимости', 'недвижимость',\n",
       "       'строительство недвижимости', 'на покупку подержанного автомобиля',\n",
       "       'на покупку своего автомобиля',\n",
       "       'операции с коммерческой недвижимостью',\n",
       "       'строительство жилой недвижимости', 'жилье',\n",
       "       'операции со своей недвижимостью', 'автомобили',\n",
       "       'заняться образованием', 'сделка с подержанным автомобилем',\n",
       "       'получение образования', 'автомобиль', 'свадьба',\n",
       "       'получение дополнительного образования', 'покупка своего жилья',\n",
       "       'операции с недвижимостью', 'получение высшего образования',\n",
       "       'свой автомобиль', 'сделка с автомобилем',\n",
       "       'профильное образование', 'высшее образование',\n",
       "       'покупка жилья для сдачи', 'на покупку автомобиля', 'ремонт жилью',\n",
       "       'заняться высшим образованием'], dtype=object)"
      ]
     },
     "execution_count": 20,
     "metadata": {},
     "output_type": "execute_result"
    }
   ],
   "source": [
    "data['purpose'].unique()"
   ]
  },
  {
   "cell_type": "markdown",
   "id": "b0a36ad9",
   "metadata": {
    "deletable": false,
    "editable": false,
    "id": "85d0aef0"
   },
   "source": [
    "Создадим функцию, которая на основании данных из столбца `purpose` сформирует новый столбец `purpose_category`, в который войдут следующие категории:**\n",
    "\n",
    "- `'операции с автомобилем'`,\n",
    "- `'операции с недвижимостью'`,\n",
    "- `'проведение свадьбы'`,\n",
    "- `'получение образования'`."
   ]
  },
  {
   "cell_type": "code",
   "execution_count": 21,
   "id": "ec415c59",
   "metadata": {
    "deletable": false,
    "id": "e149fab4"
   },
   "outputs": [],
   "source": [
    "def categorize_purpose(row):\n",
    "    try:\n",
    "        if 'автом' in row:\n",
    "            return 'операции с автомобилем'\n",
    "        elif 'жил' in row or 'недвиж' in row:\n",
    "            return 'операции с недвижимостью'\n",
    "        elif 'свад' in row:\n",
    "            return 'проведение свадьбы'\n",
    "        elif 'образов' in row:\n",
    "            return 'получение образования'\n",
    "    except:\n",
    "        return 'нет категории'"
   ]
  },
  {
   "cell_type": "code",
   "execution_count": 22,
   "id": "d02686e4",
   "metadata": {
    "deletable": false,
    "id": "bf36e69b"
   },
   "outputs": [],
   "source": [
    "data['purpose_category'] = data['purpose'].apply(categorize_purpose)"
   ]
  },
  {
   "cell_type": "markdown",
   "id": "72fbe18f",
   "metadata": {
    "deletable": false,
    "editable": false,
    "id": "09b242bf"
   },
   "source": [
    "### Шаг 3. Исследуйте данные и ответьте на вопросы"
   ]
  },
  {
   "cell_type": "markdown",
   "id": "63b037bd",
   "metadata": {
    "deletable": false,
    "editable": false,
    "id": "c5d66278"
   },
   "source": [
    "#### 3.1 Есть ли зависимость между количеством детей и возвратом кредита в срок?"
   ]
  },
  {
   "cell_type": "markdown",
   "id": "c8e2d00c",
   "metadata": {},
   "source": [
    "Добавим столбец `child_free` для деления на категорию по наличию / отсутствию детей"
   ]
  },
  {
   "cell_type": "code",
   "execution_count": 23,
   "id": "ccb13cd4",
   "metadata": {},
   "outputs": [],
   "source": [
    "data['having_children'] = 'yes'\n",
    "data.loc[data['children'] == 0,'having_children'] = 'no'"
   ]
  },
  {
   "cell_type": "markdown",
   "id": "52d0537f",
   "metadata": {},
   "source": [
    "Сделаем группировку по столбцу `children`"
   ]
  },
  {
   "cell_type": "code",
   "execution_count": 24,
   "id": "5109eefd",
   "metadata": {
    "deletable": false,
    "id": "2cacfc4a",
    "scrolled": false
   },
   "outputs": [
    {
     "data": {
      "text/html": [
       "<div>\n",
       "<style scoped>\n",
       "    .dataframe tbody tr th:only-of-type {\n",
       "        vertical-align: middle;\n",
       "    }\n",
       "\n",
       "    .dataframe tbody tr th {\n",
       "        vertical-align: top;\n",
       "    }\n",
       "\n",
       "    .dataframe thead th {\n",
       "        text-align: right;\n",
       "    }\n",
       "</style>\n",
       "<table border=\"1\" class=\"dataframe\">\n",
       "  <thead>\n",
       "    <tr style=\"text-align: right;\">\n",
       "      <th></th>\n",
       "      <th>index</th>\n",
       "      <th>children</th>\n",
       "      <th>count</th>\n",
       "      <th>mean</th>\n",
       "    </tr>\n",
       "  </thead>\n",
       "  <tbody>\n",
       "    <tr>\n",
       "      <th>0</th>\n",
       "      <td>0</td>\n",
       "      <td>0</td>\n",
       "      <td>14091</td>\n",
       "      <td>0.075438</td>\n",
       "    </tr>\n",
       "    <tr>\n",
       "      <th>1</th>\n",
       "      <td>1</td>\n",
       "      <td>1</td>\n",
       "      <td>4808</td>\n",
       "      <td>0.092346</td>\n",
       "    </tr>\n",
       "    <tr>\n",
       "      <th>2</th>\n",
       "      <td>2</td>\n",
       "      <td>2</td>\n",
       "      <td>2052</td>\n",
       "      <td>0.094542</td>\n",
       "    </tr>\n",
       "    <tr>\n",
       "      <th>3</th>\n",
       "      <td>3</td>\n",
       "      <td>3</td>\n",
       "      <td>330</td>\n",
       "      <td>0.081818</td>\n",
       "    </tr>\n",
       "    <tr>\n",
       "      <th>4</th>\n",
       "      <td>4</td>\n",
       "      <td>4</td>\n",
       "      <td>41</td>\n",
       "      <td>0.097561</td>\n",
       "    </tr>\n",
       "    <tr>\n",
       "      <th>5</th>\n",
       "      <td>5</td>\n",
       "      <td>5</td>\n",
       "      <td>9</td>\n",
       "      <td>0.000000</td>\n",
       "    </tr>\n",
       "  </tbody>\n",
       "</table>\n",
       "</div>"
      ],
      "text/plain": [
       "   index  children  count      mean\n",
       "0      0         0  14091  0.075438\n",
       "1      1         1   4808  0.092346\n",
       "2      2         2   2052  0.094542\n",
       "3      3         3    330  0.081818\n",
       "4      4         4     41  0.097561\n",
       "5      5         5      9  0.000000"
      ]
     },
     "execution_count": 24,
     "metadata": {},
     "output_type": "execute_result"
    }
   ],
   "source": [
    "children_debt = data.groupby('children', as_index=False)['debt'].agg( ['count', 'mean'])\n",
    "children_debt.reset_index(inplace=True)\n",
    "children_debt"
   ]
  },
  {
   "cell_type": "markdown",
   "id": "22fdbba1",
   "metadata": {},
   "source": [
    "Выведем диаграмму:"
   ]
  },
  {
   "cell_type": "code",
   "execution_count": 25,
   "id": "c90a81e9",
   "metadata": {
    "scrolled": false
   },
   "outputs": [
    {
     "data": {
      "image/png": "[encoded data removed]",
      "text/plain": [
       "<Figure size 640x480 with 2 Axes>"
      ]
     },
     "metadata": {},
     "output_type": "display_data"
    }
   ],
   "source": [
    "plt.subplot(1, 2, 1)\n",
    "bx = sns.barplot(x='children', y='mean', data=children_debt)\n",
    "bx.set_title('dependence between the number of children\\n and loan repayment on time', fontsize=14)\n",
    "bx.set_xlabel('the number of children the borrower has', fontsize=14)\n",
    "bx.set_ylabel('average probability of delay', fontsize=14)\n",
    "\n",
    "plt.subplot(1, 2, 2)\n",
    "ax = sns.barplot(x='children', y='count', data=children_debt)\n",
    "ax.set_xlabel('the number of children the borrower has', fontsize=14)\n",
    "ax.set_ylabel(\"total number of borrowers\", fontsize=14)\n",
    "ax.set_title('number of observations for selected categories', fontsize=14)\n",
    "\n",
    "plt.subplots_adjust(hspace = 0.5, wspace=0.5, top=1, bottom=0.1, right=2)"
   ]
  },
  {
   "cell_type": "markdown",
   "id": "42f59563",
   "metadata": {},
   "source": [
    "Столбцы 1 и 2 близки по значению. Столбцы 3,4,5 имеют незначительное количество наблюдений, сделать достоверные выводы по ним не получится. Объединим столбцы 1-5.\n",
    "Сделаем группировку по столбцу `child_free`"
   ]
  },
  {
   "cell_type": "code",
   "execution_count": 26,
   "id": "e47ff6af",
   "metadata": {
    "scrolled": true
   },
   "outputs": [
    {
     "data": {
      "text/html": [
       "<div>\n",
       "<style scoped>\n",
       "    .dataframe tbody tr th:only-of-type {\n",
       "        vertical-align: middle;\n",
       "    }\n",
       "\n",
       "    .dataframe tbody tr th {\n",
       "        vertical-align: top;\n",
       "    }\n",
       "\n",
       "    .dataframe thead th {\n",
       "        text-align: right;\n",
       "    }\n",
       "</style>\n",
       "<table border=\"1\" class=\"dataframe\">\n",
       "  <thead>\n",
       "    <tr style=\"text-align: right;\">\n",
       "      <th></th>\n",
       "      <th>having_children</th>\n",
       "      <th>count</th>\n",
       "      <th>mean</th>\n",
       "    </tr>\n",
       "  </thead>\n",
       "  <tbody>\n",
       "    <tr>\n",
       "      <th>0</th>\n",
       "      <td>no</td>\n",
       "      <td>14091</td>\n",
       "      <td>0.075438</td>\n",
       "    </tr>\n",
       "    <tr>\n",
       "      <th>1</th>\n",
       "      <td>yes</td>\n",
       "      <td>7240</td>\n",
       "      <td>0.092403</td>\n",
       "    </tr>\n",
       "  </tbody>\n",
       "</table>\n",
       "</div>"
      ],
      "text/plain": [
       "  having_children  count      mean\n",
       "0              no  14091  0.075438\n",
       "1             yes   7240  0.092403"
      ]
     },
     "execution_count": 26,
     "metadata": {},
     "output_type": "execute_result"
    }
   ],
   "source": [
    "having_children_debt = data.groupby('having_children')['debt'].agg( ['count', 'mean'])\n",
    "having_children_debt.reset_index(inplace=True)\n",
    "having_children_debt"
   ]
  },
  {
   "cell_type": "code",
   "execution_count": 27,
   "id": "81f3bb0c",
   "metadata": {
    "scrolled": true
   },
   "outputs": [
    {
     "data": {
      "image/png": "[encoded data removed]",
      "text/plain": [
       "<Figure size 640x480 with 2 Axes>"
      ]
     },
     "metadata": {},
     "output_type": "display_data"
    }
   ],
   "source": [
    "plt.subplot(1, 2, 1)\n",
    "ax = sns.barplot(x='having_children', y='mean', data=having_children_debt)\n",
    "ax.set_title('dependence between the number of children\\n and loan repayment on time', fontsize=14)\n",
    "ax.set_xlabel('borrower has children', fontsize=14)\n",
    "ax.set_ylabel('average probability of delay', fontsize=14)\n",
    "\n",
    "plt.subplot(1, 2, 2)\n",
    "bx = sns.barplot(x='having_children', y='count', data=having_children_debt)\n",
    "bx.set_xlabel('borrower has children', fontsize=14)\n",
    "bx.set_ylabel(\"total number of borrowers\", fontsize=14)\n",
    "bx.set_title('number of observations for selected categories', fontsize=14)\n",
    "\n",
    "plt.subplots_adjust(hspace = 1, wspace=1, top=1, bottom=0.2, right=1.5)"
   ]
  },
  {
   "cell_type": "markdown",
   "id": "59fa54d6",
   "metadata": {},
   "source": [
    "Посчитаем соотношение просрочки кредита заемщиков с детьми к бездетным:"
   ]
  },
  {
   "cell_type": "code",
   "execution_count": 28,
   "id": "788fa699",
   "metadata": {},
   "outputs": [
    {
     "data": {
      "text/plain": [
       "0.82"
      ]
     },
     "execution_count": 28,
     "metadata": {},
     "output_type": "execute_result"
    }
   ],
   "source": [
    "round(having_children_debt.loc[0, 'mean'] / having_children_debt.loc[1, 'mean'], 2)"
   ]
  },
  {
   "cell_type": "markdown",
   "id": "f5cd2073",
   "metadata": {
    "deletable": false,
    "id": "3a6b99ec"
   },
   "source": [
    "**Вывод:** Заемщики с детьми в 1,22 раза чаще выходят на просрочку кредита"
   ]
  },
  {
   "cell_type": "markdown",
   "id": "99e6aeef",
   "metadata": {
    "deletable": false,
    "editable": false,
    "id": "97be82ca"
   },
   "source": [
    "#### 3.2 Есть ли зависимость между семейным положением и возвратом кредита в срок?"
   ]
  },
  {
   "cell_type": "code",
   "execution_count": 29,
   "id": "050f7c9f",
   "metadata": {
    "scrolled": true
   },
   "outputs": [
    {
     "data": {
      "text/html": [
       "<div>\n",
       "<style scoped>\n",
       "    .dataframe tbody tr th:only-of-type {\n",
       "        vertical-align: middle;\n",
       "    }\n",
       "\n",
       "    .dataframe tbody tr th {\n",
       "        vertical-align: top;\n",
       "    }\n",
       "\n",
       "    .dataframe thead th {\n",
       "        text-align: right;\n",
       "    }\n",
       "</style>\n",
       "<table border=\"1\" class=\"dataframe\">\n",
       "  <thead>\n",
       "    <tr style=\"text-align: right;\">\n",
       "      <th></th>\n",
       "      <th>children</th>\n",
       "      <th>days_employed</th>\n",
       "      <th>dob_years</th>\n",
       "      <th>education</th>\n",
       "      <th>education_id</th>\n",
       "      <th>family_status</th>\n",
       "      <th>family_status_id</th>\n",
       "      <th>gender</th>\n",
       "      <th>income_type</th>\n",
       "      <th>debt</th>\n",
       "      <th>total_income</th>\n",
       "      <th>purpose</th>\n",
       "      <th>total_income_category</th>\n",
       "      <th>purpose_category</th>\n",
       "      <th>having_children</th>\n",
       "    </tr>\n",
       "  </thead>\n",
       "  <tbody>\n",
       "    <tr>\n",
       "      <th>0</th>\n",
       "      <td>1</td>\n",
       "      <td>8437.673028</td>\n",
       "      <td>42</td>\n",
       "      <td>высшее</td>\n",
       "      <td>0</td>\n",
       "      <td>женат / замужем</td>\n",
       "      <td>0</td>\n",
       "      <td>F</td>\n",
       "      <td>сотрудник</td>\n",
       "      <td>0</td>\n",
       "      <td>253875</td>\n",
       "      <td>покупка жилья</td>\n",
       "      <td>B (200001–1000000)</td>\n",
       "      <td>операции с недвижимостью</td>\n",
       "      <td>yes</td>\n",
       "    </tr>\n",
       "    <tr>\n",
       "      <th>1</th>\n",
       "      <td>1</td>\n",
       "      <td>4024.803754</td>\n",
       "      <td>36</td>\n",
       "      <td>среднее</td>\n",
       "      <td>1</td>\n",
       "      <td>женат / замужем</td>\n",
       "      <td>0</td>\n",
       "      <td>F</td>\n",
       "      <td>сотрудник</td>\n",
       "      <td>0</td>\n",
       "      <td>112080</td>\n",
       "      <td>приобретение автомобиля</td>\n",
       "      <td>C (50001–200000)</td>\n",
       "      <td>операции с автомобилем</td>\n",
       "      <td>yes</td>\n",
       "    </tr>\n",
       "    <tr>\n",
       "      <th>2</th>\n",
       "      <td>0</td>\n",
       "      <td>5623.422610</td>\n",
       "      <td>33</td>\n",
       "      <td>среднее</td>\n",
       "      <td>1</td>\n",
       "      <td>женат / замужем</td>\n",
       "      <td>0</td>\n",
       "      <td>M</td>\n",
       "      <td>сотрудник</td>\n",
       "      <td>0</td>\n",
       "      <td>145885</td>\n",
       "      <td>покупка жилья</td>\n",
       "      <td>C (50001–200000)</td>\n",
       "      <td>операции с недвижимостью</td>\n",
       "      <td>no</td>\n",
       "    </tr>\n",
       "    <tr>\n",
       "      <th>3</th>\n",
       "      <td>3</td>\n",
       "      <td>4124.747207</td>\n",
       "      <td>32</td>\n",
       "      <td>среднее</td>\n",
       "      <td>1</td>\n",
       "      <td>женат / замужем</td>\n",
       "      <td>0</td>\n",
       "      <td>M</td>\n",
       "      <td>сотрудник</td>\n",
       "      <td>0</td>\n",
       "      <td>267628</td>\n",
       "      <td>дополнительное образование</td>\n",
       "      <td>B (200001–1000000)</td>\n",
       "      <td>получение образования</td>\n",
       "      <td>yes</td>\n",
       "    </tr>\n",
       "    <tr>\n",
       "      <th>4</th>\n",
       "      <td>0</td>\n",
       "      <td>340266.072047</td>\n",
       "      <td>53</td>\n",
       "      <td>среднее</td>\n",
       "      <td>1</td>\n",
       "      <td>гражданский брак</td>\n",
       "      <td>1</td>\n",
       "      <td>F</td>\n",
       "      <td>пенсионер</td>\n",
       "      <td>0</td>\n",
       "      <td>158616</td>\n",
       "      <td>сыграть свадьбу</td>\n",
       "      <td>C (50001–200000)</td>\n",
       "      <td>проведение свадьбы</td>\n",
       "      <td>no</td>\n",
       "    </tr>\n",
       "  </tbody>\n",
       "</table>\n",
       "</div>"
      ],
      "text/plain": [
       "   children  days_employed  dob_years education  education_id  \\\n",
       "0         1    8437.673028         42    высшее             0   \n",
       "1         1    4024.803754         36   среднее             1   \n",
       "2         0    5623.422610         33   среднее             1   \n",
       "3         3    4124.747207         32   среднее             1   \n",
       "4         0  340266.072047         53   среднее             1   \n",
       "\n",
       "      family_status  family_status_id gender income_type  debt  total_income  \\\n",
       "0   женат / замужем                 0      F   сотрудник     0        253875   \n",
       "1   женат / замужем                 0      F   сотрудник     0        112080   \n",
       "2   женат / замужем                 0      M   сотрудник     0        145885   \n",
       "3   женат / замужем                 0      M   сотрудник     0        267628   \n",
       "4  гражданский брак                 1      F   пенсионер     0        158616   \n",
       "\n",
       "                      purpose total_income_category          purpose_category  \\\n",
       "0               покупка жилья    B (200001–1000000)  операции с недвижимостью   \n",
       "1     приобретение автомобиля      C (50001–200000)    операции с автомобилем   \n",
       "2               покупка жилья      C (50001–200000)  операции с недвижимостью   \n",
       "3  дополнительное образование    B (200001–1000000)     получение образования   \n",
       "4             сыграть свадьбу      C (50001–200000)        проведение свадьбы   \n",
       "\n",
       "  having_children  \n",
       "0             yes  \n",
       "1             yes  \n",
       "2              no  \n",
       "3             yes  \n",
       "4              no  "
      ]
     },
     "execution_count": 29,
     "metadata": {},
     "output_type": "execute_result"
    }
   ],
   "source": [
    "data.head()"
   ]
  },
  {
   "cell_type": "markdown",
   "id": "95f333e6",
   "metadata": {
    "deletable": false,
    "id": "dc3f7ee8"
   },
   "source": [
    "Сделаем группировку по столбцу `family_status`"
   ]
  },
  {
   "cell_type": "code",
   "execution_count": 30,
   "id": "59374545",
   "metadata": {
    "scrolled": false
   },
   "outputs": [
    {
     "data": {
      "text/html": [
       "<div>\n",
       "<style scoped>\n",
       "    .dataframe tbody tr th:only-of-type {\n",
       "        vertical-align: middle;\n",
       "    }\n",
       "\n",
       "    .dataframe tbody tr th {\n",
       "        vertical-align: top;\n",
       "    }\n",
       "\n",
       "    .dataframe thead th {\n",
       "        text-align: right;\n",
       "    }\n",
       "</style>\n",
       "<table border=\"1\" class=\"dataframe\">\n",
       "  <thead>\n",
       "    <tr style=\"text-align: right;\">\n",
       "      <th></th>\n",
       "      <th>family_status</th>\n",
       "      <th>count</th>\n",
       "      <th>mean</th>\n",
       "      <th>div_mean</th>\n",
       "    </tr>\n",
       "  </thead>\n",
       "  <tbody>\n",
       "    <tr>\n",
       "      <th>2</th>\n",
       "      <td>вдовец / вдова</td>\n",
       "      <td>951</td>\n",
       "      <td>0.066246</td>\n",
       "      <td>1.000000</td>\n",
       "    </tr>\n",
       "    <tr>\n",
       "      <th>1</th>\n",
       "      <td>в разводе</td>\n",
       "      <td>1189</td>\n",
       "      <td>0.070648</td>\n",
       "      <td>1.066442</td>\n",
       "    </tr>\n",
       "    <tr>\n",
       "      <th>4</th>\n",
       "      <td>женат / замужем</td>\n",
       "      <td>12261</td>\n",
       "      <td>0.075606</td>\n",
       "      <td>1.141284</td>\n",
       "    </tr>\n",
       "    <tr>\n",
       "      <th>3</th>\n",
       "      <td>гражданский брак</td>\n",
       "      <td>4134</td>\n",
       "      <td>0.093130</td>\n",
       "      <td>1.405822</td>\n",
       "    </tr>\n",
       "    <tr>\n",
       "      <th>0</th>\n",
       "      <td>Не женат / не замужем</td>\n",
       "      <td>2796</td>\n",
       "      <td>0.097639</td>\n",
       "      <td>1.473891</td>\n",
       "    </tr>\n",
       "  </tbody>\n",
       "</table>\n",
       "</div>"
      ],
      "text/plain": [
       "           family_status  count      mean  div_mean\n",
       "2         вдовец / вдова    951  0.066246  1.000000\n",
       "1              в разводе   1189  0.070648  1.066442\n",
       "4        женат / замужем  12261  0.075606  1.141284\n",
       "3       гражданский брак   4134  0.093130  1.405822\n",
       "0  Не женат / не замужем   2796  0.097639  1.473891"
      ]
     },
     "execution_count": 30,
     "metadata": {},
     "output_type": "execute_result"
    }
   ],
   "source": [
    "family_status_debt = data.groupby('family_status')['debt'].agg( ['count', 'mean'])\n",
    "family_status_debt.reset_index(inplace=True)\n",
    "family_status_debt.sort_values('mean', inplace=True)\n",
    "family_status_debt['div_mean']  = family_status_debt['mean'] / family_status_debt['mean'].min()\n",
    "family_status_debt"
   ]
  },
  {
   "cell_type": "markdown",
   "id": "08fdc08a",
   "metadata": {},
   "source": [
    "Построим диаграмму:"
   ]
  },
  {
   "cell_type": "code",
   "execution_count": 31,
   "id": "709b89fa",
   "metadata": {
    "scrolled": true
   },
   "outputs": [
    {
     "data": {
      "image/png": "[encoded data removed]",
      "text/plain": [
       "<Figure size 640x480 with 2 Axes>"
      ]
     },
     "metadata": {},
     "output_type": "display_data"
    }
   ],
   "source": [
    "plt.subplot(1, 2, 1)\n",
    "ax = sns.barplot(x='family_status', y='mean', data=family_status_debt)\n",
    "ax.set_title('chart relationship between marital status and loan repayment on time', fontsize=14)\n",
    "ax.set_xlabel('marital status', fontsize=14)\n",
    "ax.set_ylabel('average probability of delay', fontsize=14)\n",
    "\n",
    "plt.subplot(1, 2, 2)\n",
    "bx = sns.barplot(x='family_status', y='count', data=family_status_debt)\n",
    "bx.set_ylabel(\"total number of borrowers\", fontsize=14)\n",
    "bx.set_xlabel('marital status', fontsize=14)\n",
    "bx.set_title('number of observations for selected categories', fontsize=14)\n",
    "\n",
    "plt.subplots_adjust(hspace = 1, wspace=0.2, top=1, bottom=0.2, right=3)"
   ]
  },
  {
   "cell_type": "markdown",
   "id": "9839d0cb",
   "metadata": {},
   "source": [
    "посчитаем отношение к минимальному среднему значению вероятности просрочки:"
   ]
  },
  {
   "cell_type": "code",
   "execution_count": 32,
   "id": "3886f0ec",
   "metadata": {},
   "outputs": [
    {
     "data": {
      "text/plain": [
       "2    1.000000\n",
       "1    1.066442\n",
       "4    1.141284\n",
       "3    1.405822\n",
       "0    1.473891\n",
       "Name: mean, dtype: float64"
      ]
     },
     "execution_count": 32,
     "metadata": {},
     "output_type": "execute_result"
    }
   ],
   "source": [
    "family_status_debt['mean'] / family_status_debt['mean'].min()"
   ]
  },
  {
   "cell_type": "markdown",
   "id": "a4687a4c",
   "metadata": {
    "deletable": false,
    "id": "1cef7837"
   },
   "source": [
    "**Вывод:** Вероятность просрочки возрастает от `вдовец / вдова`\tк `Не женат / не замужем` в 1,47 раза. Здесь вероятно имеется сильное смещение по возрасту, что могло повлиять результат."
   ]
  },
  {
   "cell_type": "markdown",
   "id": "d80a4e65",
   "metadata": {
    "deletable": false,
    "editable": false,
    "id": "1e8b2fca"
   },
   "source": [
    "#### 3.3 Есть ли зависимость между уровнем дохода и возвратом кредита в срок?"
   ]
  },
  {
   "cell_type": "markdown",
   "id": "5ce618a2",
   "metadata": {},
   "source": [
    "Категории дохода:\n",
    "- 0–30000 — `'E'`;\n",
    "- 30001–50000 — `'D'`;\n",
    "- 50001–200000 — `'C'`;\n",
    "- 200001–1000000 — `'B'`;\n",
    "- 1000001 и выше — `'A'`."
   ]
  },
  {
   "cell_type": "markdown",
   "id": "59ec2e3b",
   "metadata": {},
   "source": [
    "Сделаем группировку по столбцу `total_income_category`"
   ]
  },
  {
   "cell_type": "code",
   "execution_count": 33,
   "id": "89f79da4",
   "metadata": {
    "deletable": false,
    "id": "cd7e3720"
   },
   "outputs": [
    {
     "data": {
      "text/html": [
       "<div>\n",
       "<style scoped>\n",
       "    .dataframe tbody tr th:only-of-type {\n",
       "        vertical-align: middle;\n",
       "    }\n",
       "\n",
       "    .dataframe tbody tr th {\n",
       "        vertical-align: top;\n",
       "    }\n",
       "\n",
       "    .dataframe thead th {\n",
       "        text-align: right;\n",
       "    }\n",
       "</style>\n",
       "<table border=\"1\" class=\"dataframe\">\n",
       "  <thead>\n",
       "    <tr style=\"text-align: right;\">\n",
       "      <th></th>\n",
       "      <th>total_income_category</th>\n",
       "      <th>count</th>\n",
       "      <th>mean</th>\n",
       "      <th>div_mean</th>\n",
       "    </tr>\n",
       "  </thead>\n",
       "  <tbody>\n",
       "    <tr>\n",
       "      <th>3</th>\n",
       "      <td>D (30001–50000)</td>\n",
       "      <td>349</td>\n",
       "      <td>0.060172</td>\n",
       "      <td>1.000000</td>\n",
       "    </tr>\n",
       "    <tr>\n",
       "      <th>1</th>\n",
       "      <td>B (200001–1000000)</td>\n",
       "      <td>5014</td>\n",
       "      <td>0.070602</td>\n",
       "      <td>1.173343</td>\n",
       "    </tr>\n",
       "    <tr>\n",
       "      <th>0</th>\n",
       "      <td>A (1000001 и выше)</td>\n",
       "      <td>25</td>\n",
       "      <td>0.080000</td>\n",
       "      <td>1.329524</td>\n",
       "    </tr>\n",
       "    <tr>\n",
       "      <th>2</th>\n",
       "      <td>C (50001–200000)</td>\n",
       "      <td>15921</td>\n",
       "      <td>0.084982</td>\n",
       "      <td>1.412322</td>\n",
       "    </tr>\n",
       "    <tr>\n",
       "      <th>4</th>\n",
       "      <td>E (0–30000)</td>\n",
       "      <td>22</td>\n",
       "      <td>0.090909</td>\n",
       "      <td>1.510823</td>\n",
       "    </tr>\n",
       "  </tbody>\n",
       "</table>\n",
       "</div>"
      ],
      "text/plain": [
       "  total_income_category  count      mean  div_mean\n",
       "3       D (30001–50000)    349  0.060172  1.000000\n",
       "1    B (200001–1000000)   5014  0.070602  1.173343\n",
       "0    A (1000001 и выше)     25  0.080000  1.329524\n",
       "2      C (50001–200000)  15921  0.084982  1.412322\n",
       "4           E (0–30000)     22  0.090909  1.510823"
      ]
     },
     "execution_count": 33,
     "metadata": {},
     "output_type": "execute_result"
    }
   ],
   "source": [
    "income_debt = data.groupby('total_income_category')['debt'].agg( ['count', 'mean'])\n",
    "income_debt.reset_index(inplace=True)\n",
    "income_debt.sort_values('mean', inplace=True)\n",
    "income_debt['div_mean']  = income_debt['mean'] / income_debt['mean'].min()\n",
    "income_debt"
   ]
  },
  {
   "cell_type": "markdown",
   "id": "1f0c3960",
   "metadata": {},
   "source": [
    "Построим диаграмму:"
   ]
  },
  {
   "cell_type": "code",
   "execution_count": 34,
   "id": "935fb93e",
   "metadata": {
    "scrolled": true
   },
   "outputs": [
    {
     "data": {
      "image/png": "[encoded data removed]",
      "text/plain": [
       "<Figure size 640x480 with 2 Axes>"
      ]
     },
     "metadata": {},
     "output_type": "display_data"
    }
   ],
   "source": [
    "plt.subplot(1, 2, 1)\n",
    "ax = sns.barplot(x='total_income_category', y='mean', data=income_debt)\n",
    "ax.set_title('the relationship between income and loan repayment on time', fontsize=14)\n",
    "ax.set_xlabel('income level', fontsize=14)\n",
    "ax.set_ylabel('average probability of delay', fontsize=14)\n",
    "\n",
    "plt.subplot(1, 2, 2)\n",
    "bx = sns.barplot(x='total_income_category', y='count', data=income_debt)\n",
    "bx.set_ylabel(\"total number of borrowers\", fontsize=12)\n",
    "bx.set_xlabel('income level', fontsize=14)\n",
    "bx.set_title('number of observations for selected categories', fontsize=14)\n",
    "\n",
    "plt.subplots_adjust(hspace = 1, wspace=0.2, top=1, bottom=0.1, right=3)"
   ]
  },
  {
   "cell_type": "markdown",
   "id": "049ce005",
   "metadata": {},
   "source": [
    "По категориям А, D и Е недостаточно данных для достоверного анализа. Оставим только выборки с количеством наблюдений больше 500"
   ]
  },
  {
   "cell_type": "code",
   "execution_count": 41,
   "id": "fc732527",
   "metadata": {},
   "outputs": [],
   "source": [
    "income_debt_reliably = income_debt.loc[income_debt['count'] > 500].copy()"
   ]
  },
  {
   "cell_type": "code",
   "execution_count": 42,
   "id": "465b0cd5",
   "metadata": {},
   "outputs": [
    {
     "data": {
      "text/html": [
       "<div>\n",
       "<style scoped>\n",
       "    .dataframe tbody tr th:only-of-type {\n",
       "        vertical-align: middle;\n",
       "    }\n",
       "\n",
       "    .dataframe tbody tr th {\n",
       "        vertical-align: top;\n",
       "    }\n",
       "\n",
       "    .dataframe thead th {\n",
       "        text-align: right;\n",
       "    }\n",
       "</style>\n",
       "<table border=\"1\" class=\"dataframe\">\n",
       "  <thead>\n",
       "    <tr style=\"text-align: right;\">\n",
       "      <th></th>\n",
       "      <th>total_income_category</th>\n",
       "      <th>count</th>\n",
       "      <th>mean</th>\n",
       "      <th>div_mean</th>\n",
       "    </tr>\n",
       "  </thead>\n",
       "  <tbody>\n",
       "    <tr>\n",
       "      <th>1</th>\n",
       "      <td>B (200001–1000000)</td>\n",
       "      <td>5014</td>\n",
       "      <td>0.070602</td>\n",
       "      <td>0.000000</td>\n",
       "    </tr>\n",
       "    <tr>\n",
       "      <th>2</th>\n",
       "      <td>C (50001–200000)</td>\n",
       "      <td>15921</td>\n",
       "      <td>0.084982</td>\n",
       "      <td>0.203673</td>\n",
       "    </tr>\n",
       "  </tbody>\n",
       "</table>\n",
       "</div>"
      ],
      "text/plain": [
       "  total_income_category  count      mean  div_mean\n",
       "1    B (200001–1000000)   5014  0.070602  0.000000\n",
       "2      C (50001–200000)  15921  0.084982  0.203673"
      ]
     },
     "execution_count": 42,
     "metadata": {},
     "output_type": "execute_result"
    }
   ],
   "source": [
    "income_debt_reliably['div_mean']  = income_debt_reliably['mean'] / (income_debt_reliably['mean'].min()) - 1\n",
    "income_debt_reliably"
   ]
  },
  {
   "cell_type": "markdown",
   "id": "c51c919c",
   "metadata": {},
   "source": [
    "Построим диаграмму:"
   ]
  },
  {
   "cell_type": "code",
   "execution_count": 43,
   "id": "e0f52b5b",
   "metadata": {},
   "outputs": [
    {
     "data": {
      "text/plain": [
       "Text(0, 0.5, 'average probability of delay')"
      ]
     },
     "execution_count": 43,
     "metadata": {},
     "output_type": "execute_result"
    },
    {
     "data": {
      "image/png": "[encoded data removed]",
      "text/plain": [
       "<Figure size 640x480 with 1 Axes>"
      ]
     },
     "metadata": {},
     "output_type": "display_data"
    }
   ],
   "source": [
    "ax = sns.barplot(x='total_income_category', y='mean', data=income_debt_reliably)\n",
    "ax.set_title('the relationship between income and loan repayment on time', fontsize=14)\n",
    "ax.set_xlabel('income level', fontsize=14)\n",
    "ax.set_ylabel('average probability of delay', fontsize=14)"
   ]
  },
  {
   "cell_type": "markdown",
   "id": "992e07ee",
   "metadata": {
    "deletable": false,
    "id": "e8593def"
   },
   "source": [
    "**Вывод:** По категориям В и С можно сделать вывод о увеличении вероятности просрочки в 1,2 раза с  уменьшением дохода с `200001–1000000 — 'B'`  до  `50001–200000 — 'C'`"
   ]
  },
  {
   "cell_type": "markdown",
   "id": "73e5cb81",
   "metadata": {
    "deletable": false,
    "editable": false,
    "id": "99ecbd1f"
   },
   "source": [
    "#### 3.4 Как разные цели кредита влияют на его возврат в срок?"
   ]
  },
  {
   "cell_type": "markdown",
   "id": "199fb20b",
   "metadata": {},
   "source": [
    "Сделаем группировку по столбцу `purpose_category`"
   ]
  },
  {
   "cell_type": "code",
   "execution_count": 44,
   "id": "378e1d7a",
   "metadata": {
    "deletable": false,
    "id": "2b687290",
    "scrolled": false
   },
   "outputs": [
    {
     "data": {
      "text/html": [
       "<div>\n",
       "<style scoped>\n",
       "    .dataframe tbody tr th:only-of-type {\n",
       "        vertical-align: middle;\n",
       "    }\n",
       "\n",
       "    .dataframe tbody tr th {\n",
       "        vertical-align: top;\n",
       "    }\n",
       "\n",
       "    .dataframe thead th {\n",
       "        text-align: right;\n",
       "    }\n",
       "</style>\n",
       "<table border=\"1\" class=\"dataframe\">\n",
       "  <thead>\n",
       "    <tr style=\"text-align: right;\">\n",
       "      <th></th>\n",
       "      <th>purpose_category</th>\n",
       "      <th>count</th>\n",
       "      <th>mean</th>\n",
       "      <th>div_mean</th>\n",
       "    </tr>\n",
       "  </thead>\n",
       "  <tbody>\n",
       "    <tr>\n",
       "      <th>1</th>\n",
       "      <td>операции с недвижимостью</td>\n",
       "      <td>10751</td>\n",
       "      <td>0.072551</td>\n",
       "      <td>1.000000</td>\n",
       "    </tr>\n",
       "    <tr>\n",
       "      <th>3</th>\n",
       "      <td>проведение свадьбы</td>\n",
       "      <td>2313</td>\n",
       "      <td>0.079118</td>\n",
       "      <td>1.090510</td>\n",
       "    </tr>\n",
       "    <tr>\n",
       "      <th>2</th>\n",
       "      <td>получение образования</td>\n",
       "      <td>3988</td>\n",
       "      <td>0.092528</td>\n",
       "      <td>1.275339</td>\n",
       "    </tr>\n",
       "    <tr>\n",
       "      <th>0</th>\n",
       "      <td>операции с автомобилем</td>\n",
       "      <td>4279</td>\n",
       "      <td>0.093480</td>\n",
       "      <td>1.288463</td>\n",
       "    </tr>\n",
       "  </tbody>\n",
       "</table>\n",
       "</div>"
      ],
      "text/plain": [
       "           purpose_category  count      mean  div_mean\n",
       "1  операции с недвижимостью  10751  0.072551  1.000000\n",
       "3        проведение свадьбы   2313  0.079118  1.090510\n",
       "2     получение образования   3988  0.092528  1.275339\n",
       "0    операции с автомобилем   4279  0.093480  1.288463"
      ]
     },
     "execution_count": 44,
     "metadata": {},
     "output_type": "execute_result"
    }
   ],
   "source": [
    "purpose_debt = data.groupby('purpose_category')['debt'].agg( ['count', 'mean'])\n",
    "purpose_debt.reset_index(inplace=True)\n",
    "purpose_debt.sort_values('mean', inplace=True)\n",
    "purpose_debt['div_mean'] = purpose_debt['mean'] / purpose_debt['mean'].min()\n",
    "purpose_debt"
   ]
  },
  {
   "cell_type": "markdown",
   "id": "cffa6c08",
   "metadata": {},
   "source": [
    "Построим диаграмму:"
   ]
  },
  {
   "cell_type": "code",
   "execution_count": 45,
   "id": "104b43c8",
   "metadata": {},
   "outputs": [
    {
     "data": {
      "image/png": "[encoded data removed]",
      "text/plain": [
       "<Figure size 640x480 with 2 Axes>"
      ]
     },
     "metadata": {},
     "output_type": "display_data"
    }
   ],
   "source": [
    "plt.subplot(1, 2, 1)\n",
    "ax = sns.barplot(x='purpose_category', y='mean', data=purpose_debt)\n",
    "ax.set_title('the relationship between income and loan repayment on time', fontsize=14)\n",
    "ax.set_xlabel('income level', fontsize=14)\n",
    "ax.set_ylabel('average probability of delay', fontsize=14)\n",
    "\n",
    "plt.subplot(1, 2, 2)\n",
    "bx = sns.barplot(x='purpose_category', y='count', data=purpose_debt)\n",
    "bx.set_ylabel(\"total number of borrowers\", fontsize=12)\n",
    "bx.set_xlabel('income level', fontsize=14)\n",
    "bx.set_title('number of observations for selected categories', fontsize=14)\n",
    "\n",
    "plt.subplots_adjust(hspace = 1, wspace=0.2, top=1, bottom=0.1, right=3)"
   ]
  },
  {
   "cell_type": "markdown",
   "id": "372cf2f7",
   "metadata": {
    "deletable": false,
    "id": "b4bb2ce6"
   },
   "source": [
    "**Вывод:** У нас есть достаточное количество наблюдений по всем категориям для анализа. Наименее рисковые кредиты выдают на `операции с недвижимостью`, риск повышается на 28% на `получение образования` и `операции с автомобилем`"
   ]
  },
  {
   "cell_type": "markdown",
   "id": "fcd912ee",
   "metadata": {
    "deletable": false,
    "editable": false,
    "id": "09c3ac4c"
   },
   "source": [
    "#### 3.5 возможные причины появления пропусков в исходных данных."
   ]
  },
  {
   "cell_type": "markdown",
   "id": "12651991",
   "metadata": {
    "deletable": false,
    "id": "9da2ceda"
   },
   "source": [
    "Вероятно данные не предоставлены клиентом или из-за технических ошибок (например, при выгрузке данных)"
   ]
  },
  {
   "cell_type": "markdown",
   "id": "33de64ed",
   "metadata": {
    "deletable": false,
    "editable": false,
    "id": "6db5255a"
   },
   "source": [
    "### Шаг 4: общий вывод."
   ]
  },
  {
   "cell_type": "markdown",
   "id": "54e26271",
   "metadata": {
    "deletable": false,
    "id": "bad65432"
   },
   "source": [
    "Для выполнения поставленной задачи о влиянии семейного положения и количества детей клиента банка на факт погашения кредита в срок был проведен анализ статистики о платёжеспособности клиентов.  \n",
    "Была проведена предобработка данных: удалили пропуски, дубликаты, добавили новые категории.\n",
    "\n",
    "Для анализа количества детей клиента на факт погашения кредита в срок добавили категорию `наличия / отсутствия детей`, так как выборки на 3,4,5 детей были слишком малы для достоверного вывода, а выборки на 1 и 2 ребенка показали близкие результаты.   \n",
    "\n",
    "Выявлены следующие тендеции: \n",
    "- заемщики с детьми в среднем в 1,22 раза чаще выходят на просрочку кредита\n",
    "- анализ влияния семейного положения показал большой разброс вероятности нарушения срока оплаты по категориям\n",
    "- увеличениe вероятности просрочки от `вдовец / вдова` к `Не женат / не замужем` в 1,47 раза.\n",
    "- увеличениe вероятности просрочки в 1,2 раза с  уменьшением диапазона дохода с `200001–1000000  до  `50001–200000`\n",
    "- наименее рисковые кредиты выдают на `операции с недвижимостью`, риск повышается на 28% на `получение образования` и `операции с автомобилем`\n",
    "\n",
    "Мы наблюдаем сильно выраженные зависимости кредитного риска от принадлежности к определенной категории. Применение роботов для решения о выдаче кредита снизит риски неплатежей и даст высокий экономический эффект."
   ]
  },
  {
   "cell_type": "code",
   "execution_count": null,
   "id": "51665ca8",
   "metadata": {},
   "outputs": [],
   "source": []
  }
 ],
 "metadata": {
  "ExecuteTimeLog": [
   {
    "duration": 502,
    "start_time": "2022-10-25T21:30:08.747Z"
   },
   {
    "duration": 22,
    "start_time": "2022-10-25T21:30:09.251Z"
   },
   {
    "duration": 15,
    "start_time": "2022-10-25T21:30:09.275Z"
   },
   {
    "duration": 11,
    "start_time": "2022-10-25T21:30:09.292Z"
   },
   {
    "duration": 63,
    "start_time": "2022-10-25T21:30:09.304Z"
   },
   {
    "duration": 4,
    "start_time": "2022-10-25T21:30:09.368Z"
   },
   {
    "duration": 10,
    "start_time": "2022-10-25T21:30:09.374Z"
   },
   {
    "duration": 4,
    "start_time": "2022-10-25T21:30:09.386Z"
   },
   {
    "duration": 13,
    "start_time": "2022-10-25T21:30:09.392Z"
   },
   {
    "duration": 5,
    "start_time": "2022-10-25T21:30:09.407Z"
   },
   {
    "duration": 52,
    "start_time": "2022-10-25T21:30:09.413Z"
   },
   {
    "duration": 9,
    "start_time": "2022-10-25T21:30:09.467Z"
   },
   {
    "duration": 14,
    "start_time": "2022-10-25T21:30:09.478Z"
   },
   {
    "duration": 18,
    "start_time": "2022-10-25T21:30:09.494Z"
   },
   {
    "duration": 32,
    "start_time": "2022-10-25T21:30:09.513Z"
   },
   {
    "duration": 16,
    "start_time": "2022-10-25T21:30:09.547Z"
   },
   {
    "duration": 3,
    "start_time": "2022-10-25T21:30:09.565Z"
   },
   {
    "duration": 17,
    "start_time": "2022-10-25T21:30:09.570Z"
   },
   {
    "duration": 9,
    "start_time": "2022-10-25T21:30:09.589Z"
   },
   {
    "duration": 5,
    "start_time": "2022-10-25T21:30:09.600Z"
   },
   {
    "duration": 32,
    "start_time": "2022-10-25T21:30:09.606Z"
   },
   {
    "duration": 52,
    "start_time": "2022-10-26T05:31:30.039Z"
   },
   {
    "duration": 742,
    "start_time": "2022-10-26T05:31:38.080Z"
   },
   {
    "duration": 22,
    "start_time": "2022-10-26T05:31:38.824Z"
   },
   {
    "duration": 13,
    "start_time": "2022-10-26T05:31:38.847Z"
   },
   {
    "duration": 16,
    "start_time": "2022-10-26T05:31:38.863Z"
   },
   {
    "duration": 66,
    "start_time": "2022-10-26T05:31:38.881Z"
   },
   {
    "duration": 5,
    "start_time": "2022-10-26T05:31:38.949Z"
   },
   {
    "duration": 12,
    "start_time": "2022-10-26T05:31:38.956Z"
   },
   {
    "duration": 7,
    "start_time": "2022-10-26T05:31:38.970Z"
   },
   {
    "duration": 30,
    "start_time": "2022-10-26T05:31:38.979Z"
   },
   {
    "duration": 7,
    "start_time": "2022-10-26T05:31:39.012Z"
   },
   {
    "duration": 36,
    "start_time": "2022-10-26T05:31:39.020Z"
   },
   {
    "duration": 9,
    "start_time": "2022-10-26T05:31:39.058Z"
   },
   {
    "duration": 7,
    "start_time": "2022-10-26T05:31:39.069Z"
   },
   {
    "duration": 35,
    "start_time": "2022-10-26T05:31:39.078Z"
   },
   {
    "duration": 24,
    "start_time": "2022-10-26T05:31:39.114Z"
   },
   {
    "duration": 22,
    "start_time": "2022-10-26T05:31:39.140Z"
   },
   {
    "duration": 4,
    "start_time": "2022-10-26T05:31:39.163Z"
   },
   {
    "duration": 40,
    "start_time": "2022-10-26T05:31:39.169Z"
   },
   {
    "duration": 12,
    "start_time": "2022-10-26T05:31:39.211Z"
   },
   {
    "duration": 8,
    "start_time": "2022-10-26T05:31:39.224Z"
   },
   {
    "duration": 13,
    "start_time": "2022-10-26T05:31:39.234Z"
   },
   {
    "duration": 15,
    "start_time": "2022-10-26T05:31:39.249Z"
   },
   {
    "duration": 22,
    "start_time": "2022-10-26T05:31:41.930Z"
   },
   {
    "duration": 6,
    "start_time": "2022-10-26T05:38:19.447Z"
   },
   {
    "duration": 8,
    "start_time": "2022-10-26T05:52:16.670Z"
   },
   {
    "duration": 6,
    "start_time": "2022-10-26T05:53:00.767Z"
   },
   {
    "duration": 9,
    "start_time": "2022-10-26T06:09:01.136Z"
   },
   {
    "duration": 14,
    "start_time": "2022-10-26T06:09:36.244Z"
   },
   {
    "duration": 33,
    "start_time": "2022-10-26T06:18:38.550Z"
   },
   {
    "duration": 922,
    "start_time": "2022-10-26T06:18:45.414Z"
   },
   {
    "duration": 78,
    "start_time": "2022-10-26T06:18:47.838Z"
   },
   {
    "duration": 11,
    "start_time": "2022-10-26T06:19:48.775Z"
   },
   {
    "duration": 16,
    "start_time": "2022-10-26T06:26:44.899Z"
   },
   {
    "duration": 10,
    "start_time": "2022-10-26T06:28:22.796Z"
   },
   {
    "duration": 13,
    "start_time": "2022-10-26T06:32:07.148Z"
   },
   {
    "duration": 63,
    "start_time": "2022-10-26T11:40:25.804Z"
   },
   {
    "duration": 662,
    "start_time": "2022-10-26T11:40:35.263Z"
   },
   {
    "duration": 21,
    "start_time": "2022-10-26T11:40:35.926Z"
   },
   {
    "duration": 14,
    "start_time": "2022-10-26T11:40:35.949Z"
   },
   {
    "duration": 14,
    "start_time": "2022-10-26T11:40:35.964Z"
   },
   {
    "duration": 41,
    "start_time": "2022-10-26T11:40:35.979Z"
   },
   {
    "duration": 3,
    "start_time": "2022-10-26T11:40:36.022Z"
   },
   {
    "duration": 17,
    "start_time": "2022-10-26T11:40:36.027Z"
   },
   {
    "duration": 10,
    "start_time": "2022-10-26T11:40:36.046Z"
   },
   {
    "duration": 11,
    "start_time": "2022-10-26T11:40:36.057Z"
   },
   {
    "duration": 9,
    "start_time": "2022-10-26T11:40:36.071Z"
   },
   {
    "duration": 49,
    "start_time": "2022-10-26T11:40:36.082Z"
   },
   {
    "duration": 8,
    "start_time": "2022-10-26T11:40:36.133Z"
   },
   {
    "duration": 8,
    "start_time": "2022-10-26T11:40:36.143Z"
   },
   {
    "duration": 24,
    "start_time": "2022-10-26T11:40:36.152Z"
   },
   {
    "duration": 62,
    "start_time": "2022-10-26T11:40:36.177Z"
   },
   {
    "duration": 16,
    "start_time": "2022-10-26T11:40:36.240Z"
   },
   {
    "duration": 2,
    "start_time": "2022-10-26T11:40:36.258Z"
   },
   {
    "duration": 30,
    "start_time": "2022-10-26T11:40:36.262Z"
   },
   {
    "duration": 28,
    "start_time": "2022-10-26T11:40:36.294Z"
   },
   {
    "duration": 10,
    "start_time": "2022-10-26T11:40:36.324Z"
   },
   {
    "duration": 23,
    "start_time": "2022-10-26T11:40:36.336Z"
   },
   {
    "duration": 868,
    "start_time": "2022-10-26T11:40:36.360Z"
   },
   {
    "duration": 9,
    "start_time": "2022-10-26T11:40:39.123Z"
   },
   {
    "duration": 8,
    "start_time": "2022-10-26T11:41:00.300Z"
   },
   {
    "duration": 9,
    "start_time": "2022-10-26T11:41:06.980Z"
   },
   {
    "duration": 169,
    "start_time": "2022-10-26T11:41:20.357Z"
   },
   {
    "duration": 163,
    "start_time": "2022-10-26T11:41:36.445Z"
   },
   {
    "duration": 4,
    "start_time": "2022-10-26T12:23:58.040Z"
   },
   {
    "duration": 21,
    "start_time": "2022-10-26T12:24:07.104Z"
   },
   {
    "duration": 12,
    "start_time": "2022-10-26T12:24:16.162Z"
   },
   {
    "duration": 17,
    "start_time": "2022-10-26T12:30:18.022Z"
   },
   {
    "duration": 17,
    "start_time": "2022-10-26T12:30:21.250Z"
   },
   {
    "duration": 68,
    "start_time": "2022-10-26T12:30:52.717Z"
   },
   {
    "duration": 14,
    "start_time": "2022-10-26T12:30:52.787Z"
   },
   {
    "duration": 43,
    "start_time": "2022-10-26T12:30:52.803Z"
   },
   {
    "duration": 26,
    "start_time": "2022-10-26T12:30:52.849Z"
   },
   {
    "duration": 93,
    "start_time": "2022-10-26T12:30:52.877Z"
   },
   {
    "duration": 6,
    "start_time": "2022-10-26T12:30:52.972Z"
   },
   {
    "duration": 28,
    "start_time": "2022-10-26T12:30:52.980Z"
   },
   {
    "duration": 29,
    "start_time": "2022-10-26T12:30:53.009Z"
   },
   {
    "duration": 37,
    "start_time": "2022-10-26T12:30:53.040Z"
   },
   {
    "duration": 43,
    "start_time": "2022-10-26T12:30:53.080Z"
   },
   {
    "duration": 57,
    "start_time": "2022-10-26T12:30:53.125Z"
   },
   {
    "duration": 22,
    "start_time": "2022-10-26T12:30:53.184Z"
   },
   {
    "duration": 28,
    "start_time": "2022-10-26T12:30:53.208Z"
   },
   {
    "duration": 38,
    "start_time": "2022-10-26T12:30:53.238Z"
   },
   {
    "duration": 67,
    "start_time": "2022-10-26T12:30:53.278Z"
   },
   {
    "duration": 28,
    "start_time": "2022-10-26T12:30:53.347Z"
   },
   {
    "duration": 20,
    "start_time": "2022-10-26T12:30:53.376Z"
   },
   {
    "duration": 51,
    "start_time": "2022-10-26T12:30:53.398Z"
   },
   {
    "duration": 33,
    "start_time": "2022-10-26T12:30:53.451Z"
   },
   {
    "duration": 14,
    "start_time": "2022-10-26T12:30:53.486Z"
   },
   {
    "duration": 58,
    "start_time": "2022-10-26T12:30:53.502Z"
   },
   {
    "duration": 40,
    "start_time": "2022-10-26T12:30:53.562Z"
   },
   {
    "duration": 32,
    "start_time": "2022-10-26T12:30:53.604Z"
   },
   {
    "duration": 10,
    "start_time": "2022-10-26T12:30:59.380Z"
   },
   {
    "duration": 14,
    "start_time": "2022-10-26T12:35:23.404Z"
   },
   {
    "duration": 5,
    "start_time": "2022-10-26T12:40:54.814Z"
   },
   {
    "duration": 12,
    "start_time": "2022-10-26T12:41:00.247Z"
   },
   {
    "duration": 7,
    "start_time": "2022-10-26T12:50:27.114Z"
   },
   {
    "duration": 2,
    "start_time": "2022-10-26T12:50:36.891Z"
   },
   {
    "duration": 3,
    "start_time": "2022-10-26T12:51:09.498Z"
   },
   {
    "duration": 7,
    "start_time": "2022-10-26T12:51:11.386Z"
   },
   {
    "duration": 20,
    "start_time": "2022-10-26T12:51:26.284Z"
   },
   {
    "duration": 12,
    "start_time": "2022-10-26T12:52:32.580Z"
   },
   {
    "duration": 12,
    "start_time": "2022-10-26T12:58:04.680Z"
   },
   {
    "duration": 12,
    "start_time": "2022-10-26T12:58:13.535Z"
   },
   {
    "duration": 154,
    "start_time": "2022-10-26T13:13:18.425Z"
   },
   {
    "duration": 3,
    "start_time": "2022-10-26T13:13:42.342Z"
   },
   {
    "duration": 59,
    "start_time": "2022-10-26T13:14:20.217Z"
   },
   {
    "duration": 3,
    "start_time": "2022-10-26T13:15:44.537Z"
   },
   {
    "duration": 211,
    "start_time": "2022-10-26T13:15:52.248Z"
   },
   {
    "duration": 142,
    "start_time": "2022-10-26T13:22:27.836Z"
   },
   {
    "duration": 208,
    "start_time": "2022-10-26T13:22:34.548Z"
   },
   {
    "duration": 279,
    "start_time": "2022-10-26T13:37:45.515Z"
   },
   {
    "duration": 2,
    "start_time": "2022-10-26T13:38:25.235Z"
   },
   {
    "duration": 203,
    "start_time": "2022-10-26T13:38:31.339Z"
   },
   {
    "duration": 252,
    "start_time": "2022-10-26T13:57:31.894Z"
   },
   {
    "duration": 217,
    "start_time": "2022-10-26T13:57:42.880Z"
   },
   {
    "duration": 11,
    "start_time": "2022-10-26T14:00:09.575Z"
   },
   {
    "duration": 11,
    "start_time": "2022-10-26T14:01:16.489Z"
   },
   {
    "duration": 156,
    "start_time": "2022-10-26T14:02:55.227Z"
   },
   {
    "duration": 4,
    "start_time": "2022-10-26T14:12:08.406Z"
   },
   {
    "duration": 5,
    "start_time": "2022-10-26T14:12:27.607Z"
   },
   {
    "duration": 5,
    "start_time": "2022-10-26T14:15:48.672Z"
   },
   {
    "duration": 5,
    "start_time": "2022-10-26T14:16:03.943Z"
   },
   {
    "duration": 234,
    "start_time": "2022-10-26T14:19:17.314Z"
   },
   {
    "duration": 234,
    "start_time": "2022-10-26T14:27:06.398Z"
   },
   {
    "duration": 357,
    "start_time": "2022-10-26T14:29:27.589Z"
   },
   {
    "duration": 237,
    "start_time": "2022-10-26T14:30:02.911Z"
   },
   {
    "duration": 229,
    "start_time": "2022-10-26T14:33:23.812Z"
   },
   {
    "duration": 204,
    "start_time": "2022-10-26T14:33:37.087Z"
   },
   {
    "duration": 208,
    "start_time": "2022-10-26T14:33:49.456Z"
   },
   {
    "duration": 213,
    "start_time": "2022-10-26T14:33:59.991Z"
   },
   {
    "duration": 211,
    "start_time": "2022-10-26T14:34:14.817Z"
   },
   {
    "duration": 6,
    "start_time": "2022-10-26T14:37:48.795Z"
   },
   {
    "duration": 765,
    "start_time": "2022-10-26T14:39:10.213Z"
   },
   {
    "duration": 16,
    "start_time": "2022-10-26T14:39:43.090Z"
   },
   {
    "duration": 4,
    "start_time": "2022-10-26T14:41:22.957Z"
   },
   {
    "duration": 12,
    "start_time": "2022-10-26T14:42:15.413Z"
   },
   {
    "duration": 11,
    "start_time": "2022-10-26T14:44:48.446Z"
   },
   {
    "duration": 16,
    "start_time": "2022-10-26T14:45:49.718Z"
   },
   {
    "duration": 10,
    "start_time": "2022-10-26T14:49:09.233Z"
   },
   {
    "duration": 255,
    "start_time": "2022-10-26T15:26:36.543Z"
   },
   {
    "duration": 9,
    "start_time": "2022-10-26T15:27:56.431Z"
   },
   {
    "duration": 97,
    "start_time": "2022-10-26T15:28:56.312Z"
   },
   {
    "duration": 12,
    "start_time": "2022-10-26T15:29:43.047Z"
   },
   {
    "duration": 191,
    "start_time": "2022-10-26T15:29:44.927Z"
   },
   {
    "duration": 12,
    "start_time": "2022-10-26T15:35:10.868Z"
   },
   {
    "duration": 12,
    "start_time": "2022-10-26T15:35:51.142Z"
   },
   {
    "duration": 12,
    "start_time": "2022-10-26T15:36:01.179Z"
   },
   {
    "duration": 11,
    "start_time": "2022-10-26T15:36:32.298Z"
   },
   {
    "duration": 201,
    "start_time": "2022-10-26T15:37:49.451Z"
   },
   {
    "duration": 14,
    "start_time": "2022-10-26T15:38:30.460Z"
   },
   {
    "duration": 124,
    "start_time": "2022-10-26T15:39:02.124Z"
   },
   {
    "duration": 228,
    "start_time": "2022-10-26T15:39:10.133Z"
   },
   {
    "duration": 216,
    "start_time": "2022-10-26T15:39:33.700Z"
   },
   {
    "duration": 208,
    "start_time": "2022-10-26T15:39:50.036Z"
   },
   {
    "duration": 214,
    "start_time": "2022-10-26T15:39:54.836Z"
   },
   {
    "duration": 218,
    "start_time": "2022-10-26T15:40:26.246Z"
   },
   {
    "duration": 711,
    "start_time": "2022-10-26T17:54:19.575Z"
   },
   {
    "duration": 22,
    "start_time": "2022-10-26T17:54:20.288Z"
   },
   {
    "duration": 14,
    "start_time": "2022-10-26T17:54:20.312Z"
   },
   {
    "duration": 9,
    "start_time": "2022-10-26T17:54:20.328Z"
   },
   {
    "duration": 35,
    "start_time": "2022-10-26T17:54:20.339Z"
   },
   {
    "duration": 3,
    "start_time": "2022-10-26T17:54:20.375Z"
   },
   {
    "duration": 31,
    "start_time": "2022-10-26T17:54:20.380Z"
   },
   {
    "duration": 30,
    "start_time": "2022-10-26T17:54:20.412Z"
   },
   {
    "duration": 33,
    "start_time": "2022-10-26T17:54:20.443Z"
   },
   {
    "duration": 15,
    "start_time": "2022-10-26T17:54:20.478Z"
   },
   {
    "duration": 44,
    "start_time": "2022-10-26T17:54:20.494Z"
   },
   {
    "duration": 24,
    "start_time": "2022-10-26T17:54:20.540Z"
   },
   {
    "duration": 17,
    "start_time": "2022-10-26T17:54:20.566Z"
   },
   {
    "duration": 28,
    "start_time": "2022-10-26T17:54:20.584Z"
   },
   {
    "duration": 46,
    "start_time": "2022-10-26T17:54:20.613Z"
   },
   {
    "duration": 18,
    "start_time": "2022-10-26T17:54:20.661Z"
   },
   {
    "duration": 4,
    "start_time": "2022-10-26T17:54:20.681Z"
   },
   {
    "duration": 32,
    "start_time": "2022-10-26T17:54:20.687Z"
   },
   {
    "duration": 20,
    "start_time": "2022-10-26T17:54:20.720Z"
   },
   {
    "duration": 9,
    "start_time": "2022-10-26T17:54:20.742Z"
   },
   {
    "duration": 28,
    "start_time": "2022-10-26T17:54:20.752Z"
   },
   {
    "duration": 978,
    "start_time": "2022-10-26T17:54:20.782Z"
   },
   {
    "duration": 7,
    "start_time": "2022-10-26T17:54:21.761Z"
   },
   {
    "duration": 31,
    "start_time": "2022-10-26T17:54:21.769Z"
   },
   {
    "duration": 261,
    "start_time": "2022-10-26T17:54:21.803Z"
   },
   {
    "duration": 12,
    "start_time": "2022-10-26T17:54:22.065Z"
   },
   {
    "duration": 177,
    "start_time": "2022-10-26T17:54:22.078Z"
   },
   {
    "duration": 4,
    "start_time": "2022-10-26T17:54:22.259Z"
   },
   {
    "duration": 25,
    "start_time": "2022-10-26T17:54:22.264Z"
   },
   {
    "duration": 32,
    "start_time": "2022-10-26T17:54:22.291Z"
   },
   {
    "duration": 13,
    "start_time": "2022-10-26T17:54:22.325Z"
   },
   {
    "duration": 228,
    "start_time": "2022-10-26T17:54:25.895Z"
   },
   {
    "duration": 203,
    "start_time": "2022-10-26T17:54:34.752Z"
   },
   {
    "duration": 204,
    "start_time": "2022-10-26T17:55:38.873Z"
   },
   {
    "duration": 362,
    "start_time": "2022-10-26T17:55:44.185Z"
   },
   {
    "duration": 266,
    "start_time": "2022-10-26T17:55:51.630Z"
   },
   {
    "duration": 303,
    "start_time": "2022-10-26T17:55:56.819Z"
   },
   {
    "duration": 258,
    "start_time": "2022-10-26T17:56:26.130Z"
   },
   {
    "duration": 243,
    "start_time": "2022-10-26T17:56:32.490Z"
   },
   {
    "duration": 236,
    "start_time": "2022-10-26T17:56:44.850Z"
   },
   {
    "duration": 237,
    "start_time": "2022-10-26T17:57:42.203Z"
   },
   {
    "duration": 57,
    "start_time": "2022-10-26T19:33:09.417Z"
   },
   {
    "duration": 4,
    "start_time": "2022-10-26T21:06:00.493Z"
   },
   {
    "duration": 5,
    "start_time": "2022-10-26T21:06:46.121Z"
   },
   {
    "duration": 13,
    "start_time": "2022-10-26T21:13:42.451Z"
   },
   {
    "duration": 217,
    "start_time": "2022-10-26T21:15:16.880Z"
   },
   {
    "duration": 162,
    "start_time": "2022-10-26T21:19:34.854Z"
   },
   {
    "duration": 292,
    "start_time": "2022-10-26T21:20:25.927Z"
   },
   {
    "duration": 364,
    "start_time": "2022-10-26T21:21:08.998Z"
   },
   {
    "duration": 240,
    "start_time": "2022-10-26T21:22:48.442Z"
   },
   {
    "duration": 236,
    "start_time": "2022-10-26T21:23:22.449Z"
   },
   {
    "duration": 13,
    "start_time": "2022-10-26T21:35:03.905Z"
   },
   {
    "duration": 697,
    "start_time": "2022-10-27T05:29:51.831Z"
   },
   {
    "duration": 22,
    "start_time": "2022-10-27T05:29:52.530Z"
   },
   {
    "duration": 14,
    "start_time": "2022-10-27T05:29:52.553Z"
   },
   {
    "duration": 9,
    "start_time": "2022-10-27T05:29:52.569Z"
   },
   {
    "duration": 42,
    "start_time": "2022-10-27T05:29:52.579Z"
   },
   {
    "duration": 3,
    "start_time": "2022-10-27T05:29:52.622Z"
   },
   {
    "duration": 12,
    "start_time": "2022-10-27T05:29:52.627Z"
   },
   {
    "duration": 4,
    "start_time": "2022-10-27T05:29:52.640Z"
   },
   {
    "duration": 8,
    "start_time": "2022-10-27T05:29:52.645Z"
   },
   {
    "duration": 5,
    "start_time": "2022-10-27T05:29:52.655Z"
   },
   {
    "duration": 54,
    "start_time": "2022-10-27T05:29:52.662Z"
   },
   {
    "duration": 9,
    "start_time": "2022-10-27T05:29:52.717Z"
   },
   {
    "duration": 10,
    "start_time": "2022-10-27T05:29:52.727Z"
   },
   {
    "duration": 14,
    "start_time": "2022-10-27T05:29:52.738Z"
   },
   {
    "duration": 21,
    "start_time": "2022-10-27T05:29:52.753Z"
   },
   {
    "duration": 17,
    "start_time": "2022-10-27T05:29:52.775Z"
   },
   {
    "duration": 18,
    "start_time": "2022-10-27T05:29:52.793Z"
   },
   {
    "duration": 15,
    "start_time": "2022-10-27T05:29:52.812Z"
   },
   {
    "duration": 12,
    "start_time": "2022-10-27T05:29:52.828Z"
   },
   {
    "duration": 7,
    "start_time": "2022-10-27T05:29:52.841Z"
   },
   {
    "duration": 15,
    "start_time": "2022-10-27T05:29:52.850Z"
   },
   {
    "duration": 943,
    "start_time": "2022-10-27T05:29:52.866Z"
   },
   {
    "duration": 6,
    "start_time": "2022-10-27T05:29:53.811Z"
   },
   {
    "duration": 14,
    "start_time": "2022-10-27T05:29:53.819Z"
   },
   {
    "duration": 228,
    "start_time": "2022-10-27T05:29:53.835Z"
   },
   {
    "duration": 12,
    "start_time": "2022-10-27T05:29:54.064Z"
   },
   {
    "duration": 167,
    "start_time": "2022-10-27T05:29:54.077Z"
   },
   {
    "duration": 4,
    "start_time": "2022-10-27T05:29:54.247Z"
   },
   {
    "duration": 20,
    "start_time": "2022-10-27T05:29:54.252Z"
   },
   {
    "duration": 18,
    "start_time": "2022-10-27T05:29:54.273Z"
   },
   {
    "duration": 288,
    "start_time": "2022-10-27T05:29:54.292Z"
   },
   {
    "duration": 6,
    "start_time": "2022-10-27T05:29:54.582Z"
   },
   {
    "duration": 31,
    "start_time": "2022-10-27T05:29:54.590Z"
   },
   {
    "duration": 235,
    "start_time": "2022-10-27T05:32:20.305Z"
   },
   {
    "duration": 3,
    "start_time": "2022-10-27T05:47:34.796Z"
   },
   {
    "duration": 7,
    "start_time": "2022-10-27T05:47:38.932Z"
   },
   {
    "duration": 9,
    "start_time": "2022-10-27T05:49:17.487Z"
   },
   {
    "duration": 10,
    "start_time": "2022-10-27T05:50:44.851Z"
   },
   {
    "duration": 103,
    "start_time": "2022-10-27T05:53:04.638Z"
   },
   {
    "duration": 15,
    "start_time": "2022-10-27T05:59:43.754Z"
   },
   {
    "duration": 231,
    "start_time": "2022-10-27T06:03:26.726Z"
   },
   {
    "duration": 82,
    "start_time": "2022-10-27T06:20:04.343Z"
   },
   {
    "duration": 18,
    "start_time": "2022-10-27T06:20:04.428Z"
   },
   {
    "duration": 24,
    "start_time": "2022-10-27T06:20:04.448Z"
   },
   {
    "duration": 13,
    "start_time": "2022-10-27T06:20:04.474Z"
   },
   {
    "duration": 57,
    "start_time": "2022-10-27T06:20:04.488Z"
   },
   {
    "duration": 4,
    "start_time": "2022-10-27T06:20:04.547Z"
   },
   {
    "duration": 19,
    "start_time": "2022-10-27T06:20:04.553Z"
   },
   {
    "duration": 5,
    "start_time": "2022-10-27T06:20:04.575Z"
   },
   {
    "duration": 34,
    "start_time": "2022-10-27T06:20:04.582Z"
   },
   {
    "duration": 5,
    "start_time": "2022-10-27T06:20:04.619Z"
   },
   {
    "duration": 37,
    "start_time": "2022-10-27T06:20:04.626Z"
   },
   {
    "duration": 9,
    "start_time": "2022-10-27T06:20:04.664Z"
   },
   {
    "duration": 5,
    "start_time": "2022-10-27T06:20:04.674Z"
   },
   {
    "duration": 32,
    "start_time": "2022-10-27T06:20:04.680Z"
   },
   {
    "duration": 22,
    "start_time": "2022-10-27T06:20:04.713Z"
   },
   {
    "duration": 16,
    "start_time": "2022-10-27T06:20:04.737Z"
   },
   {
    "duration": 3,
    "start_time": "2022-10-27T06:20:04.755Z"
   },
   {
    "duration": 14,
    "start_time": "2022-10-27T06:20:04.760Z"
   },
   {
    "duration": 6,
    "start_time": "2022-10-27T06:20:04.776Z"
   },
   {
    "duration": 25,
    "start_time": "2022-10-27T06:20:04.784Z"
   },
   {
    "duration": 12,
    "start_time": "2022-10-27T06:20:04.811Z"
   },
   {
    "duration": 3,
    "start_time": "2022-10-27T06:20:04.824Z"
   },
   {
    "duration": 7,
    "start_time": "2022-10-27T06:20:04.829Z"
   },
   {
    "duration": 11,
    "start_time": "2022-10-27T06:20:04.837Z"
   },
   {
    "duration": 289,
    "start_time": "2022-10-27T06:20:04.850Z"
   },
   {
    "duration": 12,
    "start_time": "2022-10-27T06:20:05.141Z"
   },
   {
    "duration": 189,
    "start_time": "2022-10-27T06:20:05.155Z"
   },
   {
    "duration": 4,
    "start_time": "2022-10-27T06:20:05.348Z"
   },
   {
    "duration": 13,
    "start_time": "2022-10-27T06:20:05.354Z"
   },
   {
    "duration": 16,
    "start_time": "2022-10-27T06:20:05.368Z"
   },
   {
    "duration": 258,
    "start_time": "2022-10-27T06:20:05.385Z"
   },
   {
    "duration": 5,
    "start_time": "2022-10-27T06:20:05.645Z"
   },
   {
    "duration": 16,
    "start_time": "2022-10-27T06:20:05.653Z"
   },
   {
    "duration": 248,
    "start_time": "2022-10-27T06:20:05.671Z"
   },
   {
    "duration": 10,
    "start_time": "2022-10-27T06:20:05.921Z"
   },
   {
    "duration": 117,
    "start_time": "2022-10-27T06:20:05.932Z"
   },
   {
    "duration": 15,
    "start_time": "2022-10-27T06:20:06.050Z"
   },
   {
    "duration": 254,
    "start_time": "2022-10-27T06:20:06.066Z"
   },
   {
    "duration": 695,
    "start_time": "2022-10-27T11:39:02.564Z"
   },
   {
    "duration": 27,
    "start_time": "2022-10-27T11:39:03.261Z"
   },
   {
    "duration": 18,
    "start_time": "2022-10-27T11:39:03.289Z"
   },
   {
    "duration": 13,
    "start_time": "2022-10-27T11:39:03.309Z"
   },
   {
    "duration": 35,
    "start_time": "2022-10-27T11:39:03.324Z"
   },
   {
    "duration": 3,
    "start_time": "2022-10-27T11:39:03.361Z"
   },
   {
    "duration": 10,
    "start_time": "2022-10-27T11:39:03.366Z"
   },
   {
    "duration": 8,
    "start_time": "2022-10-27T11:39:03.378Z"
   },
   {
    "duration": 29,
    "start_time": "2022-10-27T11:39:03.388Z"
   },
   {
    "duration": 5,
    "start_time": "2022-10-27T11:39:03.420Z"
   },
   {
    "duration": 40,
    "start_time": "2022-10-27T11:39:03.427Z"
   },
   {
    "duration": 9,
    "start_time": "2022-10-27T11:39:03.469Z"
   },
   {
    "duration": 5,
    "start_time": "2022-10-27T11:39:03.479Z"
   },
   {
    "duration": 34,
    "start_time": "2022-10-27T11:39:03.486Z"
   },
   {
    "duration": 34,
    "start_time": "2022-10-27T11:39:03.522Z"
   },
   {
    "duration": 19,
    "start_time": "2022-10-27T11:39:03.557Z"
   },
   {
    "duration": 6,
    "start_time": "2022-10-27T11:39:03.578Z"
   },
   {
    "duration": 24,
    "start_time": "2022-10-27T11:39:03.585Z"
   },
   {
    "duration": 7,
    "start_time": "2022-10-27T11:39:03.611Z"
   },
   {
    "duration": 17,
    "start_time": "2022-10-27T11:39:03.620Z"
   },
   {
    "duration": 14,
    "start_time": "2022-10-27T11:39:03.639Z"
   },
   {
    "duration": 1054,
    "start_time": "2022-10-27T11:39:03.655Z"
   },
   {
    "duration": 7,
    "start_time": "2022-10-27T11:39:04.711Z"
   },
   {
    "duration": 21,
    "start_time": "2022-10-27T11:39:04.720Z"
   },
   {
    "duration": 240,
    "start_time": "2022-10-27T11:39:04.743Z"
   },
   {
    "duration": 12,
    "start_time": "2022-10-27T11:39:04.984Z"
   },
   {
    "duration": 174,
    "start_time": "2022-10-27T11:39:04.997Z"
   },
   {
    "duration": 4,
    "start_time": "2022-10-27T11:39:05.174Z"
   },
   {
    "duration": 16,
    "start_time": "2022-10-27T11:39:05.180Z"
   },
   {
    "duration": 27,
    "start_time": "2022-10-27T11:39:05.197Z"
   },
   {
    "duration": 263,
    "start_time": "2022-10-27T11:39:05.226Z"
   },
   {
    "duration": 5,
    "start_time": "2022-10-27T11:39:05.490Z"
   },
   {
    "duration": 31,
    "start_time": "2022-10-27T11:39:05.497Z"
   },
   {
    "duration": 247,
    "start_time": "2022-10-27T11:39:05.530Z"
   },
   {
    "duration": 11,
    "start_time": "2022-10-27T11:39:05.778Z"
   },
   {
    "duration": 146,
    "start_time": "2022-10-27T11:39:05.791Z"
   },
   {
    "duration": 15,
    "start_time": "2022-10-27T11:39:05.940Z"
   },
   {
    "duration": 245,
    "start_time": "2022-10-27T11:39:05.956Z"
   },
   {
    "duration": 1294,
    "start_time": "2022-10-27T13:24:16.732Z"
   },
   {
    "duration": 283,
    "start_time": "2022-10-27T13:24:18.028Z"
   },
   {
    "duration": 22,
    "start_time": "2022-10-27T13:24:18.313Z"
   },
   {
    "duration": 36,
    "start_time": "2022-10-27T13:24:18.337Z"
   },
   {
    "duration": 18,
    "start_time": "2022-10-27T13:24:18.375Z"
   },
   {
    "duration": 67,
    "start_time": "2022-10-27T13:24:18.395Z"
   },
   {
    "duration": 4,
    "start_time": "2022-10-27T13:24:18.464Z"
   },
   {
    "duration": 38,
    "start_time": "2022-10-27T13:24:18.470Z"
   },
   {
    "duration": 25,
    "start_time": "2022-10-27T13:24:18.510Z"
   },
   {
    "duration": 32,
    "start_time": "2022-10-27T13:24:18.538Z"
   },
   {
    "duration": 37,
    "start_time": "2022-10-27T13:24:18.571Z"
   },
   {
    "duration": 59,
    "start_time": "2022-10-27T13:24:18.609Z"
   },
   {
    "duration": 9,
    "start_time": "2022-10-27T13:24:18.670Z"
   },
   {
    "duration": 30,
    "start_time": "2022-10-27T13:24:18.681Z"
   },
   {
    "duration": 33,
    "start_time": "2022-10-27T13:24:18.713Z"
   },
   {
    "duration": 39,
    "start_time": "2022-10-27T13:24:18.748Z"
   },
   {
    "duration": 27,
    "start_time": "2022-10-27T13:24:18.789Z"
   },
   {
    "duration": 17,
    "start_time": "2022-10-27T13:24:18.818Z"
   },
   {
    "duration": 33,
    "start_time": "2022-10-27T13:24:18.836Z"
   },
   {
    "duration": 31,
    "start_time": "2022-10-27T13:24:18.871Z"
   },
   {
    "duration": 38,
    "start_time": "2022-10-27T13:24:18.904Z"
   },
   {
    "duration": 64,
    "start_time": "2022-10-27T13:24:18.944Z"
   },
   {
    "duration": 48,
    "start_time": "2022-10-27T13:24:19.010Z"
   },
   {
    "duration": 51,
    "start_time": "2022-10-27T13:24:19.060Z"
   },
   {
    "duration": 286,
    "start_time": "2022-10-27T13:24:19.114Z"
   },
   {
    "duration": 11,
    "start_time": "2022-10-27T13:24:19.402Z"
   },
   {
    "duration": 188,
    "start_time": "2022-10-27T13:24:19.421Z"
   },
   {
    "duration": 9,
    "start_time": "2022-10-27T13:24:19.613Z"
   },
   {
    "duration": 43,
    "start_time": "2022-10-27T13:24:19.624Z"
   },
   {
    "duration": 28,
    "start_time": "2022-10-27T13:24:19.669Z"
   },
   {
    "duration": 276,
    "start_time": "2022-10-27T13:24:19.699Z"
   },
   {
    "duration": 6,
    "start_time": "2022-10-27T13:24:19.976Z"
   },
   {
    "duration": 36,
    "start_time": "2022-10-27T13:24:19.983Z"
   },
   {
    "duration": 295,
    "start_time": "2022-10-27T13:24:20.020Z"
   },
   {
    "duration": 12,
    "start_time": "2022-10-27T13:24:20.317Z"
   },
   {
    "duration": 135,
    "start_time": "2022-10-27T13:24:20.330Z"
   },
   {
    "duration": 16,
    "start_time": "2022-10-27T13:24:20.467Z"
   },
   {
    "duration": 245,
    "start_time": "2022-10-27T13:24:20.485Z"
   },
   {
    "duration": 268,
    "start_time": "2022-10-27T13:31:18.322Z"
   },
   {
    "duration": 404,
    "start_time": "2022-10-27T13:34:28.754Z"
   },
   {
    "duration": 265,
    "start_time": "2022-10-27T13:35:49.812Z"
   },
   {
    "duration": 262,
    "start_time": "2022-10-27T13:36:55.917Z"
   },
   {
    "duration": 299,
    "start_time": "2022-10-27T13:37:19.845Z"
   },
   {
    "duration": 258,
    "start_time": "2022-10-27T13:37:45.806Z"
   },
   {
    "duration": 275,
    "start_time": "2022-10-27T13:47:33.234Z"
   },
   {
    "duration": 250,
    "start_time": "2022-10-27T13:50:02.106Z"
   },
   {
    "duration": 330,
    "start_time": "2022-10-27T13:51:48.131Z"
   },
   {
    "duration": 240,
    "start_time": "2022-10-27T13:52:40.948Z"
   },
   {
    "duration": 250,
    "start_time": "2022-10-27T13:58:52.239Z"
   },
   {
    "duration": 251,
    "start_time": "2022-10-27T14:00:13.878Z"
   },
   {
    "duration": 260,
    "start_time": "2022-10-27T14:00:57.271Z"
   },
   {
    "duration": 240,
    "start_time": "2022-10-27T14:01:21.593Z"
   },
   {
    "duration": 236,
    "start_time": "2022-10-27T14:07:18.717Z"
   },
   {
    "duration": 295,
    "start_time": "2022-10-27T14:07:27.649Z"
   },
   {
    "duration": 199,
    "start_time": "2022-10-27T14:07:42.706Z"
   },
   {
    "duration": 199,
    "start_time": "2022-10-27T14:09:19.954Z"
   },
   {
    "duration": 3,
    "start_time": "2022-10-27T14:14:50.382Z"
   },
   {
    "duration": 95,
    "start_time": "2022-10-27T14:14:50.387Z"
   },
   {
    "duration": 16,
    "start_time": "2022-10-27T14:14:50.484Z"
   },
   {
    "duration": 51,
    "start_time": "2022-10-27T14:14:50.502Z"
   },
   {
    "duration": 47,
    "start_time": "2022-10-27T14:14:50.556Z"
   },
   {
    "duration": 54,
    "start_time": "2022-10-27T14:14:50.605Z"
   },
   {
    "duration": 4,
    "start_time": "2022-10-27T14:14:50.661Z"
   },
   {
    "duration": 56,
    "start_time": "2022-10-27T14:14:50.675Z"
   },
   {
    "duration": 20,
    "start_time": "2022-10-27T14:14:50.733Z"
   },
   {
    "duration": 22,
    "start_time": "2022-10-27T14:14:50.755Z"
   },
   {
    "duration": 25,
    "start_time": "2022-10-27T14:14:50.780Z"
   },
   {
    "duration": 49,
    "start_time": "2022-10-27T14:14:50.807Z"
   },
   {
    "duration": 9,
    "start_time": "2022-10-27T14:14:50.858Z"
   },
   {
    "duration": 25,
    "start_time": "2022-10-27T14:14:50.869Z"
   },
   {
    "duration": 35,
    "start_time": "2022-10-27T14:14:50.896Z"
   },
   {
    "duration": 46,
    "start_time": "2022-10-27T14:14:50.933Z"
   },
   {
    "duration": 42,
    "start_time": "2022-10-27T14:14:50.981Z"
   },
   {
    "duration": 35,
    "start_time": "2022-10-27T14:14:51.025Z"
   },
   {
    "duration": 39,
    "start_time": "2022-10-27T14:14:51.062Z"
   },
   {
    "duration": 30,
    "start_time": "2022-10-27T14:14:51.103Z"
   },
   {
    "duration": 37,
    "start_time": "2022-10-27T14:14:51.135Z"
   },
   {
    "duration": 49,
    "start_time": "2022-10-27T14:14:51.174Z"
   },
   {
    "duration": 37,
    "start_time": "2022-10-27T14:14:51.226Z"
   },
   {
    "duration": 45,
    "start_time": "2022-10-27T14:14:51.264Z"
   },
   {
    "duration": 278,
    "start_time": "2022-10-27T14:14:51.311Z"
   },
   {
    "duration": 12,
    "start_time": "2022-10-27T14:14:51.591Z"
   },
   {
    "duration": 208,
    "start_time": "2022-10-27T14:14:51.604Z"
   },
   {
    "duration": 0,
    "start_time": "2022-10-27T14:14:51.823Z"
   },
   {
    "duration": 0,
    "start_time": "2022-10-27T14:14:51.825Z"
   },
   {
    "duration": 0,
    "start_time": "2022-10-27T14:14:51.826Z"
   },
   {
    "duration": 0,
    "start_time": "2022-10-27T14:14:51.827Z"
   },
   {
    "duration": 0,
    "start_time": "2022-10-27T14:14:51.829Z"
   },
   {
    "duration": 0,
    "start_time": "2022-10-27T14:14:51.830Z"
   },
   {
    "duration": 0,
    "start_time": "2022-10-27T14:14:51.831Z"
   },
   {
    "duration": 0,
    "start_time": "2022-10-27T14:14:51.832Z"
   },
   {
    "duration": 0,
    "start_time": "2022-10-27T14:14:51.833Z"
   },
   {
    "duration": 0,
    "start_time": "2022-10-27T14:14:51.834Z"
   },
   {
    "duration": 0,
    "start_time": "2022-10-27T14:14:51.835Z"
   },
   {
    "duration": 200,
    "start_time": "2022-10-27T14:15:45.141Z"
   },
   {
    "duration": 3,
    "start_time": "2022-10-27T14:16:09.260Z"
   },
   {
    "duration": 100,
    "start_time": "2022-10-27T14:16:09.265Z"
   },
   {
    "duration": 15,
    "start_time": "2022-10-27T14:16:09.367Z"
   },
   {
    "duration": 25,
    "start_time": "2022-10-27T14:16:09.384Z"
   },
   {
    "duration": 17,
    "start_time": "2022-10-27T14:16:09.411Z"
   },
   {
    "duration": 51,
    "start_time": "2022-10-27T14:16:09.430Z"
   },
   {
    "duration": 6,
    "start_time": "2022-10-27T14:16:09.483Z"
   },
   {
    "duration": 25,
    "start_time": "2022-10-27T14:16:09.490Z"
   },
   {
    "duration": 15,
    "start_time": "2022-10-27T14:16:09.517Z"
   },
   {
    "duration": 15,
    "start_time": "2022-10-27T14:16:09.533Z"
   },
   {
    "duration": 14,
    "start_time": "2022-10-27T14:16:09.551Z"
   },
   {
    "duration": 42,
    "start_time": "2022-10-27T14:16:09.566Z"
   },
   {
    "duration": 8,
    "start_time": "2022-10-27T14:16:09.610Z"
   },
   {
    "duration": 25,
    "start_time": "2022-10-27T14:16:09.619Z"
   },
   {
    "duration": 26,
    "start_time": "2022-10-27T14:16:09.646Z"
   },
   {
    "duration": 43,
    "start_time": "2022-10-27T14:16:09.673Z"
   },
   {
    "duration": 19,
    "start_time": "2022-10-27T14:16:09.718Z"
   },
   {
    "duration": 8,
    "start_time": "2022-10-27T14:16:09.739Z"
   },
   {
    "duration": 25,
    "start_time": "2022-10-27T14:16:09.749Z"
   },
   {
    "duration": 34,
    "start_time": "2022-10-27T14:16:09.775Z"
   },
   {
    "duration": 26,
    "start_time": "2022-10-27T14:16:09.811Z"
   },
   {
    "duration": 57,
    "start_time": "2022-10-27T14:16:09.839Z"
   },
   {
    "duration": 33,
    "start_time": "2022-10-27T14:16:09.898Z"
   },
   {
    "duration": 33,
    "start_time": "2022-10-27T14:16:09.932Z"
   },
   {
    "duration": 286,
    "start_time": "2022-10-27T14:16:09.966Z"
   },
   {
    "duration": 12,
    "start_time": "2022-10-27T14:16:10.253Z"
   },
   {
    "duration": 217,
    "start_time": "2022-10-27T14:16:10.267Z"
   },
   {
    "duration": 9,
    "start_time": "2022-10-27T14:16:10.486Z"
   },
   {
    "duration": 0,
    "start_time": "2022-10-27T14:16:10.497Z"
   },
   {
    "duration": 0,
    "start_time": "2022-10-27T14:16:10.499Z"
   },
   {
    "duration": 1,
    "start_time": "2022-10-27T14:16:10.499Z"
   },
   {
    "duration": 0,
    "start_time": "2022-10-27T14:16:10.501Z"
   },
   {
    "duration": 0,
    "start_time": "2022-10-27T14:16:10.521Z"
   },
   {
    "duration": 0,
    "start_time": "2022-10-27T14:16:10.522Z"
   },
   {
    "duration": 0,
    "start_time": "2022-10-27T14:16:10.524Z"
   },
   {
    "duration": 0,
    "start_time": "2022-10-27T14:16:10.525Z"
   },
   {
    "duration": 1,
    "start_time": "2022-10-27T14:16:10.526Z"
   },
   {
    "duration": 0,
    "start_time": "2022-10-27T14:16:10.528Z"
   },
   {
    "duration": 3,
    "start_time": "2022-10-27T14:16:33.715Z"
   },
   {
    "duration": 93,
    "start_time": "2022-10-27T14:16:33.720Z"
   },
   {
    "duration": 19,
    "start_time": "2022-10-27T14:16:33.816Z"
   },
   {
    "duration": 45,
    "start_time": "2022-10-27T14:16:33.837Z"
   },
   {
    "duration": 22,
    "start_time": "2022-10-27T14:16:33.885Z"
   },
   {
    "duration": 74,
    "start_time": "2022-10-27T14:16:33.909Z"
   },
   {
    "duration": 4,
    "start_time": "2022-10-27T14:16:33.985Z"
   },
   {
    "duration": 27,
    "start_time": "2022-10-27T14:16:33.991Z"
   },
   {
    "duration": 32,
    "start_time": "2022-10-27T14:16:34.020Z"
   },
   {
    "duration": 38,
    "start_time": "2022-10-27T14:16:34.054Z"
   },
   {
    "duration": 18,
    "start_time": "2022-10-27T14:16:34.095Z"
   },
   {
    "duration": 55,
    "start_time": "2022-10-27T14:16:34.115Z"
   },
   {
    "duration": 9,
    "start_time": "2022-10-27T14:16:34.172Z"
   },
   {
    "duration": 16,
    "start_time": "2022-10-27T14:16:34.183Z"
   },
   {
    "duration": 29,
    "start_time": "2022-10-27T14:16:34.200Z"
   },
   {
    "duration": 58,
    "start_time": "2022-10-27T14:16:34.231Z"
   },
   {
    "duration": 30,
    "start_time": "2022-10-27T14:16:34.292Z"
   },
   {
    "duration": 5,
    "start_time": "2022-10-27T14:16:34.324Z"
   },
   {
    "duration": 30,
    "start_time": "2022-10-27T14:16:34.330Z"
   },
   {
    "duration": 28,
    "start_time": "2022-10-27T14:16:34.362Z"
   },
   {
    "duration": 11,
    "start_time": "2022-10-27T14:16:34.391Z"
   },
   {
    "duration": 18,
    "start_time": "2022-10-27T14:16:34.404Z"
   },
   {
    "duration": 9,
    "start_time": "2022-10-27T14:16:34.424Z"
   },
   {
    "duration": 21,
    "start_time": "2022-10-27T14:16:34.435Z"
   },
   {
    "duration": 366,
    "start_time": "2022-10-27T14:16:34.458Z"
   },
   {
    "duration": 12,
    "start_time": "2022-10-27T14:16:34.825Z"
   },
   {
    "duration": 218,
    "start_time": "2022-10-27T14:16:34.839Z"
   },
   {
    "duration": 5,
    "start_time": "2022-10-27T14:16:35.059Z"
   },
   {
    "duration": 15,
    "start_time": "2022-10-27T14:16:35.068Z"
   },
   {
    "duration": 39,
    "start_time": "2022-10-27T14:16:35.085Z"
   },
   {
    "duration": 256,
    "start_time": "2022-10-27T14:16:35.126Z"
   },
   {
    "duration": 6,
    "start_time": "2022-10-27T14:16:35.384Z"
   },
   {
    "duration": 17,
    "start_time": "2022-10-27T14:16:35.392Z"
   },
   {
    "duration": 273,
    "start_time": "2022-10-27T14:16:35.421Z"
   },
   {
    "duration": 11,
    "start_time": "2022-10-27T14:16:35.696Z"
   },
   {
    "duration": 136,
    "start_time": "2022-10-27T14:16:35.708Z"
   },
   {
    "duration": 17,
    "start_time": "2022-10-27T14:16:35.846Z"
   },
   {
    "duration": 259,
    "start_time": "2022-10-27T14:16:35.864Z"
   },
   {
    "duration": 271,
    "start_time": "2022-10-27T14:32:30.924Z"
   },
   {
    "duration": 288,
    "start_time": "2022-10-27T14:33:44.268Z"
   },
   {
    "duration": 264,
    "start_time": "2022-10-27T14:34:05.475Z"
   },
   {
    "duration": 253,
    "start_time": "2022-10-27T14:34:32.253Z"
   },
   {
    "duration": 258,
    "start_time": "2022-10-27T14:34:43.335Z"
   },
   {
    "duration": 361,
    "start_time": "2022-10-27T14:35:11.444Z"
   },
   {
    "duration": 244,
    "start_time": "2022-10-27T14:36:57.043Z"
   },
   {
    "duration": 247,
    "start_time": "2022-10-27T15:44:02.240Z"
   },
   {
    "duration": 144,
    "start_time": "2022-10-27T15:45:19.108Z"
   },
   {
    "duration": 1197,
    "start_time": "2022-10-27T17:22:37.938Z"
   },
   {
    "duration": 127,
    "start_time": "2022-10-27T17:22:39.137Z"
   },
   {
    "duration": 18,
    "start_time": "2022-10-27T17:22:39.266Z"
   },
   {
    "duration": 13,
    "start_time": "2022-10-27T17:22:39.285Z"
   },
   {
    "duration": 8,
    "start_time": "2022-10-27T17:22:39.300Z"
   },
   {
    "duration": 31,
    "start_time": "2022-10-27T17:22:39.309Z"
   },
   {
    "duration": 3,
    "start_time": "2022-10-27T17:22:39.341Z"
   },
   {
    "duration": 9,
    "start_time": "2022-10-27T17:22:39.345Z"
   },
   {
    "duration": 3,
    "start_time": "2022-10-27T17:22:39.355Z"
   },
   {
    "duration": 8,
    "start_time": "2022-10-27T17:22:39.360Z"
   },
   {
    "duration": 4,
    "start_time": "2022-10-27T17:22:39.369Z"
   },
   {
    "duration": 55,
    "start_time": "2022-10-27T17:22:39.375Z"
   },
   {
    "duration": 8,
    "start_time": "2022-10-27T17:22:39.431Z"
   },
   {
    "duration": 3,
    "start_time": "2022-10-27T17:22:39.442Z"
   },
   {
    "duration": 12,
    "start_time": "2022-10-27T17:22:39.446Z"
   },
   {
    "duration": 20,
    "start_time": "2022-10-27T17:22:39.460Z"
   },
   {
    "duration": 38,
    "start_time": "2022-10-27T17:22:39.482Z"
   },
   {
    "duration": 3,
    "start_time": "2022-10-27T17:22:39.522Z"
   },
   {
    "duration": 12,
    "start_time": "2022-10-27T17:22:39.526Z"
   },
   {
    "duration": 8,
    "start_time": "2022-10-27T17:22:39.539Z"
   },
   {
    "duration": 3,
    "start_time": "2022-10-27T17:22:39.549Z"
   },
   {
    "duration": 13,
    "start_time": "2022-10-27T17:22:39.553Z"
   },
   {
    "duration": 4,
    "start_time": "2022-10-27T17:22:39.567Z"
   },
   {
    "duration": 12,
    "start_time": "2022-10-27T17:22:39.572Z"
   },
   {
    "duration": 253,
    "start_time": "2022-10-27T17:22:39.606Z"
   },
   {
    "duration": 11,
    "start_time": "2022-10-27T17:22:39.860Z"
   },
   {
    "duration": 201,
    "start_time": "2022-10-27T17:22:39.873Z"
   },
   {
    "duration": 5,
    "start_time": "2022-10-27T17:22:40.075Z"
   },
   {
    "duration": 26,
    "start_time": "2022-10-27T17:22:40.081Z"
   },
   {
    "duration": 17,
    "start_time": "2022-10-27T17:22:40.108Z"
   },
   {
    "duration": 269,
    "start_time": "2022-10-27T17:22:40.126Z"
   },
   {
    "duration": 10,
    "start_time": "2022-10-27T17:22:40.396Z"
   },
   {
    "duration": 16,
    "start_time": "2022-10-27T17:22:40.407Z"
   },
   {
    "duration": 259,
    "start_time": "2022-10-27T17:22:40.424Z"
   },
   {
    "duration": 9,
    "start_time": "2022-10-27T17:22:40.685Z"
   },
   {
    "duration": 124,
    "start_time": "2022-10-27T17:22:40.705Z"
   },
   {
    "duration": 14,
    "start_time": "2022-10-27T17:22:40.830Z"
   },
   {
    "duration": 257,
    "start_time": "2022-10-27T17:22:40.846Z"
   },
   {
    "duration": 1255,
    "start_time": "2022-10-27T19:09:17.290Z"
   },
   {
    "duration": 152,
    "start_time": "2022-10-27T19:09:18.548Z"
   },
   {
    "duration": 20,
    "start_time": "2022-10-27T19:09:18.702Z"
   },
   {
    "duration": 16,
    "start_time": "2022-10-27T19:09:18.725Z"
   },
   {
    "duration": 10,
    "start_time": "2022-10-27T19:09:18.742Z"
   },
   {
    "duration": 37,
    "start_time": "2022-10-27T19:09:18.754Z"
   },
   {
    "duration": 3,
    "start_time": "2022-10-27T19:09:18.793Z"
   },
   {
    "duration": 32,
    "start_time": "2022-10-27T19:09:18.798Z"
   },
   {
    "duration": 5,
    "start_time": "2022-10-27T19:09:18.832Z"
   },
   {
    "duration": 7,
    "start_time": "2022-10-27T19:09:18.841Z"
   },
   {
    "duration": 5,
    "start_time": "2022-10-27T19:09:18.850Z"
   },
   {
    "duration": 38,
    "start_time": "2022-10-27T19:09:18.857Z"
   },
   {
    "duration": 41,
    "start_time": "2022-10-27T19:09:18.896Z"
   },
   {
    "duration": 3,
    "start_time": "2022-10-27T19:09:18.939Z"
   },
   {
    "duration": 12,
    "start_time": "2022-10-27T19:09:18.944Z"
   },
   {
    "duration": 20,
    "start_time": "2022-10-27T19:09:18.957Z"
   },
   {
    "duration": 18,
    "start_time": "2022-10-27T19:09:18.979Z"
   },
   {
    "duration": 4,
    "start_time": "2022-10-27T19:09:19.029Z"
   },
   {
    "duration": 17,
    "start_time": "2022-10-27T19:09:19.034Z"
   },
   {
    "duration": 12,
    "start_time": "2022-10-27T19:09:19.052Z"
   },
   {
    "duration": 5,
    "start_time": "2022-10-27T19:09:19.066Z"
   },
   {
    "duration": 13,
    "start_time": "2022-10-27T19:09:19.073Z"
   },
   {
    "duration": 7,
    "start_time": "2022-10-27T19:09:19.087Z"
   },
   {
    "duration": 12,
    "start_time": "2022-10-27T19:09:19.095Z"
   },
   {
    "duration": 301,
    "start_time": "2022-10-27T19:09:19.130Z"
   },
   {
    "duration": 12,
    "start_time": "2022-10-27T19:09:19.433Z"
   },
   {
    "duration": 237,
    "start_time": "2022-10-27T19:09:19.447Z"
   },
   {
    "duration": 5,
    "start_time": "2022-10-27T19:09:19.687Z"
   },
   {
    "duration": 19,
    "start_time": "2022-10-27T19:09:19.693Z"
   },
   {
    "duration": 29,
    "start_time": "2022-10-27T19:09:19.714Z"
   },
   {
    "duration": 300,
    "start_time": "2022-10-27T19:09:19.745Z"
   },
   {
    "duration": 5,
    "start_time": "2022-10-27T19:09:20.047Z"
   },
   {
    "duration": 23,
    "start_time": "2022-10-27T19:09:20.054Z"
   },
   {
    "duration": 296,
    "start_time": "2022-10-27T19:09:20.079Z"
   },
   {
    "duration": 13,
    "start_time": "2022-10-27T19:09:20.377Z"
   },
   {
    "duration": 168,
    "start_time": "2022-10-27T19:09:20.392Z"
   },
   {
    "duration": 15,
    "start_time": "2022-10-27T19:09:20.562Z"
   },
   {
    "duration": 267,
    "start_time": "2022-10-27T19:09:20.578Z"
   },
   {
    "duration": 9,
    "start_time": "2022-10-27T19:12:02.225Z"
   },
   {
    "duration": 10,
    "start_time": "2022-10-27T19:13:51.718Z"
   },
   {
    "duration": 10,
    "start_time": "2022-10-27T19:14:03.657Z"
   }
  ],
  "colab": {
   "name": "dpp_template_part2.ipynb",
   "provenance": []
  },
  "kernelspec": {
   "display_name": "Python 3 (ipykernel)",
   "language": "python",
   "name": "python3"
  },
  "language_info": {
   "codemirror_mode": {
    "name": "ipython",
    "version": 3
   },
   "file_extension": ".py",
   "mimetype": "text/x-python",
   "name": "python",
   "nbconvert_exporter": "python",
   "pygments_lexer": "ipython3",
   "version": "3.9.16"
  },
  "toc": {
   "base_numbering": 1,
   "nav_menu": {
    "height": "414px",
    "width": "746px"
   },
   "number_sections": true,
   "sideBar": true,
   "skip_h1_title": true,
   "title_cell": "Table of Contents",
   "title_sidebar": "Contents",
   "toc_cell": false,
   "toc_position": {
    "height": "calc(100% - 180px)",
    "left": "10px",
    "top": "150px",
    "width": "265px"
   },
   "toc_section_display": true,
   "toc_window_display": false
  }
 },
 "nbformat": 4,
 "nbformat_minor": 5
}
